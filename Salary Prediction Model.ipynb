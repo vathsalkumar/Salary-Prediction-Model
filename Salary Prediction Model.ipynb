{
 "cells": [
  {
   "cell_type": "markdown",
   "id": "dc1c3fc4",
   "metadata": {},
   "source": [
    "### 1. Your views about the problem statement?\n",
    "Answer-\n",
    "Business Relevance: Determining the salaries of newly hired employees is a critical aspect of human resource management for any company. A well-designed machine learning model can assist in setting competitive and equitable salary offers, which can ultimately lead to higher employee satisfaction and better talent acquisition.\n",
    "Regression Task: This is a regression problem.\n",
    "\n",
    "Data Availability: The success of the machine learning model depends on the availability and quality of the training data. The dataset should contain historical salary information for existing employees and associated features. It's essential to have accurate, complete, and representative data.\n",
    "\n",
    "Feature Engineering: Feature engineering plays a crucial role in this task. You may need to consider which features are most relevant for predicting salaries and how to encode categorical features, such as job roles and locations. Domain knowledge can be valuable in this regard.\n",
    "\n",
    "Model Selection: Choosing an appropriate regression model is important. Linear regression is a common choice, but more complex models like decision tree regression, random forest regression, or gradient boosting can capture non-linear relationships in the data.\n",
    "\n",
    "Evaluation Metrics: To assess the model's performance, evaluation metrics like Mean Squared Error (MSE), Root Mean Squared Error (RMSE), Mean Absolute Error (MAE), and R-squared (R2) can be used. Cross-validation and testing on unseen data are necessary to ensure the model's generalization capability.\n",
    "\n",
    "Ethical Considerations: Ensuring fairness and avoiding bias in salary predictions is crucial. Models should be monitored for any signs of discrimination or inequity based on gender, race, or other protected characteristics.\n",
    "\n",
    "Model Deployment: Once the model is trained and validated, it can be integrated into the company's HR processes for salary determination. Regular updates and maintenance may be required as the data evolves.\n",
    "\n",
    "Data Privacy and Security: Protecting the privacy and security of employee data is paramount. The data should be anonymized and stored securely in compliance with data protection regulations.\n",
    "\n",
    "Communication and Transparency: Clear communication with relevant stakeholders, including HR and management, is essential. They need to understand how the model works, its limitations, and the factors it considers when determining salaries.\n"
   ]
  },
  {
   "cell_type": "markdown",
   "id": "a1f9ba55",
   "metadata": {},
   "source": [
    "### 2. What will be your approach to solving this task?\n",
    "Answer-\n",
    "The approach will involve data preprocessing, model selection, training, and evaluation. After comparing multiple regression models, the best-performing model will be selected.\n",
    "The approach to solving the task of predicting CTC (Cost To Company) using various independent variables involves several key steps:\n",
    "\n",
    "1.Data Preprocessing:\n",
    "Explore the dataset to understand its structure, check for missing values, and handle any data cleaning tasks if required.\n",
    "Convert categorical variables into numerical representations using techniques like one-hot encoding or label encoding.\n",
    "Split the dataset into features (X) and the target variable (y).\n",
    "\n",
    "2.Data Splitting:\n",
    "Split the dataset into training and testing subsets. The training set will be used to build the model, while the testing set will be used to evaluate its performance on unseen data.\n",
    "\n",
    "3.Model Selection:\n",
    "Choose a set of candidate regression models suitable for the problem, such as Linear Regression, Random Forest, Gradient Boosting, XGBoost, Lasso Regression, and SVR.\n",
    "Implement each model using the appropriate Python libraries (e.g., scikit-learn, XGBoost, LightGBM) and train them on the \n",
    "training data.\n",
    "\n",
    "4.Hyperparameter Tuning:\n",
    "Perform hyperparameter tuning for some models (e.g., Random Forest, SVR) using techniques like Grid Search or Random Search to find the best combination of hyperparameters that optimize model performance.\n",
    "\n",
    "5.Model Evaluation:\n",
    "Evaluate each model's performance on the testing data using metrics like R-squared, Mean Squared Error (MSE), Root Mean Squared Error (RMSE), and any other relevant metrics.\n",
    "Compare the performance of different models to identify the best-performing model based on the evaluation metrics.\n",
    "\n",
    "6.Overfitting Prevention:\n",
    "Take measures to prevent overfitting, especially for models that exhibit a large discrepancy between train and test R-squared values.\n",
    "Apply techniques like regularization, cross-validation, and feature engineering to improve generalization.\n",
    "\n",
    "7.Model Deployment:\n",
    "Once the best-performing model is identified, retrain it on the entire dataset (training and testing) to maximize its learning potential.\n",
    "Deploy the trained model to make predictions on new, unseen data.\n",
    "\n",
    "8.Continuous Improvement:\n",
    "Monitor the model's performance in real-world scenarios and collect feedback from stakeholders.\n",
    "Continuously improve the model by updating it with new data or retraining it with different techniques if necessary."
   ]
  },
  {
   "cell_type": "markdown",
   "id": "218bd9c3",
   "metadata": {},
   "source": [
    "### 3. What were the available ML model options you had to perform this task?\n",
    "Answer-\n",
    "In the context of the task of predicting CTC (Cost To Company) based on various independent variables, several machine learning regression models can be considered as available options. Some of the commonly used models for regression tasks include:\n",
    "\n",
    "1.Linear Regression: A simple and interpretable model that fits a linear relationship between the independent variables and the target variable.\n",
    "\n",
    "2.Random Forest: An ensemble learning method that builds multiple decision trees and combines their predictions to reduce overfitting and improve accuracy.\n",
    "\n",
    "3.Gradient Boosting: Another ensemble learning method that builds decision trees sequentially, where each tree corrects the errors of the previous one. It often provides high predictive accuracy.\n",
    "\n",
    "4.XGBoost: An optimized gradient boosting library known for its efficiency and high performance. It is an extension of the Gradient Boosting algorithm.\n",
    "\n",
    "5.Lasso Regression (L1 Regularization): A linear regression model with L1 regularization, which encourages sparsity by penalizing the absolute value of coefficients. It can be useful for feature selection.\n",
    "\n",
    "6.Support Vector Regression (SVR): A regression model that uses Support Vector Machines to find a hyperplane that best fits the data. It can handle non-linear relationships by using kernel functions.\n",
    "\n",
    "7.Neural Networks: A powerful and flexible model that can learn complex patterns and relationships in the data. Deep learning neural networks can be used for regression tasks.\n",
    "\n",
    "8.LightGBM: A gradient boosting framework that focuses on high efficiency and handles large-scale datasets.\n",
    "\n",
    "9.K-Nearest Neighbors (KNN) Regression: A non-parametric model that predicts the target variable based on the average of the K-nearest neighbors in the feature space.\n",
    "\n",
    "Each of these models has its own strengths and weaknesses, and their performance can vary depending on the specific characteristics of the dataset and the problem at hand. It's essential to experiment with different models, tune their hyperparameters, and evaluate their performance using appropriate metrics to identify the best-performing model for this specific task. Additionally, ensemble methods like stacking or blending can be used to combine the predictions of multiple models for further improvement in predictive accuracy."
   ]
  },
  {
   "cell_type": "markdown",
   "id": "e532edf0",
   "metadata": {},
   "source": [
    "### 4.Which model’s performance is best and what could be the possible reason for that?\n",
    "Answer-\n",
    "Determining the best-performing machine learning model for predicting the salary of newly hired employees depends on the specific dataset, the features available, and the complexity of the underlying relationships. The \"best\" model is typically the one that achieves the highest predictive accuracy on a testing dataset. Common evaluation metrics for regression tasks like this include Mean Squared Error (MSE), and R-squared (R2).\n",
    "The possible reasons for one model outperforming others can vary and may include: Data Complexity: The nature of the data and the underlying relationships between features and salary can significantly influence model performance. If the relationships are highly nonlinear, models like Random Forest Regression or Gradient Boosting Regression may perform better than linear models. Feature Engineering: The quality of feature engineering, including the selection and creation of relevant features, can impact model performance. Some models may be more sensitive to feature engineering than others. Overfitting: More complex models, such as deep neural networks or Random Forests with a large number of trees, may be prone to overfitting, especially if the dataset is small. Regularization techniques and proper hyperparameter tuning can mitigate overfitting. Bias-Variance Trade-Off: Models with higher complexity may have a higher variance, making them sensitive to noise in the data. Simpler models like Linear Regression may have lower variance but potentially higher bias. The choice between bias and variance depends on the dataset and the goals. Hyperparameter Tuning: The quality of hyperparameter tuning can significantly affect model performance. Grid search, randomized search, or Bayesian optimization can help find the optimal hyperparameters for each model. Cross-Validation: The choice of cross-validation strategy can influence the assessment of model performance. For instance, k-fold cross-validation may provide more reliable estimates of model performance compared to a single train-test split.\n",
    "\n",
    "For this DataSet the best model i like to suggested and i have done it is Random Forest Tree Rgression. Because it give more R-Squared score and MSE then any other model.\n"
   ]
  },
  {
   "cell_type": "markdown",
   "id": "468bd77b",
   "metadata": {},
   "source": [
    "### 5. What steps can you take to improve this selected model’s performance even further?\n",
    "Answer-\n",
    "To improve the performance of the selected model even further, you can take several steps and strategies. Here are some suggestions:\n",
    "\n",
    "1.Feature Engineering: Explore the data and engineer new features that may better capture the relationships between the independent variables and the target variable. Domain knowledge and creativity in feature engineering can lead to more informative features and improved model performance.\n",
    "\n",
    "2.Data Cleaning and Handling Missing Values: Ensure that the data is clean and handle any missing values appropriately. Filling missing values or using advanced imputation techniques can prevent information loss and enhance model performance.\n",
    "\n",
    "3.Outlier Detection and Treatment: Identify and handle outliers in the data. Outliers can significantly impact the model's performance and generalization. Consider using robust regression techniques or transformations to mitigate the influence of outliers.\n",
    "\n",
    "4.Feature Scaling: Scale the numerical features to a common range, such as normalization or standardization. Many machine learning algorithms perform better when features are on a similar scale.\n",
    "\n",
    "5.Hyperparameter Tuning: Continue hyperparameter tuning for the selected model to find the optimal combination of hyperparameters. Techniques like Grid Search, Random Search, or Bayesian Optimization can be used for this purpose.\n",
    "\n",
    "6.Ensemble Methods: Consider using ensemble methods like bagging or boosting to combine multiple models. Ensemble methods can often improve performance by reducing overfitting and enhancing predictive accuracy.\n",
    "\n",
    "7.Cross-Validation: Use cross-validation techniques, such as k-fold cross-validation, to obtain a more reliable estimate of the model's performance and prevent overfitting.\n",
    "\n",
    "8.Regularization: For linear models, apply regularization techniques like L1 (Lasso) or L2 (Ridge) regularization to prevent overfitting and improve model generalization.\n",
    "\n",
    "9.Feature Selection: Identify and select the most important features that have the most impact on the target variable. Feature selection can help simplify the model and remove irrelevant or redundant features.\n",
    "\n",
    "10.Data Augmentation: If the dataset is limited, consider data augmentation techniques to generate synthetic data points. This can increase the diversity of the data and improve the model's ability to generalize.\n",
    "\n",
    "11.Model Stacking: Experiment with model stacking, where the predictions of multiple models are combined as features for a meta-model. Stacking can further enhance predictive performance by leveraging the strengths of different models.\n",
    "\n",
    "12.Domain Expertise: Seek feedback and insights from domain experts to gain a deeper understanding of the problem and features. Domain expertise can lead to better feature engineering and model design.\n",
    "\n",
    "13.Regular Model Updates: In a real-world scenario, continue to collect new data and update the model periodically to adapt to changing patterns and ensure ongoing accuracy.\n",
    "\n",
    "Improving model performance is an iterative process. It involves experimentation, fine-tuning, and continuous evaluation to achieve the best possible results. It's essential to monitor the model's performance on new data and be willing to adjust the approach as needed to meet the desired accuracy and generalization goals.\n"
   ]
  },
  {
   "cell_type": "markdown",
   "id": "c8bce45e",
   "metadata": {},
   "source": [
    "# 1. Data Collection\n",
    "Load the given data using pandas library"
   ]
  },
  {
   "cell_type": "code",
   "execution_count": 1,
   "id": "47c2263e",
   "metadata": {},
   "outputs": [],
   "source": [
    "# Import all required library\n",
    "import pandas as pd\n",
    "from sklearn.model_selection import train_test_split\n",
    "from sklearn import preprocessing\n",
    "from sklearn.preprocessing import StandardScaler\n",
    "from sklearn.linear_model import LinearRegression\n",
    "from sklearn.metrics import mean_squared_error, r2_score\n",
    "import numpy as np\n",
    "import seaborn as sns\n",
    "from sklearn.linear_model import Ridge\n",
    "import matplotlib.pyplot as plt"
   ]
  },
  {
   "cell_type": "code",
   "execution_count": 2,
   "id": "bc97e8ac",
   "metadata": {},
   "outputs": [
    {
     "data": {
      "text/html": [
       "<div>\n",
       "<style scoped>\n",
       "    .dataframe tbody tr th:only-of-type {\n",
       "        vertical-align: middle;\n",
       "    }\n",
       "\n",
       "    .dataframe tbody tr th {\n",
       "        vertical-align: top;\n",
       "    }\n",
       "\n",
       "    .dataframe thead th {\n",
       "        text-align: right;\n",
       "    }\n",
       "</style>\n",
       "<table border=\"1\" class=\"dataframe\">\n",
       "  <thead>\n",
       "    <tr style=\"text-align: right;\">\n",
       "      <th></th>\n",
       "      <th>College</th>\n",
       "      <th>City</th>\n",
       "      <th>Role</th>\n",
       "      <th>Previous CTC</th>\n",
       "      <th>Previous job change</th>\n",
       "      <th>Graduation Marks</th>\n",
       "      <th>EXP (Month)</th>\n",
       "      <th>CTC</th>\n",
       "    </tr>\n",
       "  </thead>\n",
       "  <tbody>\n",
       "    <tr>\n",
       "      <th>0</th>\n",
       "      <td>SVNIT Surat</td>\n",
       "      <td>Asansol</td>\n",
       "      <td>Manager</td>\n",
       "      <td>55523.0</td>\n",
       "      <td>3</td>\n",
       "      <td>66</td>\n",
       "      <td>19</td>\n",
       "      <td>71406.58</td>\n",
       "    </tr>\n",
       "    <tr>\n",
       "      <th>1</th>\n",
       "      <td>NIT Bhopal</td>\n",
       "      <td>Ajmer</td>\n",
       "      <td>Executive</td>\n",
       "      <td>57081.0</td>\n",
       "      <td>1</td>\n",
       "      <td>84</td>\n",
       "      <td>18</td>\n",
       "      <td>68005.87</td>\n",
       "    </tr>\n",
       "    <tr>\n",
       "      <th>2</th>\n",
       "      <td>IEM, Kolkata</td>\n",
       "      <td>Rajpur Sonarpur</td>\n",
       "      <td>Executive</td>\n",
       "      <td>60347.0</td>\n",
       "      <td>2</td>\n",
       "      <td>52</td>\n",
       "      <td>28</td>\n",
       "      <td>76764.02</td>\n",
       "    </tr>\n",
       "    <tr>\n",
       "      <th>3</th>\n",
       "      <td>KIIT, Bhubaneswar</td>\n",
       "      <td>Ajmer</td>\n",
       "      <td>Executive</td>\n",
       "      <td>49010.0</td>\n",
       "      <td>2</td>\n",
       "      <td>81</td>\n",
       "      <td>33</td>\n",
       "      <td>82092.39</td>\n",
       "    </tr>\n",
       "    <tr>\n",
       "      <th>4</th>\n",
       "      <td>DTU</td>\n",
       "      <td>Durgapur</td>\n",
       "      <td>Executive</td>\n",
       "      <td>57879.0</td>\n",
       "      <td>4</td>\n",
       "      <td>74</td>\n",
       "      <td>32</td>\n",
       "      <td>73878.10</td>\n",
       "    </tr>\n",
       "  </tbody>\n",
       "</table>\n",
       "</div>"
      ],
      "text/plain": [
       "             College             City       Role  Previous CTC  \\\n",
       "0        SVNIT Surat          Asansol    Manager       55523.0   \n",
       "1         NIT Bhopal            Ajmer  Executive       57081.0   \n",
       "2       IEM, Kolkata  Rajpur Sonarpur  Executive       60347.0   \n",
       "3  KIIT, Bhubaneswar            Ajmer  Executive       49010.0   \n",
       "4                DTU         Durgapur  Executive       57879.0   \n",
       "\n",
       "   Previous job change  Graduation Marks  EXP (Month)       CTC  \n",
       "0                    3                66           19  71406.58  \n",
       "1                    1                84           18  68005.87  \n",
       "2                    2                52           28  76764.02  \n",
       "3                    2                81           33  82092.39  \n",
       "4                    4                74           32  73878.10  "
      ]
     },
     "execution_count": 2,
     "metadata": {},
     "output_type": "execute_result"
    }
   ],
   "source": [
    "# Load the data using pandas library\n",
    "df = pd.read_csv('C:/Users/Vathsal Kumar/Downloads/ML case Study.csv',header=0)\n",
    "\n",
    "# show first five rows of dataframe\n",
    "df.head()"
   ]
  },
  {
   "cell_type": "code",
   "execution_count": 3,
   "id": "8ae935e3",
   "metadata": {},
   "outputs": [
    {
     "data": {
      "text/html": [
       "<div>\n",
       "<style scoped>\n",
       "    .dataframe tbody tr th:only-of-type {\n",
       "        vertical-align: middle;\n",
       "    }\n",
       "\n",
       "    .dataframe tbody tr th {\n",
       "        vertical-align: top;\n",
       "    }\n",
       "\n",
       "    .dataframe thead th {\n",
       "        text-align: right;\n",
       "    }\n",
       "</style>\n",
       "<table border=\"1\" class=\"dataframe\">\n",
       "  <thead>\n",
       "    <tr style=\"text-align: right;\">\n",
       "      <th></th>\n",
       "      <th>Tier 1</th>\n",
       "      <th>Tier 2</th>\n",
       "      <th>Tier 3</th>\n",
       "    </tr>\n",
       "  </thead>\n",
       "  <tbody>\n",
       "    <tr>\n",
       "      <th>0</th>\n",
       "      <td>IIT Bombay</td>\n",
       "      <td>IIIT Bangalore</td>\n",
       "      <td>Ramaiah Institute of Technology, Bengaluru</td>\n",
       "    </tr>\n",
       "    <tr>\n",
       "      <th>1</th>\n",
       "      <td>IIT Delhi</td>\n",
       "      <td>IIIT Delhi</td>\n",
       "      <td>TIET/Thapar University</td>\n",
       "    </tr>\n",
       "    <tr>\n",
       "      <th>2</th>\n",
       "      <td>IIT Kharagpur</td>\n",
       "      <td>IGDTUW</td>\n",
       "      <td>Manipal Main Campus</td>\n",
       "    </tr>\n",
       "    <tr>\n",
       "      <th>3</th>\n",
       "      <td>IIT Madras</td>\n",
       "      <td>NIT Calicut</td>\n",
       "      <td>VIT Vellore</td>\n",
       "    </tr>\n",
       "    <tr>\n",
       "      <th>4</th>\n",
       "      <td>IIT Kanpur</td>\n",
       "      <td>IIITM Gwalior</td>\n",
       "      <td>SRM Main Campus</td>\n",
       "    </tr>\n",
       "  </tbody>\n",
       "</table>\n",
       "</div>"
      ],
      "text/plain": [
       "          Tier 1          Tier 2                                      Tier 3\n",
       "0     IIT Bombay  IIIT Bangalore  Ramaiah Institute of Technology, Bengaluru\n",
       "1      IIT Delhi      IIIT Delhi                      TIET/Thapar University\n",
       "2  IIT Kharagpur          IGDTUW                         Manipal Main Campus\n",
       "3     IIT Madras     NIT Calicut                                 VIT Vellore\n",
       "4     IIT Kanpur   IIITM Gwalior                             SRM Main Campus"
      ]
     },
     "execution_count": 3,
     "metadata": {},
     "output_type": "execute_result"
    }
   ],
   "source": [
    "# Load the data using pandas library\n",
    "college = pd.read_csv('C:/Users/Vathsal Kumar/Downloads/Colleges.csv',header=0)\n",
    "\n",
    "# To view first five rows of dataframe\n",
    "college.head()"
   ]
  },
  {
   "cell_type": "code",
   "execution_count": 4,
   "id": "13f4a049",
   "metadata": {},
   "outputs": [
    {
     "data": {
      "text/html": [
       "<div>\n",
       "<style scoped>\n",
       "    .dataframe tbody tr th:only-of-type {\n",
       "        vertical-align: middle;\n",
       "    }\n",
       "\n",
       "    .dataframe tbody tr th {\n",
       "        vertical-align: top;\n",
       "    }\n",
       "\n",
       "    .dataframe thead th {\n",
       "        text-align: right;\n",
       "    }\n",
       "</style>\n",
       "<table border=\"1\" class=\"dataframe\">\n",
       "  <thead>\n",
       "    <tr style=\"text-align: right;\">\n",
       "      <th></th>\n",
       "      <th>Metrio City</th>\n",
       "      <th>non-metro cities</th>\n",
       "    </tr>\n",
       "  </thead>\n",
       "  <tbody>\n",
       "    <tr>\n",
       "      <th>0</th>\n",
       "      <td>Mumbai</td>\n",
       "      <td>Dehradun</td>\n",
       "    </tr>\n",
       "    <tr>\n",
       "      <th>1</th>\n",
       "      <td>Delhi</td>\n",
       "      <td>Durgapur</td>\n",
       "    </tr>\n",
       "    <tr>\n",
       "      <th>2</th>\n",
       "      <td>Kolkata</td>\n",
       "      <td>Asansol</td>\n",
       "    </tr>\n",
       "    <tr>\n",
       "      <th>3</th>\n",
       "      <td>Chennai</td>\n",
       "      <td>Rourkela</td>\n",
       "    </tr>\n",
       "    <tr>\n",
       "      <th>4</th>\n",
       "      <td>Bangalore</td>\n",
       "      <td>Kozhikode</td>\n",
       "    </tr>\n",
       "  </tbody>\n",
       "</table>\n",
       "</div>"
      ],
      "text/plain": [
       "  Metrio City non-metro cities\n",
       "0      Mumbai         Dehradun\n",
       "1       Delhi         Durgapur\n",
       "2     Kolkata          Asansol\n",
       "3     Chennai         Rourkela\n",
       "4   Bangalore        Kozhikode"
      ]
     },
     "execution_count": 4,
     "metadata": {},
     "output_type": "execute_result"
    }
   ],
   "source": [
    "# Load the data using pandas library\n",
    "cities = pd.read_csv('C:/Users/Vathsal Kumar/Downloads/cities.csv',header=0)\n",
    "\n",
    "# To view first five rows of dataframe\n",
    "cities.head()"
   ]
  },
  {
   "cell_type": "code",
   "execution_count": 5,
   "id": "773d629e",
   "metadata": {},
   "outputs": [],
   "source": [
    "# Convert college dataframe into 3 lists\n",
    "Tier1 = college[\"Tier 1\"].tolist()\n",
    "Tier2 = college[\"Tier 2\"].tolist()\n",
    "Tier3 = college[\"Tier 3\"].tolist()"
   ]
  },
  {
   "cell_type": "code",
   "execution_count": 6,
   "id": "61052df1",
   "metadata": {},
   "outputs": [
    {
     "data": {
      "text/plain": [
       "['IIT Bombay',\n",
       " 'IIT Delhi',\n",
       " 'IIT Kharagpur',\n",
       " 'IIT Madras',\n",
       " 'IIT Kanpur',\n",
       " 'IIT Roorkee',\n",
       " 'IIT Guwahati',\n",
       " 'IIIT Hyderabad',\n",
       " 'BITS Pilani (Pilani Campus)',\n",
       " 'IIT Indore',\n",
       " 'IIT Ropar',\n",
       " 'IIT BHU (Varanasi)',\n",
       " 'IIT ISM Dhanbad',\n",
       " 'DTU',\n",
       " 'NSUT Delhi (NSIT)',\n",
       " 'NIT Tiruchipally (Trichy)',\n",
       " 'NIT Warangal',\n",
       " 'NIT Surathkal (Karnataka)',\n",
       " 'Jadavpur University',\n",
       " 'BITS Pilani (Hyderabad Campus)',\n",
       " 'BITS Pilani (Goa Campus)',\n",
       " 'IIIT Allahabad',\n",
       " nan,\n",
       " nan,\n",
       " nan,\n",
       " nan,\n",
       " nan,\n",
       " nan]"
      ]
     },
     "execution_count": 6,
     "metadata": {},
     "output_type": "execute_result"
    }
   ],
   "source": [
    "# To view the list data of Tier1 for checking purpose\n",
    "Tier1"
   ]
  },
  {
   "cell_type": "code",
   "execution_count": 7,
   "id": "39c4eeef",
   "metadata": {},
   "outputs": [],
   "source": [
    "# Replace first loaded dataframe i.e.df , college column with list category i.e.Tier1,Tier2,Tier3\n",
    "\n",
    "for item in df.College:\n",
    "    if item in Tier1:\n",
    "        df[\"College\"].replace(item,1,inplace=True)\n",
    "    elif item in Tier2:\n",
    "        df[\"College\"].replace(item,2,inplace=True)\n",
    "    elif item in Tier3:\n",
    "        df[\"College\"].replace(item,3,inplace=True)"
   ]
  },
  {
   "cell_type": "code",
   "execution_count": 8,
   "id": "aa491d90",
   "metadata": {},
   "outputs": [
    {
     "data": {
      "text/html": [
       "<div>\n",
       "<style scoped>\n",
       "    .dataframe tbody tr th:only-of-type {\n",
       "        vertical-align: middle;\n",
       "    }\n",
       "\n",
       "    .dataframe tbody tr th {\n",
       "        vertical-align: top;\n",
       "    }\n",
       "\n",
       "    .dataframe thead th {\n",
       "        text-align: right;\n",
       "    }\n",
       "</style>\n",
       "<table border=\"1\" class=\"dataframe\">\n",
       "  <thead>\n",
       "    <tr style=\"text-align: right;\">\n",
       "      <th></th>\n",
       "      <th>College</th>\n",
       "      <th>City</th>\n",
       "      <th>Role</th>\n",
       "      <th>Previous CTC</th>\n",
       "      <th>Previous job change</th>\n",
       "      <th>Graduation Marks</th>\n",
       "      <th>EXP (Month)</th>\n",
       "      <th>CTC</th>\n",
       "    </tr>\n",
       "  </thead>\n",
       "  <tbody>\n",
       "    <tr>\n",
       "      <th>0</th>\n",
       "      <td>2</td>\n",
       "      <td>Asansol</td>\n",
       "      <td>Manager</td>\n",
       "      <td>55523.0</td>\n",
       "      <td>3</td>\n",
       "      <td>66</td>\n",
       "      <td>19</td>\n",
       "      <td>71406.58</td>\n",
       "    </tr>\n",
       "    <tr>\n",
       "      <th>1</th>\n",
       "      <td>2</td>\n",
       "      <td>Ajmer</td>\n",
       "      <td>Executive</td>\n",
       "      <td>57081.0</td>\n",
       "      <td>1</td>\n",
       "      <td>84</td>\n",
       "      <td>18</td>\n",
       "      <td>68005.87</td>\n",
       "    </tr>\n",
       "    <tr>\n",
       "      <th>2</th>\n",
       "      <td>3</td>\n",
       "      <td>Rajpur Sonarpur</td>\n",
       "      <td>Executive</td>\n",
       "      <td>60347.0</td>\n",
       "      <td>2</td>\n",
       "      <td>52</td>\n",
       "      <td>28</td>\n",
       "      <td>76764.02</td>\n",
       "    </tr>\n",
       "    <tr>\n",
       "      <th>3</th>\n",
       "      <td>3</td>\n",
       "      <td>Ajmer</td>\n",
       "      <td>Executive</td>\n",
       "      <td>49010.0</td>\n",
       "      <td>2</td>\n",
       "      <td>81</td>\n",
       "      <td>33</td>\n",
       "      <td>82092.39</td>\n",
       "    </tr>\n",
       "    <tr>\n",
       "      <th>4</th>\n",
       "      <td>1</td>\n",
       "      <td>Durgapur</td>\n",
       "      <td>Executive</td>\n",
       "      <td>57879.0</td>\n",
       "      <td>4</td>\n",
       "      <td>74</td>\n",
       "      <td>32</td>\n",
       "      <td>73878.10</td>\n",
       "    </tr>\n",
       "  </tbody>\n",
       "</table>\n",
       "</div>"
      ],
      "text/plain": [
       "   College             City       Role  Previous CTC  Previous job change  \\\n",
       "0        2          Asansol    Manager       55523.0                    3   \n",
       "1        2            Ajmer  Executive       57081.0                    1   \n",
       "2        3  Rajpur Sonarpur  Executive       60347.0                    2   \n",
       "3        3            Ajmer  Executive       49010.0                    2   \n",
       "4        1         Durgapur  Executive       57879.0                    4   \n",
       "\n",
       "   Graduation Marks  EXP (Month)       CTC  \n",
       "0                66           19  71406.58  \n",
       "1                84           18  68005.87  \n",
       "2                52           28  76764.02  \n",
       "3                81           33  82092.39  \n",
       "4                74           32  73878.10  "
      ]
     },
     "execution_count": 8,
     "metadata": {},
     "output_type": "execute_result"
    }
   ],
   "source": [
    "# To view the first five rows of dataframe for checking if college column is replace with correct list category or not\n",
    "df.head()"
   ]
  },
  {
   "cell_type": "code",
   "execution_count": 9,
   "id": "a6a2c4e6",
   "metadata": {},
   "outputs": [],
   "source": [
    "# Convert Cities dataframe into list\n",
    "metro_city = cities[\"Metrio City\"].tolist()\n",
    "non_metro_city = cities[\"non-metro cities\"].tolist()"
   ]
  },
  {
   "cell_type": "code",
   "execution_count": 10,
   "id": "43b575e9",
   "metadata": {},
   "outputs": [],
   "source": [
    "# Replace first loaded dataframe i.e.df , city column with list category i.e.Metro_city ,non_metro_city\n",
    "for item in df.City:\n",
    "    if item in metro_city:\n",
    "        df[\"City\"].replace(item,1,inplace=True)\n",
    "    elif item in non_metro_city:\n",
    "        df[\"City\"].replace(item,0,inplace=True)"
   ]
  },
  {
   "cell_type": "code",
   "execution_count": 11,
   "id": "f2559d12",
   "metadata": {},
   "outputs": [
    {
     "data": {
      "text/html": [
       "<div>\n",
       "<style scoped>\n",
       "    .dataframe tbody tr th:only-of-type {\n",
       "        vertical-align: middle;\n",
       "    }\n",
       "\n",
       "    .dataframe tbody tr th {\n",
       "        vertical-align: top;\n",
       "    }\n",
       "\n",
       "    .dataframe thead th {\n",
       "        text-align: right;\n",
       "    }\n",
       "</style>\n",
       "<table border=\"1\" class=\"dataframe\">\n",
       "  <thead>\n",
       "    <tr style=\"text-align: right;\">\n",
       "      <th></th>\n",
       "      <th>College</th>\n",
       "      <th>City</th>\n",
       "      <th>Role</th>\n",
       "      <th>Previous CTC</th>\n",
       "      <th>Previous job change</th>\n",
       "      <th>Graduation Marks</th>\n",
       "      <th>EXP (Month)</th>\n",
       "      <th>CTC</th>\n",
       "    </tr>\n",
       "  </thead>\n",
       "  <tbody>\n",
       "    <tr>\n",
       "      <th>0</th>\n",
       "      <td>2</td>\n",
       "      <td>0</td>\n",
       "      <td>Manager</td>\n",
       "      <td>55523.0</td>\n",
       "      <td>3</td>\n",
       "      <td>66</td>\n",
       "      <td>19</td>\n",
       "      <td>71406.58</td>\n",
       "    </tr>\n",
       "    <tr>\n",
       "      <th>1</th>\n",
       "      <td>2</td>\n",
       "      <td>0</td>\n",
       "      <td>Executive</td>\n",
       "      <td>57081.0</td>\n",
       "      <td>1</td>\n",
       "      <td>84</td>\n",
       "      <td>18</td>\n",
       "      <td>68005.87</td>\n",
       "    </tr>\n",
       "    <tr>\n",
       "      <th>2</th>\n",
       "      <td>3</td>\n",
       "      <td>0</td>\n",
       "      <td>Executive</td>\n",
       "      <td>60347.0</td>\n",
       "      <td>2</td>\n",
       "      <td>52</td>\n",
       "      <td>28</td>\n",
       "      <td>76764.02</td>\n",
       "    </tr>\n",
       "    <tr>\n",
       "      <th>3</th>\n",
       "      <td>3</td>\n",
       "      <td>0</td>\n",
       "      <td>Executive</td>\n",
       "      <td>49010.0</td>\n",
       "      <td>2</td>\n",
       "      <td>81</td>\n",
       "      <td>33</td>\n",
       "      <td>82092.39</td>\n",
       "    </tr>\n",
       "    <tr>\n",
       "      <th>4</th>\n",
       "      <td>1</td>\n",
       "      <td>0</td>\n",
       "      <td>Executive</td>\n",
       "      <td>57879.0</td>\n",
       "      <td>4</td>\n",
       "      <td>74</td>\n",
       "      <td>32</td>\n",
       "      <td>73878.10</td>\n",
       "    </tr>\n",
       "  </tbody>\n",
       "</table>\n",
       "</div>"
      ],
      "text/plain": [
       "   College  City       Role  Previous CTC  Previous job change  \\\n",
       "0        2     0    Manager       55523.0                    3   \n",
       "1        2     0  Executive       57081.0                    1   \n",
       "2        3     0  Executive       60347.0                    2   \n",
       "3        3     0  Executive       49010.0                    2   \n",
       "4        1     0  Executive       57879.0                    4   \n",
       "\n",
       "   Graduation Marks  EXP (Month)       CTC  \n",
       "0                66           19  71406.58  \n",
       "1                84           18  68005.87  \n",
       "2                52           28  76764.02  \n",
       "3                81           33  82092.39  \n",
       "4                74           32  73878.10  "
      ]
     },
     "execution_count": 11,
     "metadata": {},
     "output_type": "execute_result"
    }
   ],
   "source": [
    "# To view first five rows of dataframe for checkig purpose\n",
    "df.head()"
   ]
  },
  {
   "cell_type": "markdown",
   "id": "ebc7b070",
   "metadata": {},
   "source": [
    "# 2. Data Preprocessing\n",
    "Convert the categorical features like \"College name,\" \"City,\" and \"Role\" into numerical format using one-hot encoding or label encoding.Perform any necessary feature scaling or normalization."
   ]
  },
  {
   "cell_type": "markdown",
   "id": "7cba62f4",
   "metadata": {},
   "source": [
    "## Missing value Imputation"
   ]
  },
  {
   "cell_type": "code",
   "execution_count": 12,
   "id": "8a56d2a7",
   "metadata": {},
   "outputs": [
    {
     "name": "stdout",
     "output_type": "stream",
     "text": [
      "<class 'pandas.core.frame.DataFrame'>\n",
      "RangeIndex: 1589 entries, 0 to 1588\n",
      "Data columns (total 8 columns):\n",
      " #   Column               Non-Null Count  Dtype  \n",
      "---  ------               --------------  -----  \n",
      " 0   College              1589 non-null   int64  \n",
      " 1   City                 1589 non-null   int64  \n",
      " 2   Role                 1589 non-null   object \n",
      " 3   Previous CTC         1589 non-null   float64\n",
      " 4   Previous job change  1589 non-null   int64  \n",
      " 5   Graduation Marks     1589 non-null   int64  \n",
      " 6   EXP (Month)          1589 non-null   int64  \n",
      " 7   CTC                  1589 non-null   float64\n",
      "dtypes: float64(2), int64(5), object(1)\n",
      "memory usage: 99.4+ KB\n"
     ]
    }
   ],
   "source": [
    "# Analyse the explicit view of the dataframe in order to find any missing values in any attributes\n",
    "df.info()"
   ]
  },
  {
   "cell_type": "markdown",
   "id": "66bb128e",
   "metadata": {},
   "source": [
    "#### Observation-\n",
    "we have not found any missing values in any data attributes so there is no need to do missing value imputation."
   ]
  },
  {
   "cell_type": "markdown",
   "id": "82fbaffb",
   "metadata": {},
   "source": [
    "## Dummy Variable creation\n",
    "\n",
    "To convert categorical variable into numerical"
   ]
  },
  {
   "cell_type": "code",
   "execution_count": 13,
   "id": "969c7a00",
   "metadata": {
    "scrolled": true
   },
   "outputs": [
    {
     "data": {
      "text/html": [
       "<div>\n",
       "<style scoped>\n",
       "    .dataframe tbody tr th:only-of-type {\n",
       "        vertical-align: middle;\n",
       "    }\n",
       "\n",
       "    .dataframe tbody tr th {\n",
       "        vertical-align: top;\n",
       "    }\n",
       "\n",
       "    .dataframe thead th {\n",
       "        text-align: right;\n",
       "    }\n",
       "</style>\n",
       "<table border=\"1\" class=\"dataframe\">\n",
       "  <thead>\n",
       "    <tr style=\"text-align: right;\">\n",
       "      <th></th>\n",
       "      <th>College</th>\n",
       "      <th>City</th>\n",
       "      <th>Previous CTC</th>\n",
       "      <th>Previous job change</th>\n",
       "      <th>Graduation Marks</th>\n",
       "      <th>EXP (Month)</th>\n",
       "      <th>CTC</th>\n",
       "      <th>Role_Manager</th>\n",
       "    </tr>\n",
       "  </thead>\n",
       "  <tbody>\n",
       "    <tr>\n",
       "      <th>0</th>\n",
       "      <td>2</td>\n",
       "      <td>0</td>\n",
       "      <td>55523.0</td>\n",
       "      <td>3</td>\n",
       "      <td>66</td>\n",
       "      <td>19</td>\n",
       "      <td>71406.58</td>\n",
       "      <td>True</td>\n",
       "    </tr>\n",
       "    <tr>\n",
       "      <th>1</th>\n",
       "      <td>2</td>\n",
       "      <td>0</td>\n",
       "      <td>57081.0</td>\n",
       "      <td>1</td>\n",
       "      <td>84</td>\n",
       "      <td>18</td>\n",
       "      <td>68005.87</td>\n",
       "      <td>False</td>\n",
       "    </tr>\n",
       "    <tr>\n",
       "      <th>2</th>\n",
       "      <td>3</td>\n",
       "      <td>0</td>\n",
       "      <td>60347.0</td>\n",
       "      <td>2</td>\n",
       "      <td>52</td>\n",
       "      <td>28</td>\n",
       "      <td>76764.02</td>\n",
       "      <td>False</td>\n",
       "    </tr>\n",
       "    <tr>\n",
       "      <th>3</th>\n",
       "      <td>3</td>\n",
       "      <td>0</td>\n",
       "      <td>49010.0</td>\n",
       "      <td>2</td>\n",
       "      <td>81</td>\n",
       "      <td>33</td>\n",
       "      <td>82092.39</td>\n",
       "      <td>False</td>\n",
       "    </tr>\n",
       "    <tr>\n",
       "      <th>4</th>\n",
       "      <td>1</td>\n",
       "      <td>0</td>\n",
       "      <td>57879.0</td>\n",
       "      <td>4</td>\n",
       "      <td>74</td>\n",
       "      <td>32</td>\n",
       "      <td>73878.10</td>\n",
       "      <td>False</td>\n",
       "    </tr>\n",
       "  </tbody>\n",
       "</table>\n",
       "</div>"
      ],
      "text/plain": [
       "   College  City  Previous CTC  Previous job change  Graduation Marks  \\\n",
       "0        2     0       55523.0                    3                66   \n",
       "1        2     0       57081.0                    1                84   \n",
       "2        3     0       60347.0                    2                52   \n",
       "3        3     0       49010.0                    2                81   \n",
       "4        1     0       57879.0                    4                74   \n",
       "\n",
       "   EXP (Month)       CTC  Role_Manager  \n",
       "0           19  71406.58          True  \n",
       "1           18  68005.87         False  \n",
       "2           28  76764.02         False  \n",
       "3           33  82092.39         False  \n",
       "4           32  73878.10         False  "
      ]
     },
     "execution_count": 13,
     "metadata": {},
     "output_type": "execute_result"
    }
   ],
   "source": [
    "# Get dummy variables for object datatype column name 'Role' in order to convert it into numerical value\n",
    "df = pd.get_dummies(df, columns=['Role'], drop_first=True)\n",
    "\n",
    "# To view the first five rows of dataframe to check\n",
    "df.head()"
   ]
  },
  {
   "cell_type": "code",
   "execution_count": 14,
   "id": "a41eeb65",
   "metadata": {},
   "outputs": [],
   "source": [
    "# Converting created dummy variable values into integer.\n",
    "\n",
    "df = df.astype({\"Role_Manager\" : \"int\"})"
   ]
  },
  {
   "cell_type": "code",
   "execution_count": 15,
   "id": "83895576",
   "metadata": {},
   "outputs": [
    {
     "data": {
      "text/html": [
       "<div>\n",
       "<style scoped>\n",
       "    .dataframe tbody tr th:only-of-type {\n",
       "        vertical-align: middle;\n",
       "    }\n",
       "\n",
       "    .dataframe tbody tr th {\n",
       "        vertical-align: top;\n",
       "    }\n",
       "\n",
       "    .dataframe thead th {\n",
       "        text-align: right;\n",
       "    }\n",
       "</style>\n",
       "<table border=\"1\" class=\"dataframe\">\n",
       "  <thead>\n",
       "    <tr style=\"text-align: right;\">\n",
       "      <th></th>\n",
       "      <th>College</th>\n",
       "      <th>City</th>\n",
       "      <th>Previous CTC</th>\n",
       "      <th>Previous job change</th>\n",
       "      <th>Graduation Marks</th>\n",
       "      <th>EXP (Month)</th>\n",
       "      <th>CTC</th>\n",
       "      <th>Role_Manager</th>\n",
       "    </tr>\n",
       "  </thead>\n",
       "  <tbody>\n",
       "    <tr>\n",
       "      <th>0</th>\n",
       "      <td>2</td>\n",
       "      <td>0</td>\n",
       "      <td>55523.0</td>\n",
       "      <td>3</td>\n",
       "      <td>66</td>\n",
       "      <td>19</td>\n",
       "      <td>71406.58</td>\n",
       "      <td>1</td>\n",
       "    </tr>\n",
       "    <tr>\n",
       "      <th>1</th>\n",
       "      <td>2</td>\n",
       "      <td>0</td>\n",
       "      <td>57081.0</td>\n",
       "      <td>1</td>\n",
       "      <td>84</td>\n",
       "      <td>18</td>\n",
       "      <td>68005.87</td>\n",
       "      <td>0</td>\n",
       "    </tr>\n",
       "    <tr>\n",
       "      <th>2</th>\n",
       "      <td>3</td>\n",
       "      <td>0</td>\n",
       "      <td>60347.0</td>\n",
       "      <td>2</td>\n",
       "      <td>52</td>\n",
       "      <td>28</td>\n",
       "      <td>76764.02</td>\n",
       "      <td>0</td>\n",
       "    </tr>\n",
       "    <tr>\n",
       "      <th>3</th>\n",
       "      <td>3</td>\n",
       "      <td>0</td>\n",
       "      <td>49010.0</td>\n",
       "      <td>2</td>\n",
       "      <td>81</td>\n",
       "      <td>33</td>\n",
       "      <td>82092.39</td>\n",
       "      <td>0</td>\n",
       "    </tr>\n",
       "    <tr>\n",
       "      <th>4</th>\n",
       "      <td>1</td>\n",
       "      <td>0</td>\n",
       "      <td>57879.0</td>\n",
       "      <td>4</td>\n",
       "      <td>74</td>\n",
       "      <td>32</td>\n",
       "      <td>73878.10</td>\n",
       "      <td>0</td>\n",
       "    </tr>\n",
       "  </tbody>\n",
       "</table>\n",
       "</div>"
      ],
      "text/plain": [
       "   College  City  Previous CTC  Previous job change  Graduation Marks  \\\n",
       "0        2     0       55523.0                    3                66   \n",
       "1        2     0       57081.0                    1                84   \n",
       "2        3     0       60347.0                    2                52   \n",
       "3        3     0       49010.0                    2                81   \n",
       "4        1     0       57879.0                    4                74   \n",
       "\n",
       "   EXP (Month)       CTC  Role_Manager  \n",
       "0           19  71406.58             1  \n",
       "1           18  68005.87             0  \n",
       "2           28  76764.02             0  \n",
       "3           33  82092.39             0  \n",
       "4           32  73878.10             0  "
      ]
     },
     "execution_count": 15,
     "metadata": {},
     "output_type": "execute_result"
    }
   ],
   "source": [
    "# Checking dummy variables are converted into int or not\n",
    "\n",
    "df.head()"
   ]
  },
  {
   "cell_type": "markdown",
   "id": "e71a6905",
   "metadata": {},
   "source": [
    "## Correlation\n",
    "\n",
    " To Check the correlation between independent and dependent to check tendency between them."
   ]
  },
  {
   "cell_type": "code",
   "execution_count": 16,
   "id": "ce02b03c",
   "metadata": {},
   "outputs": [
    {
     "data": {
      "text/html": [
       "<div>\n",
       "<style scoped>\n",
       "    .dataframe tbody tr th:only-of-type {\n",
       "        vertical-align: middle;\n",
       "    }\n",
       "\n",
       "    .dataframe tbody tr th {\n",
       "        vertical-align: top;\n",
       "    }\n",
       "\n",
       "    .dataframe thead th {\n",
       "        text-align: right;\n",
       "    }\n",
       "</style>\n",
       "<table border=\"1\" class=\"dataframe\">\n",
       "  <thead>\n",
       "    <tr style=\"text-align: right;\">\n",
       "      <th></th>\n",
       "      <th>College</th>\n",
       "      <th>City</th>\n",
       "      <th>Previous CTC</th>\n",
       "      <th>Previous job change</th>\n",
       "      <th>Graduation Marks</th>\n",
       "      <th>EXP (Month)</th>\n",
       "      <th>CTC</th>\n",
       "      <th>Role_Manager</th>\n",
       "    </tr>\n",
       "  </thead>\n",
       "  <tbody>\n",
       "    <tr>\n",
       "      <th>College</th>\n",
       "      <td>1.000000</td>\n",
       "      <td>-0.014946</td>\n",
       "      <td>0.041979</td>\n",
       "      <td>-0.055060</td>\n",
       "      <td>0.003539</td>\n",
       "      <td>0.011752</td>\n",
       "      <td>-0.029592</td>\n",
       "      <td>-0.014749</td>\n",
       "    </tr>\n",
       "    <tr>\n",
       "      <th>City</th>\n",
       "      <td>-0.014946</td>\n",
       "      <td>1.000000</td>\n",
       "      <td>0.004644</td>\n",
       "      <td>0.051670</td>\n",
       "      <td>-0.018616</td>\n",
       "      <td>-0.023613</td>\n",
       "      <td>-0.020365</td>\n",
       "      <td>-0.048671</td>\n",
       "    </tr>\n",
       "    <tr>\n",
       "      <th>Previous CTC</th>\n",
       "      <td>0.041979</td>\n",
       "      <td>0.004644</td>\n",
       "      <td>1.000000</td>\n",
       "      <td>0.005756</td>\n",
       "      <td>-0.032976</td>\n",
       "      <td>0.119163</td>\n",
       "      <td>0.258000</td>\n",
       "      <td>0.012321</td>\n",
       "    </tr>\n",
       "    <tr>\n",
       "      <th>Previous job change</th>\n",
       "      <td>-0.055060</td>\n",
       "      <td>0.051670</td>\n",
       "      <td>0.005756</td>\n",
       "      <td>1.000000</td>\n",
       "      <td>0.019267</td>\n",
       "      <td>0.023488</td>\n",
       "      <td>0.011370</td>\n",
       "      <td>-0.017150</td>\n",
       "    </tr>\n",
       "    <tr>\n",
       "      <th>Graduation Marks</th>\n",
       "      <td>0.003539</td>\n",
       "      <td>-0.018616</td>\n",
       "      <td>-0.032976</td>\n",
       "      <td>0.019267</td>\n",
       "      <td>1.000000</td>\n",
       "      <td>-0.057061</td>\n",
       "      <td>-0.005450</td>\n",
       "      <td>0.017858</td>\n",
       "    </tr>\n",
       "    <tr>\n",
       "      <th>EXP (Month)</th>\n",
       "      <td>0.011752</td>\n",
       "      <td>-0.023613</td>\n",
       "      <td>0.119163</td>\n",
       "      <td>0.023488</td>\n",
       "      <td>-0.057061</td>\n",
       "      <td>1.000000</td>\n",
       "      <td>0.301115</td>\n",
       "      <td>-0.026751</td>\n",
       "    </tr>\n",
       "    <tr>\n",
       "      <th>CTC</th>\n",
       "      <td>-0.029592</td>\n",
       "      <td>-0.020365</td>\n",
       "      <td>0.258000</td>\n",
       "      <td>0.011370</td>\n",
       "      <td>-0.005450</td>\n",
       "      <td>0.301115</td>\n",
       "      <td>1.000000</td>\n",
       "      <td>0.621311</td>\n",
       "    </tr>\n",
       "    <tr>\n",
       "      <th>Role_Manager</th>\n",
       "      <td>-0.014749</td>\n",
       "      <td>-0.048671</td>\n",
       "      <td>0.012321</td>\n",
       "      <td>-0.017150</td>\n",
       "      <td>0.017858</td>\n",
       "      <td>-0.026751</td>\n",
       "      <td>0.621311</td>\n",
       "      <td>1.000000</td>\n",
       "    </tr>\n",
       "  </tbody>\n",
       "</table>\n",
       "</div>"
      ],
      "text/plain": [
       "                      College      City  Previous CTC  Previous job change  \\\n",
       "College              1.000000 -0.014946      0.041979            -0.055060   \n",
       "City                -0.014946  1.000000      0.004644             0.051670   \n",
       "Previous CTC         0.041979  0.004644      1.000000             0.005756   \n",
       "Previous job change -0.055060  0.051670      0.005756             1.000000   \n",
       "Graduation Marks     0.003539 -0.018616     -0.032976             0.019267   \n",
       "EXP (Month)          0.011752 -0.023613      0.119163             0.023488   \n",
       "CTC                 -0.029592 -0.020365      0.258000             0.011370   \n",
       "Role_Manager        -0.014749 -0.048671      0.012321            -0.017150   \n",
       "\n",
       "                     Graduation Marks  EXP (Month)       CTC  Role_Manager  \n",
       "College                      0.003539     0.011752 -0.029592     -0.014749  \n",
       "City                        -0.018616    -0.023613 -0.020365     -0.048671  \n",
       "Previous CTC                -0.032976     0.119163  0.258000      0.012321  \n",
       "Previous job change          0.019267     0.023488  0.011370     -0.017150  \n",
       "Graduation Marks             1.000000    -0.057061 -0.005450      0.017858  \n",
       "EXP (Month)                 -0.057061     1.000000  0.301115     -0.026751  \n",
       "CTC                         -0.005450     0.301115  1.000000      0.621311  \n",
       "Role_Manager                 0.017858    -0.026751  0.621311      1.000000  "
      ]
     },
     "execution_count": 16,
     "metadata": {},
     "output_type": "execute_result"
    }
   ],
   "source": [
    "# Checking correrlation between two independent variables to remove unneccessary variable (if value > 0.8)\n",
    "\n",
    "df.corr()\n"
   ]
  },
  {
   "cell_type": "code",
   "execution_count": null,
   "id": "0762be19",
   "metadata": {},
   "outputs": [],
   "source": []
  },
  {
   "cell_type": "markdown",
   "id": "e250217d",
   "metadata": {},
   "source": [
    "## Outliers Treatment"
   ]
  },
  {
   "cell_type": "code",
   "execution_count": 17,
   "id": "c1c8e61a",
   "metadata": {},
   "outputs": [
    {
     "data": {
      "text/html": [
       "<div>\n",
       "<style scoped>\n",
       "    .dataframe tbody tr th:only-of-type {\n",
       "        vertical-align: middle;\n",
       "    }\n",
       "\n",
       "    .dataframe tbody tr th {\n",
       "        vertical-align: top;\n",
       "    }\n",
       "\n",
       "    .dataframe thead th {\n",
       "        text-align: right;\n",
       "    }\n",
       "</style>\n",
       "<table border=\"1\" class=\"dataframe\">\n",
       "  <thead>\n",
       "    <tr style=\"text-align: right;\">\n",
       "      <th></th>\n",
       "      <th>College</th>\n",
       "      <th>City</th>\n",
       "      <th>Previous CTC</th>\n",
       "      <th>Previous job change</th>\n",
       "      <th>Graduation Marks</th>\n",
       "      <th>EXP (Month)</th>\n",
       "      <th>CTC</th>\n",
       "      <th>Role_Manager</th>\n",
       "    </tr>\n",
       "  </thead>\n",
       "  <tbody>\n",
       "    <tr>\n",
       "      <th>count</th>\n",
       "      <td>1589.000000</td>\n",
       "      <td>1589.000000</td>\n",
       "      <td>1589.000000</td>\n",
       "      <td>1589.000000</td>\n",
       "      <td>1589.000000</td>\n",
       "      <td>1589.000000</td>\n",
       "      <td>1589.000000</td>\n",
       "      <td>1589.000000</td>\n",
       "    </tr>\n",
       "    <tr>\n",
       "      <th>mean</th>\n",
       "      <td>1.975456</td>\n",
       "      <td>0.514160</td>\n",
       "      <td>55518.453744</td>\n",
       "      <td>2.528634</td>\n",
       "      <td>59.855255</td>\n",
       "      <td>39.044682</td>\n",
       "      <td>75353.278798</td>\n",
       "      <td>0.206419</td>\n",
       "    </tr>\n",
       "    <tr>\n",
       "      <th>std</th>\n",
       "      <td>0.838330</td>\n",
       "      <td>0.499957</td>\n",
       "      <td>6655.218445</td>\n",
       "      <td>1.123918</td>\n",
       "      <td>14.935139</td>\n",
       "      <td>14.108875</td>\n",
       "      <td>12587.288237</td>\n",
       "      <td>0.404862</td>\n",
       "    </tr>\n",
       "    <tr>\n",
       "      <th>min</th>\n",
       "      <td>1.000000</td>\n",
       "      <td>0.000000</td>\n",
       "      <td>36990.000000</td>\n",
       "      <td>1.000000</td>\n",
       "      <td>35.000000</td>\n",
       "      <td>18.000000</td>\n",
       "      <td>53020.320000</td>\n",
       "      <td>0.000000</td>\n",
       "    </tr>\n",
       "    <tr>\n",
       "      <th>25%</th>\n",
       "      <td>1.000000</td>\n",
       "      <td>0.000000</td>\n",
       "      <td>50518.000000</td>\n",
       "      <td>2.000000</td>\n",
       "      <td>46.000000</td>\n",
       "      <td>26.000000</td>\n",
       "      <td>66902.350000</td>\n",
       "      <td>0.000000</td>\n",
       "    </tr>\n",
       "    <tr>\n",
       "      <th>50%</th>\n",
       "      <td>2.000000</td>\n",
       "      <td>1.000000</td>\n",
       "      <td>55291.000000</td>\n",
       "      <td>3.000000</td>\n",
       "      <td>60.000000</td>\n",
       "      <td>39.000000</td>\n",
       "      <td>73028.670000</td>\n",
       "      <td>0.000000</td>\n",
       "    </tr>\n",
       "    <tr>\n",
       "      <th>75%</th>\n",
       "      <td>3.000000</td>\n",
       "      <td>1.000000</td>\n",
       "      <td>60109.000000</td>\n",
       "      <td>4.000000</td>\n",
       "      <td>73.000000</td>\n",
       "      <td>51.000000</td>\n",
       "      <td>80588.670000</td>\n",
       "      <td>0.000000</td>\n",
       "    </tr>\n",
       "    <tr>\n",
       "      <th>max</th>\n",
       "      <td>3.000000</td>\n",
       "      <td>1.000000</td>\n",
       "      <td>77911.000000</td>\n",
       "      <td>4.000000</td>\n",
       "      <td>85.000000</td>\n",
       "      <td>64.000000</td>\n",
       "      <td>123416.990000</td>\n",
       "      <td>1.000000</td>\n",
       "    </tr>\n",
       "  </tbody>\n",
       "</table>\n",
       "</div>"
      ],
      "text/plain": [
       "           College         City  Previous CTC  Previous job change  \\\n",
       "count  1589.000000  1589.000000   1589.000000          1589.000000   \n",
       "mean      1.975456     0.514160  55518.453744             2.528634   \n",
       "std       0.838330     0.499957   6655.218445             1.123918   \n",
       "min       1.000000     0.000000  36990.000000             1.000000   \n",
       "25%       1.000000     0.000000  50518.000000             2.000000   \n",
       "50%       2.000000     1.000000  55291.000000             3.000000   \n",
       "75%       3.000000     1.000000  60109.000000             4.000000   \n",
       "max       3.000000     1.000000  77911.000000             4.000000   \n",
       "\n",
       "       Graduation Marks  EXP (Month)            CTC  Role_Manager  \n",
       "count       1589.000000  1589.000000    1589.000000   1589.000000  \n",
       "mean          59.855255    39.044682   75353.278798      0.206419  \n",
       "std           14.935139    14.108875   12587.288237      0.404862  \n",
       "min           35.000000    18.000000   53020.320000      0.000000  \n",
       "25%           46.000000    26.000000   66902.350000      0.000000  \n",
       "50%           60.000000    39.000000   73028.670000      0.000000  \n",
       "75%           73.000000    51.000000   80588.670000      0.000000  \n",
       "max           85.000000    64.000000  123416.990000      1.000000  "
      ]
     },
     "execution_count": 17,
     "metadata": {},
     "output_type": "execute_result"
    }
   ],
   "source": [
    "# Get Exploratory Data Description to find any missing values or outlier in the dataset\n",
    "df.describe()"
   ]
  },
  {
   "cell_type": "code",
   "execution_count": null,
   "id": "10be283f",
   "metadata": {},
   "outputs": [],
   "source": []
  },
  {
   "cell_type": "code",
   "execution_count": 18,
   "id": "777c9723",
   "metadata": {},
   "outputs": [
    {
     "data": {
      "text/plain": [
       "<seaborn.axisgrid.JointGrid at 0x20005ae1bd0>"
      ]
     },
     "execution_count": 18,
     "metadata": {},
     "output_type": "execute_result"
    },
    {
     "data": {
      "image/png": "[encoded data removed]",
      "text/plain": [
       "<Figure size 600x600 with 3 Axes>"
      ]
     },
     "metadata": {},
     "output_type": "display_data"
    }
   ],
   "source": [
    "# Checking outlier using jointplot between independent (\"Previous CTC\") and dependent variable that is \"CTC\".\n",
    "\n",
    "sns.jointplot(x = \"Previous CTC\", y = \"CTC\", data = df)"
   ]
  },
  {
   "cell_type": "code",
   "execution_count": 19,
   "id": "f02023eb",
   "metadata": {},
   "outputs": [
    {
     "data": {
      "text/plain": [
       "<seaborn.axisgrid.JointGrid at 0x20006b15910>"
      ]
     },
     "execution_count": 19,
     "metadata": {},
     "output_type": "execute_result"
    },
    {
     "data": {
      "image/png": "[encoded data removed]",
      "text/plain": [
       "<Figure size 600x600 with 3 Axes>"
      ]
     },
     "metadata": {},
     "output_type": "display_data"
    }
   ],
   "source": [
    "# Checking outlier using jointplot between independent (\"Previous job change\") and dependent variable that is \"CTC\".\n",
    "\n",
    "sns.jointplot(x = \"Previous job change\", y = \"CTC\", data = df)"
   ]
  },
  {
   "cell_type": "code",
   "execution_count": 20,
   "id": "9494be0e",
   "metadata": {},
   "outputs": [
    {
     "data": {
      "text/plain": [
       "<seaborn.axisgrid.JointGrid at 0x200061ad290>"
      ]
     },
     "execution_count": 20,
     "metadata": {},
     "output_type": "execute_result"
    },
    {
     "data": {
      "image/png": "[encoded data removed]",
      "text/plain": [
       "<Figure size 600x600 with 3 Axes>"
      ]
     },
     "metadata": {},
     "output_type": "display_data"
    }
   ],
   "source": [
    "# Checking outlier using jointplot between independent (\"Graduation Marks\") and dependent variable that is \"CTC\".\n",
    "\n",
    "sns.jointplot(x = \"Graduation Marks\", y = \"CTC\", data = df)"
   ]
  },
  {
   "cell_type": "code",
   "execution_count": 21,
   "id": "89b09d66",
   "metadata": {},
   "outputs": [
    {
     "data": {
      "text/plain": [
       "<seaborn.axisgrid.JointGrid at 0x200061776d0>"
      ]
     },
     "execution_count": 21,
     "metadata": {},
     "output_type": "execute_result"
    },
    {
     "data": {
      "image/png": "[encoded data removed]",
      "text/plain": [
       "<Figure size 600x600 with 3 Axes>"
      ]
     },
     "metadata": {},
     "output_type": "display_data"
    }
   ],
   "source": [
    "# Checking outlier using jointplot between independent (\"EXP (Month)\") and dependent variable that is \"CTC\".\n",
    "\n",
    "sns.jointplot(x = \"EXP (Month)\", y = \"CTC\", data = df)"
   ]
  },
  {
   "cell_type": "code",
   "execution_count": 22,
   "id": "5ba8d525",
   "metadata": {},
   "outputs": [
    {
     "data": {
      "text/plain": [
       "<seaborn.axisgrid.JointGrid at 0x20006e7f490>"
      ]
     },
     "execution_count": 22,
     "metadata": {},
     "output_type": "execute_result"
    },
    {
     "data": {
      "image/png": "[encoded data removed]",
      "text/plain": [
       "<Figure size 600x600 with 3 Axes>"
      ]
     },
     "metadata": {},
     "output_type": "display_data"
    }
   ],
   "source": [
    "# Checking outlier using jointplot between independent (\"College\") and dependent variable that is \"CTC\".\n",
    "\n",
    "sns.jointplot(x = \"College\", y = \"CTC\", data = df)"
   ]
  },
  {
   "cell_type": "markdown",
   "id": "31652772",
   "metadata": {},
   "source": [
    "Observation :-\n",
    "\n",
    "             Did not found any outlier between dependent and independent variables.There is no data points that is far away from the exact data points.By analyzing EDD there is no difference between mean and median for each attributes.Also by analyzing EDD there is no huge difference between min to 25% and 75% to maximum."
   ]
  },
  {
   "cell_type": "markdown",
   "id": "0165f13b",
   "metadata": {},
   "source": [
    "# 3. Data Spliting\n",
    "Split the data into dependent and independent variables"
   ]
  },
  {
   "cell_type": "code",
   "execution_count": 23,
   "id": "eaf31422",
   "metadata": {},
   "outputs": [],
   "source": [
    "#  Split the data into features (X) and target (y) i.e independent and dependent variables \n",
    "X = df.drop('CTC', axis=1)\n",
    "y = df['CTC']"
   ]
  },
  {
   "cell_type": "code",
   "execution_count": 24,
   "id": "b15befb8",
   "metadata": {},
   "outputs": [
    {
     "data": {
      "text/html": [
       "<div>\n",
       "<style scoped>\n",
       "    .dataframe tbody tr th:only-of-type {\n",
       "        vertical-align: middle;\n",
       "    }\n",
       "\n",
       "    .dataframe tbody tr th {\n",
       "        vertical-align: top;\n",
       "    }\n",
       "\n",
       "    .dataframe thead th {\n",
       "        text-align: right;\n",
       "    }\n",
       "</style>\n",
       "<table border=\"1\" class=\"dataframe\">\n",
       "  <thead>\n",
       "    <tr style=\"text-align: right;\">\n",
       "      <th></th>\n",
       "      <th>College</th>\n",
       "      <th>City</th>\n",
       "      <th>Previous CTC</th>\n",
       "      <th>Previous job change</th>\n",
       "      <th>Graduation Marks</th>\n",
       "      <th>EXP (Month)</th>\n",
       "      <th>Role_Manager</th>\n",
       "    </tr>\n",
       "  </thead>\n",
       "  <tbody>\n",
       "    <tr>\n",
       "      <th>0</th>\n",
       "      <td>2</td>\n",
       "      <td>0</td>\n",
       "      <td>55523.0</td>\n",
       "      <td>3</td>\n",
       "      <td>66</td>\n",
       "      <td>19</td>\n",
       "      <td>1</td>\n",
       "    </tr>\n",
       "    <tr>\n",
       "      <th>1</th>\n",
       "      <td>2</td>\n",
       "      <td>0</td>\n",
       "      <td>57081.0</td>\n",
       "      <td>1</td>\n",
       "      <td>84</td>\n",
       "      <td>18</td>\n",
       "      <td>0</td>\n",
       "    </tr>\n",
       "    <tr>\n",
       "      <th>2</th>\n",
       "      <td>3</td>\n",
       "      <td>0</td>\n",
       "      <td>60347.0</td>\n",
       "      <td>2</td>\n",
       "      <td>52</td>\n",
       "      <td>28</td>\n",
       "      <td>0</td>\n",
       "    </tr>\n",
       "    <tr>\n",
       "      <th>3</th>\n",
       "      <td>3</td>\n",
       "      <td>0</td>\n",
       "      <td>49010.0</td>\n",
       "      <td>2</td>\n",
       "      <td>81</td>\n",
       "      <td>33</td>\n",
       "      <td>0</td>\n",
       "    </tr>\n",
       "    <tr>\n",
       "      <th>4</th>\n",
       "      <td>1</td>\n",
       "      <td>0</td>\n",
       "      <td>57879.0</td>\n",
       "      <td>4</td>\n",
       "      <td>74</td>\n",
       "      <td>32</td>\n",
       "      <td>0</td>\n",
       "    </tr>\n",
       "  </tbody>\n",
       "</table>\n",
       "</div>"
      ],
      "text/plain": [
       "   College  City  Previous CTC  Previous job change  Graduation Marks  \\\n",
       "0        2     0       55523.0                    3                66   \n",
       "1        2     0       57081.0                    1                84   \n",
       "2        3     0       60347.0                    2                52   \n",
       "3        3     0       49010.0                    2                81   \n",
       "4        1     0       57879.0                    4                74   \n",
       "\n",
       "   EXP (Month)  Role_Manager  \n",
       "0           19             1  \n",
       "1           18             0  \n",
       "2           28             0  \n",
       "3           33             0  \n",
       "4           32             0  "
      ]
     },
     "execution_count": 24,
     "metadata": {},
     "output_type": "execute_result"
    }
   ],
   "source": [
    "# First five rows of independent variable X\n",
    "\n",
    "X.head()"
   ]
  },
  {
   "cell_type": "code",
   "execution_count": 25,
   "id": "d2a4a24d",
   "metadata": {},
   "outputs": [
    {
     "data": {
      "text/plain": [
       "0    71406.58\n",
       "1    68005.87\n",
       "2    76764.02\n",
       "3    82092.39\n",
       "4    73878.10\n",
       "Name: CTC, dtype: float64"
      ]
     },
     "execution_count": 25,
     "metadata": {},
     "output_type": "execute_result"
    }
   ],
   "source": [
    "# First five rows of Dependent variable Y\n",
    "\n",
    "y.head()"
   ]
  },
  {
   "cell_type": "markdown",
   "id": "9ad45e49",
   "metadata": {},
   "source": [
    "## 4.Model Selection\n",
    "Selecting regression models that are acceptable for predicting salary based on the input features. There are choices like, such as Linear Regression, Ridge regresson, Lasso Regression, KNN, Random forest Regression, Gradient boosting and XG Boosting regression."
   ]
  },
  {
   "cell_type": "markdown",
   "id": "df45e62c",
   "metadata": {},
   "source": [
    "## Simple linear regression"
   ]
  },
  {
   "cell_type": "code",
   "execution_count": 26,
   "id": "e76dd685",
   "metadata": {},
   "outputs": [],
   "source": [
    "# Import regression model library\n",
    "import statsmodels.api as sn"
   ]
  },
  {
   "cell_type": "code",
   "execution_count": 27,
   "id": "bc83f8b6",
   "metadata": {},
   "outputs": [],
   "source": [
    "# Creating constant variable for X\n",
    "\n",
    "X_cons = sn.add_constant(X)"
   ]
  },
  {
   "cell_type": "code",
   "execution_count": 28,
   "id": "5099b021",
   "metadata": {},
   "outputs": [],
   "source": [
    "# Model fitting to X and y features\n",
    "lm = sn.OLS(y,X_cons).fit()"
   ]
  },
  {
   "cell_type": "code",
   "execution_count": 29,
   "id": "0ab0f46e",
   "metadata": {},
   "outputs": [
    {
     "data": {
      "text/html": [
       "<table class=\"simpletable\">\n",
       "<caption>OLS Regression Results</caption>\n",
       "<tr>\n",
       "  <th>Dep. Variable:</th>           <td>CTC</td>       <th>  R-squared:         </th> <td>   0.534</td> \n",
       "</tr>\n",
       "<tr>\n",
       "  <th>Model:</th>                   <td>OLS</td>       <th>  Adj. R-squared:    </th> <td>   0.532</td> \n",
       "</tr>\n",
       "<tr>\n",
       "  <th>Method:</th>             <td>Least Squares</td>  <th>  F-statistic:       </th> <td>   259.1</td> \n",
       "</tr>\n",
       "<tr>\n",
       "  <th>Date:</th>             <td>Tue, 28 Nov 2023</td> <th>  Prob (F-statistic):</th> <td>4.70e-257</td>\n",
       "</tr>\n",
       "<tr>\n",
       "  <th>Time:</th>                 <td>16:27:00</td>     <th>  Log-Likelihood:    </th> <td> -16648.</td> \n",
       "</tr>\n",
       "<tr>\n",
       "  <th>No. Observations:</th>      <td>  1589</td>      <th>  AIC:               </th> <td>3.331e+04</td>\n",
       "</tr>\n",
       "<tr>\n",
       "  <th>Df Residuals:</th>          <td>  1581</td>      <th>  BIC:               </th> <td>3.335e+04</td>\n",
       "</tr>\n",
       "<tr>\n",
       "  <th>Df Model:</th>              <td>     7</td>      <th>                     </th>     <td> </td>    \n",
       "</tr>\n",
       "<tr>\n",
       "  <th>Covariance Type:</th>      <td>nonrobust</td>    <th>                     </th>     <td> </td>    \n",
       "</tr>\n",
       "</table>\n",
       "<table class=\"simpletable\">\n",
       "<tr>\n",
       "           <td></td>              <th>coef</th>     <th>std err</th>      <th>t</th>      <th>P>|t|</th>  <th>[0.025</th>    <th>0.975]</th>  \n",
       "</tr>\n",
       "<tr>\n",
       "  <th>const</th>               <td> 3.842e+04</td> <td> 2192.660</td> <td>   17.523</td> <td> 0.000</td> <td> 3.41e+04</td> <td> 4.27e+04</td>\n",
       "</tr>\n",
       "<tr>\n",
       "  <th>College</th>             <td> -481.5147</td> <td>  258.382</td> <td>   -1.864</td> <td> 0.063</td> <td> -988.321</td> <td>   25.292</td>\n",
       "</tr>\n",
       "<tr>\n",
       "  <th>City</th>                <td>  380.8308</td> <td>  433.455</td> <td>    0.879</td> <td> 0.380</td> <td> -469.377</td> <td> 1231.039</td>\n",
       "</tr>\n",
       "<tr>\n",
       "  <th>Previous CTC</th>        <td>    0.4101</td> <td>    0.033</td> <td>   12.526</td> <td> 0.000</td> <td>    0.346</td> <td>    0.474</td>\n",
       "</tr>\n",
       "<tr>\n",
       "  <th>Previous job change</th> <td>  126.5653</td> <td>  192.887</td> <td>    0.656</td> <td> 0.512</td> <td> -251.776</td> <td>  504.906</td>\n",
       "</tr>\n",
       "<tr>\n",
       "  <th>Graduation Marks</th>    <td>    6.2362</td> <td>   14.502</td> <td>    0.430</td> <td> 0.667</td> <td>  -22.208</td> <td>   34.681</td>\n",
       "</tr>\n",
       "<tr>\n",
       "  <th>EXP (Month)</th>         <td>  261.3444</td> <td>   15.460</td> <td>   16.904</td> <td> 0.000</td> <td>  231.020</td> <td>  291.669</td>\n",
       "</tr>\n",
       "<tr>\n",
       "  <th>Role_Manager</th>        <td> 1.949e+04</td> <td>  534.694</td> <td>   36.446</td> <td> 0.000</td> <td> 1.84e+04</td> <td> 2.05e+04</td>\n",
       "</tr>\n",
       "</table>\n",
       "<table class=\"simpletable\">\n",
       "<tr>\n",
       "  <th>Omnibus:</th>       <td>49.726</td> <th>  Durbin-Watson:     </th> <td>   2.052</td>\n",
       "</tr>\n",
       "<tr>\n",
       "  <th>Prob(Omnibus):</th> <td> 0.000</td> <th>  Jarque-Bera (JB):  </th> <td>  55.299</td>\n",
       "</tr>\n",
       "<tr>\n",
       "  <th>Skew:</th>          <td> 0.408</td> <th>  Prob(JB):          </th> <td>9.82e-13</td>\n",
       "</tr>\n",
       "<tr>\n",
       "  <th>Kurtosis:</th>      <td> 3.411</td> <th>  Cond. No.          </th> <td>5.68e+05</td>\n",
       "</tr>\n",
       "</table><br/><br/>Notes:<br/>[1] Standard Errors assume that the covariance matrix of the errors is correctly specified.<br/>[2] The condition number is large, 5.68e+05. This might indicate that there are<br/>strong multicollinearity or other numerical problems."
      ],
      "text/latex": [
       "\\begin{center}\n",
       "\\begin{tabular}{lclc}\n",
       "\\toprule\n",
       "\\textbf{Dep. Variable:}      &       CTC        & \\textbf{  R-squared:         } &     0.534   \\\\\n",
       "\\textbf{Model:}              &       OLS        & \\textbf{  Adj. R-squared:    } &     0.532   \\\\\n",
       "\\textbf{Method:}             &  Least Squares   & \\textbf{  F-statistic:       } &     259.1   \\\\\n",
       "\\textbf{Date:}               & Tue, 28 Nov 2023 & \\textbf{  Prob (F-statistic):} & 4.70e-257   \\\\\n",
       "\\textbf{Time:}               &     16:27:00     & \\textbf{  Log-Likelihood:    } &   -16648.   \\\\\n",
       "\\textbf{No. Observations:}   &        1589      & \\textbf{  AIC:               } & 3.331e+04   \\\\\n",
       "\\textbf{Df Residuals:}       &        1581      & \\textbf{  BIC:               } & 3.335e+04   \\\\\n",
       "\\textbf{Df Model:}           &           7      & \\textbf{                     } &             \\\\\n",
       "\\textbf{Covariance Type:}    &    nonrobust     & \\textbf{                     } &             \\\\\n",
       "\\bottomrule\n",
       "\\end{tabular}\n",
       "\\begin{tabular}{lcccccc}\n",
       "                             & \\textbf{coef} & \\textbf{std err} & \\textbf{t} & \\textbf{P$> |$t$|$} & \\textbf{[0.025} & \\textbf{0.975]}  \\\\\n",
       "\\midrule\n",
       "\\textbf{const}               &    3.842e+04  &     2192.660     &    17.523  &         0.000        &     3.41e+04    &     4.27e+04     \\\\\n",
       "\\textbf{College}             &    -481.5147  &      258.382     &    -1.864  &         0.063        &     -988.321    &       25.292     \\\\\n",
       "\\textbf{City}                &     380.8308  &      433.455     &     0.879  &         0.380        &     -469.377    &     1231.039     \\\\\n",
       "\\textbf{Previous CTC}        &       0.4101  &        0.033     &    12.526  &         0.000        &        0.346    &        0.474     \\\\\n",
       "\\textbf{Previous job change} &     126.5653  &      192.887     &     0.656  &         0.512        &     -251.776    &      504.906     \\\\\n",
       "\\textbf{Graduation Marks}    &       6.2362  &       14.502     &     0.430  &         0.667        &      -22.208    &       34.681     \\\\\n",
       "\\textbf{EXP (Month)}         &     261.3444  &       15.460     &    16.904  &         0.000        &      231.020    &      291.669     \\\\\n",
       "\\textbf{Role\\_Manager}       &    1.949e+04  &      534.694     &    36.446  &         0.000        &     1.84e+04    &     2.05e+04     \\\\\n",
       "\\bottomrule\n",
       "\\end{tabular}\n",
       "\\begin{tabular}{lclc}\n",
       "\\textbf{Omnibus:}       & 49.726 & \\textbf{  Durbin-Watson:     } &    2.052  \\\\\n",
       "\\textbf{Prob(Omnibus):} &  0.000 & \\textbf{  Jarque-Bera (JB):  } &   55.299  \\\\\n",
       "\\textbf{Skew:}          &  0.408 & \\textbf{  Prob(JB):          } & 9.82e-13  \\\\\n",
       "\\textbf{Kurtosis:}      &  3.411 & \\textbf{  Cond. No.          } & 5.68e+05  \\\\\n",
       "\\bottomrule\n",
       "\\end{tabular}\n",
       "%\\caption{OLS Regression Results}\n",
       "\\end{center}\n",
       "\n",
       "Notes: \\newline\n",
       " [1] Standard Errors assume that the covariance matrix of the errors is correctly specified. \\newline\n",
       " [2] The condition number is large, 5.68e+05. This might indicate that there are \\newline\n",
       " strong multicollinearity or other numerical problems."
      ],
      "text/plain": [
       "<class 'statsmodels.iolib.summary.Summary'>\n",
       "\"\"\"\n",
       "                            OLS Regression Results                            \n",
       "==============================================================================\n",
       "Dep. Variable:                    CTC   R-squared:                       0.534\n",
       "Model:                            OLS   Adj. R-squared:                  0.532\n",
       "Method:                 Least Squares   F-statistic:                     259.1\n",
       "Date:                Tue, 28 Nov 2023   Prob (F-statistic):          4.70e-257\n",
       "Time:                        16:27:00   Log-Likelihood:                -16648.\n",
       "No. Observations:                1589   AIC:                         3.331e+04\n",
       "Df Residuals:                    1581   BIC:                         3.335e+04\n",
       "Df Model:                           7                                         \n",
       "Covariance Type:            nonrobust                                         \n",
       "=======================================================================================\n",
       "                          coef    std err          t      P>|t|      [0.025      0.975]\n",
       "---------------------------------------------------------------------------------------\n",
       "const                3.842e+04   2192.660     17.523      0.000    3.41e+04    4.27e+04\n",
       "College              -481.5147    258.382     -1.864      0.063    -988.321      25.292\n",
       "City                  380.8308    433.455      0.879      0.380    -469.377    1231.039\n",
       "Previous CTC            0.4101      0.033     12.526      0.000       0.346       0.474\n",
       "Previous job change   126.5653    192.887      0.656      0.512    -251.776     504.906\n",
       "Graduation Marks        6.2362     14.502      0.430      0.667     -22.208      34.681\n",
       "EXP (Month)           261.3444     15.460     16.904      0.000     231.020     291.669\n",
       "Role_Manager         1.949e+04    534.694     36.446      0.000    1.84e+04    2.05e+04\n",
       "==============================================================================\n",
       "Omnibus:                       49.726   Durbin-Watson:                   2.052\n",
       "Prob(Omnibus):                  0.000   Jarque-Bera (JB):               55.299\n",
       "Skew:                           0.408   Prob(JB):                     9.82e-13\n",
       "Kurtosis:                       3.411   Cond. No.                     5.68e+05\n",
       "==============================================================================\n",
       "\n",
       "Notes:\n",
       "[1] Standard Errors assume that the covariance matrix of the errors is correctly specified.\n",
       "[2] The condition number is large, 5.68e+05. This might indicate that there are\n",
       "strong multicollinearity or other numerical problems.\n",
       "\"\"\""
      ]
     },
     "execution_count": 29,
     "metadata": {},
     "output_type": "execute_result"
    }
   ],
   "source": [
    "# Getting the summary of the model\n",
    "\n",
    "lm.summary()\n"
   ]
  },
  {
   "cell_type": "markdown",
   "id": "f3227a58",
   "metadata": {},
   "source": [
    "### Model Evaluation\n",
    "R-squared: The R-squared value is 0.534, which means approximately 53.4% of the variance in the dependent variable (CTC) is explained by the independent variables in the model. This is a moderate R-squared value, indicating that the model captures some of the variation in the data.\n",
    "\n",
    "In summary, the provided regression results indicate that the model is statistically significant, as evidenced by the low p-value for the F-statistic. However, the model's R-squared value of 0.534 indicates that it explains only a moderate amount of the variance in the dependent variable. Additionally, the presence of non-normality in the residuals (as indicated by the JB test) and the moderate skewness and kurtosis suggest that there might be room for improvement."
   ]
  },
  {
   "cell_type": "markdown",
   "id": "d9d9a677",
   "metadata": {},
   "source": [
    "## Linear Regression"
   ]
  },
  {
   "cell_type": "markdown",
   "id": "31b4f9d8",
   "metadata": {},
   "source": [
    "### Test-Train Split\n",
    "\n",
    "We are splitting the data into 80% of Training data And 20% of Test data"
   ]
  },
  {
   "cell_type": "code",
   "execution_count": 30,
   "id": "00b68938",
   "metadata": {},
   "outputs": [],
   "source": [
    "# Splitting data into train and test dataset\n",
    "\n",
    "X_train, X_test, Y_train, Y_test = train_test_split(X,y, test_size = 0.2, random_state = 42)"
   ]
  },
  {
   "cell_type": "code",
   "execution_count": 31,
   "id": "45f435fe",
   "metadata": {},
   "outputs": [
    {
     "name": "stdout",
     "output_type": "stream",
     "text": [
      "(1271, 7) (1271,) (318, 7) (318,)\n"
     ]
    }
   ],
   "source": [
    "# Checking the size of the Test and Train Variable Of both x and y\n",
    "print(X_train.shape,Y_train.shape,X_test.shape,Y_test.shape)"
   ]
  },
  {
   "cell_type": "markdown",
   "id": "b7693600",
   "metadata": {},
   "source": [
    "### Training Linear Regression Model\n"
   ]
  },
  {
   "cell_type": "code",
   "execution_count": 32,
   "id": "c48e7ed9",
   "metadata": {},
   "outputs": [],
   "source": [
    "# Creating model object\n",
    "\n",
    "lm2 = LinearRegression()"
   ]
  },
  {
   "cell_type": "code",
   "execution_count": 33,
   "id": "8c686dac",
   "metadata": {},
   "outputs": [
    {
     "data": {
      "text/html": [
       "<style>#sk-container-id-1 {color: black;}#sk-container-id-1 pre{padding: 0;}#sk-container-id-1 div.sk-toggleable {background-color: white;}#sk-container-id-1 label.sk-toggleable__label {cursor: pointer;display: block;width: 100%;margin-bottom: 0;padding: 0.3em;box-sizing: border-box;text-align: center;}#sk-container-id-1 label.sk-toggleable__label-arrow:before {content: \"▸\";float: left;margin-right: 0.25em;color: #696969;}#sk-container-id-1 label.sk-toggleable__label-arrow:hover:before {color: black;}#sk-container-id-1 div.sk-estimator:hover label.sk-toggleable__label-arrow:before {color: black;}#sk-container-id-1 div.sk-toggleable__content {max-height: 0;max-width: 0;overflow: hidden;text-align: left;background-color: #f0f8ff;}#sk-container-id-1 div.sk-toggleable__content pre {margin: 0.2em;color: black;border-radius: 0.25em;background-color: #f0f8ff;}#sk-container-id-1 input.sk-toggleable__control:checked~div.sk-toggleable__content {max-height: 200px;max-width: 100%;overflow: auto;}#sk-container-id-1 input.sk-toggleable__control:checked~label.sk-toggleable__label-arrow:before {content: \"▾\";}#sk-container-id-1 div.sk-estimator input.sk-toggleable__control:checked~label.sk-toggleable__label {background-color: #d4ebff;}#sk-container-id-1 div.sk-label input.sk-toggleable__control:checked~label.sk-toggleable__label {background-color: #d4ebff;}#sk-container-id-1 input.sk-hidden--visually {border: 0;clip: rect(1px 1px 1px 1px);clip: rect(1px, 1px, 1px, 1px);height: 1px;margin: -1px;overflow: hidden;padding: 0;position: absolute;width: 1px;}#sk-container-id-1 div.sk-estimator {font-family: monospace;background-color: #f0f8ff;border: 1px dotted black;border-radius: 0.25em;box-sizing: border-box;margin-bottom: 0.5em;}#sk-container-id-1 div.sk-estimator:hover {background-color: #d4ebff;}#sk-container-id-1 div.sk-parallel-item::after {content: \"\";width: 100%;border-bottom: 1px solid gray;flex-grow: 1;}#sk-container-id-1 div.sk-label:hover label.sk-toggleable__label {background-color: #d4ebff;}#sk-container-id-1 div.sk-serial::before {content: \"\";position: absolute;border-left: 1px solid gray;box-sizing: border-box;top: 0;bottom: 0;left: 50%;z-index: 0;}#sk-container-id-1 div.sk-serial {display: flex;flex-direction: column;align-items: center;background-color: white;padding-right: 0.2em;padding-left: 0.2em;position: relative;}#sk-container-id-1 div.sk-item {position: relative;z-index: 1;}#sk-container-id-1 div.sk-parallel {display: flex;align-items: stretch;justify-content: center;background-color: white;position: relative;}#sk-container-id-1 div.sk-item::before, #sk-container-id-1 div.sk-parallel-item::before {content: \"\";position: absolute;border-left: 1px solid gray;box-sizing: border-box;top: 0;bottom: 0;left: 50%;z-index: -1;}#sk-container-id-1 div.sk-parallel-item {display: flex;flex-direction: column;z-index: 1;position: relative;background-color: white;}#sk-container-id-1 div.sk-parallel-item:first-child::after {align-self: flex-end;width: 50%;}#sk-container-id-1 div.sk-parallel-item:last-child::after {align-self: flex-start;width: 50%;}#sk-container-id-1 div.sk-parallel-item:only-child::after {width: 0;}#sk-container-id-1 div.sk-dashed-wrapped {border: 1px dashed gray;margin: 0 0.4em 0.5em 0.4em;box-sizing: border-box;padding-bottom: 0.4em;background-color: white;}#sk-container-id-1 div.sk-label label {font-family: monospace;font-weight: bold;display: inline-block;line-height: 1.2em;}#sk-container-id-1 div.sk-label-container {text-align: center;}#sk-container-id-1 div.sk-container {/* jupyter's `normalize.less` sets `[hidden] { display: none; }` but bootstrap.min.css set `[hidden] { display: none !important; }` so we also need the `!important` here to be able to override the default hidden behavior on the sphinx rendered scikit-learn.org. See: https://github.com/scikit-learn/scikit-learn/issues/21755 */display: inline-block !important;position: relative;}#sk-container-id-1 div.sk-text-repr-fallback {display: none;}</style><div id=\"sk-container-id-1\" class=\"sk-top-container\"><div class=\"sk-text-repr-fallback\"><pre>LinearRegression()</pre><b>In a Jupyter environment, please rerun this cell to show the HTML representation or trust the notebook. <br />On GitHub, the HTML representation is unable to render, please try loading this page with nbviewer.org.</b></div><div class=\"sk-container\" hidden><div class=\"sk-item\"><div class=\"sk-estimator sk-toggleable\"><input class=\"sk-toggleable__control sk-hidden--visually\" id=\"sk-estimator-id-1\" type=\"checkbox\" checked><label for=\"sk-estimator-id-1\" class=\"sk-toggleable__label sk-toggleable__label-arrow\">LinearRegression</label><div class=\"sk-toggleable__content\"><pre>LinearRegression()</pre></div></div></div></div></div>"
      ],
      "text/plain": [
       "LinearRegression()"
      ]
     },
     "execution_count": 33,
     "metadata": {},
     "output_type": "execute_result"
    }
   ],
   "source": [
    "# Fitting our model over train data set\n",
    "\n",
    "lm2.fit(X_train, Y_train)"
   ]
  },
  {
   "cell_type": "code",
   "execution_count": 34,
   "id": "e636f103",
   "metadata": {},
   "outputs": [
    {
     "name": "stdout",
     "output_type": "stream",
     "text": [
      "39229.5661268356 [-5.17509158e+02  4.82800374e+02  4.22242899e-01  8.74331790e+00\n",
      "  1.94023127e+00  2.43718541e+02  1.86020838e+04]\n"
     ]
    }
   ],
   "source": [
    "# Printing values of intercept and coefficient\n",
    "\n",
    "print(lm2.intercept_, lm2.coef_)"
   ]
  },
  {
   "cell_type": "markdown",
   "id": "c58062b2",
   "metadata": {},
   "source": [
    "### Model Accuracy"
   ]
  },
  {
   "cell_type": "code",
   "execution_count": 35,
   "id": "cfa6fb95",
   "metadata": {},
   "outputs": [
    {
     "name": "stdout",
     "output_type": "stream",
     "text": [
      "r2 score of test set:  0.5933517958385095\n",
      "r2 score of train set:  0.5137747142134839\n",
      "MeanSquareError of test set 77362774.9495653\n",
      "MeanSquareError of train set 73096299.02751341\n"
     ]
    }
   ],
   "source": [
    "# Calcualting model accuracy for test and train data\n",
    "\n",
    "print('r2 score of test set: ', r2_score(Y_test, lm2.predict(X_test)))\n",
    "print('r2 score of train set: ', r2_score(Y_train, lm2.predict(X_train)))\n",
    "print('MeanSquareError of test set', mean_squared_error(Y_test, lm2.predict(X_test)))\n",
    "print('MeanSquareError of train set', mean_squared_error(Y_train, lm2.predict(X_train)))"
   ]
  },
  {
   "cell_type": "markdown",
   "id": "c2269c77",
   "metadata": {},
   "source": [
    "### Residual Plot"
   ]
  },
  {
   "cell_type": "code",
   "execution_count": 36,
   "id": "70939288",
   "metadata": {},
   "outputs": [
    {
     "data": {
      "image/png": "[encoded data removed]",
      "text/plain": [
       "<Figure size 800x600 with 1 Axes>"
      ]
     },
     "metadata": {},
     "output_type": "display_data"
    }
   ],
   "source": [
    "residuals = Y_test - lm2.predict(X_test)\n",
    "\n",
    "plt.figure(figsize=(8, 6))\n",
    "plt.scatter(Y_test, residuals)\n",
    "plt.axhline(y=0, color='r', linestyle='--', lw=2)\n",
    "plt.xlabel('Actual CTC')\n",
    "plt.ylabel('Residuals')\n",
    "plt.title('Residual Plot')\n",
    "plt.show()"
   ]
  },
  {
   "cell_type": "markdown",
   "id": "98afbee4",
   "metadata": {},
   "source": [
    "### Distribution of Residuals"
   ]
  },
  {
   "cell_type": "code",
   "execution_count": 37,
   "id": "687240ac",
   "metadata": {},
   "outputs": [
    {
     "data": {
      "image/png": "[encoded data removed]",
      "text/plain": [
       "<Figure size 800x600 with 1 Axes>"
      ]
     },
     "metadata": {},
     "output_type": "display_data"
    }
   ],
   "source": [
    "plt.figure(figsize=(8, 6))\n",
    "plt.hist(residuals, bins=30, edgecolor='k',color='r')\n",
    "plt.xlabel('Residuals')\n",
    "plt.ylabel('Frequency')\n",
    "plt.title('Distribution of Residuals')\n",
    "plt.show()"
   ]
  },
  {
   "cell_type": "markdown",
   "id": "0b079554",
   "metadata": {},
   "source": [
    "### Scatter Plot of Predicted vs. Actual Values"
   ]
  },
  {
   "cell_type": "code",
   "execution_count": 38,
   "id": "bf1c7a7b",
   "metadata": {},
   "outputs": [
    {
     "data": {
      "text/plain": [
       "<seaborn.axisgrid.JointGrid at 0x2000a9331d0>"
      ]
     },
     "execution_count": 38,
     "metadata": {},
     "output_type": "execute_result"
    },
    {
     "data": {
      "image/png": "[encoded data removed]",
      "text/plain": [
       "<Figure size 600x600 with 3 Axes>"
      ]
     },
     "metadata": {},
     "output_type": "display_data"
    }
   ],
   "source": [
    "# Joint plot of predicted and the true value\n",
    "\n",
    "sns.jointplot(x = Y_test, y = lm2.predict(X_test), kind = \"reg\")"
   ]
  },
  {
   "cell_type": "markdown",
   "id": "472a41d5",
   "metadata": {},
   "source": [
    "### Model Interpretation / evaluation\n",
    "Our model has a training MSE of 73096299.02751341, which suggests that it fits the training data reasonably well.\n",
    "The test MSE of 77362774.9495653 indicates how well model generalizes to new data. It's slightly higher than the training MSE, which is expected.\n",
    "A test R-squared score of 0.59 indicates that our linear regression model explains approximately 59% of the variance in the dependent variable (the variable we're trying to predict) for the test data."
   ]
  },
  {
   "cell_type": "markdown",
   "id": "32c8bffa",
   "metadata": {},
   "source": [
    "## Ridge Regression"
   ]
  },
  {
   "cell_type": "code",
   "execution_count": 39,
   "id": "d9152901",
   "metadata": {},
   "outputs": [],
   "source": [
    "# Creating scaler object which will store the scaling information of our X train variable\n",
    "\n",
    "scaler = preprocessing.StandardScaler().fit(X_train)"
   ]
  },
  {
   "cell_type": "code",
   "execution_count": 40,
   "id": "d78fe4c3",
   "metadata": {},
   "outputs": [],
   "source": [
    "# Transform our X_train into X_train_scale\n",
    "\n",
    "X_train_s = scaler.transform(X_train)"
   ]
  },
  {
   "cell_type": "code",
   "execution_count": 41,
   "id": "758ad5f6",
   "metadata": {},
   "outputs": [],
   "source": [
    "# Transform our X_test into X_test_scale\n",
    "\n",
    "X_test_s = scaler.transform(X_test)"
   ]
  },
  {
   "cell_type": "code",
   "execution_count": 42,
   "id": "d7406315",
   "metadata": {},
   "outputs": [],
   "source": [
    "# Creating ridge regresson model object\n",
    "\n",
    "lm_rid = Ridge(alpha = 0.5)"
   ]
  },
  {
   "cell_type": "code",
   "execution_count": 43,
   "id": "53794598",
   "metadata": {},
   "outputs": [
    {
     "data": {
      "text/html": [
       "<style>#sk-container-id-2 {color: black;}#sk-container-id-2 pre{padding: 0;}#sk-container-id-2 div.sk-toggleable {background-color: white;}#sk-container-id-2 label.sk-toggleable__label {cursor: pointer;display: block;width: 100%;margin-bottom: 0;padding: 0.3em;box-sizing: border-box;text-align: center;}#sk-container-id-2 label.sk-toggleable__label-arrow:before {content: \"▸\";float: left;margin-right: 0.25em;color: #696969;}#sk-container-id-2 label.sk-toggleable__label-arrow:hover:before {color: black;}#sk-container-id-2 div.sk-estimator:hover label.sk-toggleable__label-arrow:before {color: black;}#sk-container-id-2 div.sk-toggleable__content {max-height: 0;max-width: 0;overflow: hidden;text-align: left;background-color: #f0f8ff;}#sk-container-id-2 div.sk-toggleable__content pre {margin: 0.2em;color: black;border-radius: 0.25em;background-color: #f0f8ff;}#sk-container-id-2 input.sk-toggleable__control:checked~div.sk-toggleable__content {max-height: 200px;max-width: 100%;overflow: auto;}#sk-container-id-2 input.sk-toggleable__control:checked~label.sk-toggleable__label-arrow:before {content: \"▾\";}#sk-container-id-2 div.sk-estimator input.sk-toggleable__control:checked~label.sk-toggleable__label {background-color: #d4ebff;}#sk-container-id-2 div.sk-label input.sk-toggleable__control:checked~label.sk-toggleable__label {background-color: #d4ebff;}#sk-container-id-2 input.sk-hidden--visually {border: 0;clip: rect(1px 1px 1px 1px);clip: rect(1px, 1px, 1px, 1px);height: 1px;margin: -1px;overflow: hidden;padding: 0;position: absolute;width: 1px;}#sk-container-id-2 div.sk-estimator {font-family: monospace;background-color: #f0f8ff;border: 1px dotted black;border-radius: 0.25em;box-sizing: border-box;margin-bottom: 0.5em;}#sk-container-id-2 div.sk-estimator:hover {background-color: #d4ebff;}#sk-container-id-2 div.sk-parallel-item::after {content: \"\";width: 100%;border-bottom: 1px solid gray;flex-grow: 1;}#sk-container-id-2 div.sk-label:hover label.sk-toggleable__label {background-color: #d4ebff;}#sk-container-id-2 div.sk-serial::before {content: \"\";position: absolute;border-left: 1px solid gray;box-sizing: border-box;top: 0;bottom: 0;left: 50%;z-index: 0;}#sk-container-id-2 div.sk-serial {display: flex;flex-direction: column;align-items: center;background-color: white;padding-right: 0.2em;padding-left: 0.2em;position: relative;}#sk-container-id-2 div.sk-item {position: relative;z-index: 1;}#sk-container-id-2 div.sk-parallel {display: flex;align-items: stretch;justify-content: center;background-color: white;position: relative;}#sk-container-id-2 div.sk-item::before, #sk-container-id-2 div.sk-parallel-item::before {content: \"\";position: absolute;border-left: 1px solid gray;box-sizing: border-box;top: 0;bottom: 0;left: 50%;z-index: -1;}#sk-container-id-2 div.sk-parallel-item {display: flex;flex-direction: column;z-index: 1;position: relative;background-color: white;}#sk-container-id-2 div.sk-parallel-item:first-child::after {align-self: flex-end;width: 50%;}#sk-container-id-2 div.sk-parallel-item:last-child::after {align-self: flex-start;width: 50%;}#sk-container-id-2 div.sk-parallel-item:only-child::after {width: 0;}#sk-container-id-2 div.sk-dashed-wrapped {border: 1px dashed gray;margin: 0 0.4em 0.5em 0.4em;box-sizing: border-box;padding-bottom: 0.4em;background-color: white;}#sk-container-id-2 div.sk-label label {font-family: monospace;font-weight: bold;display: inline-block;line-height: 1.2em;}#sk-container-id-2 div.sk-label-container {text-align: center;}#sk-container-id-2 div.sk-container {/* jupyter's `normalize.less` sets `[hidden] { display: none; }` but bootstrap.min.css set `[hidden] { display: none !important; }` so we also need the `!important` here to be able to override the default hidden behavior on the sphinx rendered scikit-learn.org. See: https://github.com/scikit-learn/scikit-learn/issues/21755 */display: inline-block !important;position: relative;}#sk-container-id-2 div.sk-text-repr-fallback {display: none;}</style><div id=\"sk-container-id-2\" class=\"sk-top-container\"><div class=\"sk-text-repr-fallback\"><pre>Ridge(alpha=0.5)</pre><b>In a Jupyter environment, please rerun this cell to show the HTML representation or trust the notebook. <br />On GitHub, the HTML representation is unable to render, please try loading this page with nbviewer.org.</b></div><div class=\"sk-container\" hidden><div class=\"sk-item\"><div class=\"sk-estimator sk-toggleable\"><input class=\"sk-toggleable__control sk-hidden--visually\" id=\"sk-estimator-id-2\" type=\"checkbox\" checked><label for=\"sk-estimator-id-2\" class=\"sk-toggleable__label sk-toggleable__label-arrow\">Ridge</label><div class=\"sk-toggleable__content\"><pre>Ridge(alpha=0.5)</pre></div></div></div></div></div>"
      ],
      "text/plain": [
       "Ridge(alpha=0.5)"
      ]
     },
     "execution_count": 43,
     "metadata": {},
     "output_type": "execute_result"
    }
   ],
   "source": [
    "# Fitting our model over train data set\n",
    "\n",
    "lm_rid.fit(X_train_s, Y_train)"
   ]
  },
  {
   "cell_type": "code",
   "execution_count": 44,
   "id": "f61a5b6e",
   "metadata": {
    "scrolled": false
   },
   "outputs": [
    {
     "name": "stdout",
     "output_type": "stream",
     "text": [
      "r2 score of test set:  0.5932834469083487\n",
      "r2 score of train set:  0.5137746367193257\n",
      "MeanSquareError of test set:  77375777.98965737\n",
      "MeanSquareError of train set:  73096310.67753725\n"
     ]
    }
   ],
   "source": [
    "# Calcualting model accuracy for test and train data\n",
    "\n",
    "print('r2 score of test set: ', r2_score(Y_test, lm_rid.predict(X_test_s)))\n",
    "print('r2 score of train set: ', r2_score(Y_train, lm_rid.predict(X_train_s)))\n",
    "print('MeanSquareError of test set: ', mean_squared_error(Y_test, lm_rid.predict(X_test_s)))\n",
    "print('MeanSquareError of train set: ', mean_squared_error(Y_train, lm_rid.predict(X_train_s)))"
   ]
  },
  {
   "cell_type": "markdown",
   "id": "64a3b7a4",
   "metadata": {},
   "source": [
    "### Scatter Plot of Predicted vs. Actual Values"
   ]
  },
  {
   "cell_type": "code",
   "execution_count": 45,
   "id": "131082be",
   "metadata": {},
   "outputs": [
    {
     "data": {
      "image/png": "[encoded data removed]",
      "text/plain": [
       "<Figure size 800x600 with 1 Axes>"
      ]
     },
     "metadata": {},
     "output_type": "display_data"
    }
   ],
   "source": [
    "plt.figure(figsize=(8, 6))\n",
    "plt.scatter(Y_test, lm_rid.predict(X_test_s),color='g')\n",
    "plt.plot([min(Y_test), max(Y_test)], [min(Y_test), max(Y_test)], 'k--', lw=2)\n",
    "plt.xlabel('Actual CTC')\n",
    "plt.ylabel('Predicted CTC')\n",
    "plt.title('Predicted vs. Actual CTC')\n",
    "plt.show()"
   ]
  },
  {
   "cell_type": "markdown",
   "id": "2c467d60",
   "metadata": {},
   "source": [
    "### Model Interpretation / evaluation\n",
    "The model may be reasonably generalizing to fresh, untested data if the Test R-squared value is higher than the Train R-squared value. This is a good indicator since it shows that the model is not seriously overfit to the training set of data.\n",
    "\n",
    "With a test R-squared of 0.5933, the model successfully accounts for a sizable percentage of the variation in the test data. It suggests that the dependent variable, CTC, may be somewhat predicted by the Ridge Regression model.\n",
    "\n",
    "A modest Train R-squared of 0.5137 indicates that the model has some capacity to explain the training set of data."
   ]
  },
  {
   "cell_type": "markdown",
   "id": "ca476f02",
   "metadata": {},
   "source": [
    "### Ridge pregression - Validation curve"
   ]
  },
  {
   "cell_type": "code",
   "execution_count": 46,
   "id": "f7694437",
   "metadata": {},
   "outputs": [],
   "source": [
    "# Importing validation curve from sklearn\n",
    "\n",
    "from sklearn.model_selection import validation_curve"
   ]
  },
  {
   "cell_type": "code",
   "execution_count": 47,
   "id": "80f36ca3",
   "metadata": {},
   "outputs": [],
   "source": [
    "# Creating param range for alpha using numpy array function\n",
    "\n",
    "param_range = np.logspace(-2,8,100)"
   ]
  },
  {
   "cell_type": "code",
   "execution_count": 48,
   "id": "2c52ead4",
   "metadata": {},
   "outputs": [
    {
     "data": {
      "text/plain": [
       "array([1.00000000e-02, 1.26185688e-02, 1.59228279e-02, 2.00923300e-02,\n",
       "       2.53536449e-02, 3.19926714e-02, 4.03701726e-02, 5.09413801e-02,\n",
       "       6.42807312e-02, 8.11130831e-02, 1.02353102e-01, 1.29154967e-01,\n",
       "       1.62975083e-01, 2.05651231e-01, 2.59502421e-01, 3.27454916e-01,\n",
       "       4.13201240e-01, 5.21400829e-01, 6.57933225e-01, 8.30217568e-01,\n",
       "       1.04761575e+00, 1.32194115e+00, 1.66810054e+00, 2.10490414e+00,\n",
       "       2.65608778e+00, 3.35160265e+00, 4.22924287e+00, 5.33669923e+00,\n",
       "       6.73415066e+00, 8.49753436e+00, 1.07226722e+01, 1.35304777e+01,\n",
       "       1.70735265e+01, 2.15443469e+01, 2.71858824e+01, 3.43046929e+01,\n",
       "       4.32876128e+01, 5.46227722e+01, 6.89261210e+01, 8.69749003e+01,\n",
       "       1.09749877e+02, 1.38488637e+02, 1.74752840e+02, 2.20513074e+02,\n",
       "       2.78255940e+02, 3.51119173e+02, 4.43062146e+02, 5.59081018e+02,\n",
       "       7.05480231e+02, 8.90215085e+02, 1.12332403e+03, 1.41747416e+03,\n",
       "       1.78864953e+03, 2.25701972e+03, 2.84803587e+03, 3.59381366e+03,\n",
       "       4.53487851e+03, 5.72236766e+03, 7.22080902e+03, 9.11162756e+03,\n",
       "       1.14975700e+04, 1.45082878e+04, 1.83073828e+04, 2.31012970e+04,\n",
       "       2.91505306e+04, 3.67837977e+04, 4.64158883e+04, 5.85702082e+04,\n",
       "       7.39072203e+04, 9.32603347e+04, 1.17681195e+05, 1.48496826e+05,\n",
       "       1.87381742e+05, 2.36448941e+05, 2.98364724e+05, 3.76493581e+05,\n",
       "       4.75081016e+05, 5.99484250e+05, 7.56463328e+05, 9.54548457e+05,\n",
       "       1.20450354e+06, 1.51991108e+06, 1.91791026e+06, 2.42012826e+06,\n",
       "       3.05385551e+06, 3.85352859e+06, 4.86260158e+06, 6.13590727e+06,\n",
       "       7.74263683e+06, 9.77009957e+06, 1.23284674e+07, 1.55567614e+07,\n",
       "       1.96304065e+07, 2.47707636e+07, 3.12571585e+07, 3.94420606e+07,\n",
       "       4.97702356e+07, 6.28029144e+07, 7.92482898e+07, 1.00000000e+08])"
      ]
     },
     "execution_count": 48,
     "metadata": {},
     "output_type": "execute_result"
    }
   ],
   "source": [
    "# Printing all potential alpha values\n",
    "\n",
    "param_range"
   ]
  },
  {
   "cell_type": "code",
   "execution_count": 49,
   "id": "fa199f4b",
   "metadata": {},
   "outputs": [],
   "source": [
    "# Calculating validation curve on train data set\n",
    "\n",
    "train_scores, test_scores = validation_curve(estimator = lm_rid, # model on which we want to do validation curve\n",
    "                                             X = X_train_s, # X feature which is our X_train_scaled in our case\n",
    "                                             y = Y_train, # Y feature which is our Y_train in our case\n",
    "                                             param_name = \"alpha\", # parameter name on which values we want to do validation curve\n",
    "                                             param_range = param_range, # value of all alpha, which is stored in param_Range\n",
    "                                             scoring = \"r2\") # want to calculate r2 score"
   ]
  },
  {
   "cell_type": "code",
   "execution_count": 50,
   "id": "067a3465",
   "metadata": {},
   "outputs": [
    {
     "name": "stdout",
     "output_type": "stream",
     "text": [
      "[[5.10979008e-01 5.36437285e-01 4.99879242e-01 5.14327357e-01\n",
      "  5.09289503e-01]\n",
      " [5.10979008e-01 5.36437285e-01 4.99879242e-01 5.14327357e-01\n",
      "  5.09289503e-01]\n",
      " [5.10979008e-01 5.36437285e-01 4.99879242e-01 5.14327357e-01\n",
      "  5.09289502e-01]\n",
      " [5.10979008e-01 5.36437285e-01 4.99879242e-01 5.14327357e-01\n",
      "  5.09289502e-01]\n",
      " [5.10979008e-01 5.36437285e-01 4.99879242e-01 5.14327357e-01\n",
      "  5.09289502e-01]\n",
      " [5.10979007e-01 5.36437284e-01 4.99879242e-01 5.14327356e-01\n",
      "  5.09289502e-01]\n",
      " [5.10979007e-01 5.36437284e-01 4.99879241e-01 5.14327356e-01\n",
      "  5.09289502e-01]\n",
      " [5.10979007e-01 5.36437284e-01 4.99879241e-01 5.14327356e-01\n",
      "  5.09289501e-01]\n",
      " [5.10979006e-01 5.36437283e-01 4.99879240e-01 5.14327355e-01\n",
      "  5.09289501e-01]\n",
      " [5.10979005e-01 5.36437282e-01 4.99879239e-01 5.14327354e-01\n",
      "  5.09289499e-01]\n",
      " [5.10979003e-01 5.36437280e-01 4.99879237e-01 5.14327352e-01\n",
      "  5.09289497e-01]\n",
      " [5.10979000e-01 5.36437277e-01 4.99879234e-01 5.14327349e-01\n",
      "  5.09289494e-01]\n",
      " [5.10978995e-01 5.36437272e-01 4.99879229e-01 5.14327344e-01\n",
      "  5.09289490e-01]\n",
      " [5.10978987e-01 5.36437265e-01 4.99879222e-01 5.14327337e-01\n",
      "  5.09289482e-01]\n",
      " [5.10978974e-01 5.36437253e-01 4.99879210e-01 5.14327325e-01\n",
      "  5.09289470e-01]\n",
      " [5.10978955e-01 5.36437234e-01 4.99879190e-01 5.14327306e-01\n",
      "  5.09289450e-01]\n",
      " [5.10978923e-01 5.36437204e-01 4.99879159e-01 5.14327276e-01\n",
      "  5.09289419e-01]\n",
      " [5.10978873e-01 5.36437155e-01 4.99879110e-01 5.14327227e-01\n",
      "  5.09289369e-01]\n",
      " [5.10978793e-01 5.36437079e-01 4.99879032e-01 5.14327151e-01\n",
      "  5.09289290e-01]\n",
      " [5.10978666e-01 5.36436957e-01 4.99878907e-01 5.14327029e-01\n",
      "  5.09289165e-01]\n",
      " [5.10978464e-01 5.36436763e-01 4.99878709e-01 5.14326834e-01\n",
      "  5.09288965e-01]\n",
      " [5.10978143e-01 5.36436454e-01 4.99878394e-01 5.14326525e-01\n",
      "  5.09288647e-01]\n",
      " [5.10977631e-01 5.36435963e-01 4.99877892e-01 5.14326033e-01\n",
      "  5.09288141e-01]\n",
      " [5.10976818e-01 5.36435183e-01 4.99877095e-01 5.14325251e-01\n",
      "  5.09287336e-01]\n",
      " [5.10975524e-01 5.36433941e-01 4.99875827e-01 5.14324008e-01\n",
      "  5.09286057e-01]\n",
      " [5.10973469e-01 5.36431967e-01 4.99873811e-01 5.14322032e-01\n",
      "  5.09284023e-01]\n",
      " [5.10970203e-01 5.36428832e-01 4.99870610e-01 5.14318892e-01\n",
      "  5.09280793e-01]\n",
      " [5.10965019e-01 5.36423854e-01 4.99865527e-01 5.14313907e-01\n",
      "  5.09275665e-01]\n",
      " [5.10956795e-01 5.36415955e-01 4.99857465e-01 5.14306000e-01\n",
      "  5.09267530e-01]\n",
      " [5.10943762e-01 5.36403435e-01 4.99844690e-01 5.14293466e-01\n",
      "  5.09254638e-01]\n",
      " [5.10923132e-01 5.36383613e-01 4.99824470e-01 5.14273625e-01\n",
      "  5.09234231e-01]\n",
      " [5.10890527e-01 5.36352275e-01 4.99792518e-01 5.14242263e-01\n",
      "  5.09201981e-01]\n",
      " [5.10839095e-01 5.36302823e-01 4.99742125e-01 5.14192785e-01\n",
      "  5.09151111e-01]\n",
      " [5.10758161e-01 5.36224968e-01 4.99662841e-01 5.14114909e-01\n",
      "  5.09071064e-01]\n",
      " [5.10631186e-01 5.36102750e-01 4.99538487e-01 5.13992702e-01\n",
      "  5.08945487e-01]\n",
      " [5.10432727e-01 5.35911585e-01 4.99344188e-01 5.13801636e-01\n",
      "  5.08749226e-01]\n",
      " [5.10123995e-01 5.35613926e-01 4.99042046e-01 5.13504288e-01\n",
      "  5.08443939e-01]\n",
      " [5.09646510e-01 5.35153036e-01 4.98574972e-01 5.13044184e-01\n",
      "  5.07971824e-01]\n",
      " [5.08913335e-01 5.34444338e-01 4.97858192e-01 5.12337269e-01\n",
      "  5.07246972e-01]\n",
      " [5.07797493e-01 5.33363860e-01 4.96768035e-01 5.11260577e-01\n",
      "  5.06143930e-01]\n",
      " [5.06117577e-01 5.31733702e-01 4.95128075e-01 5.09638084e-01\n",
      "  5.04483500e-01]\n",
      " [5.03621517e-01 5.29305273e-01 4.92693566e-01 5.07224566e-01\n",
      "  5.02016721e-01]\n",
      " [4.99971075e-01 5.25742617e-01 4.89136684e-01 5.03689868e-01\n",
      "  4.98409552e-01]\n",
      " [4.94732022e-01 5.20610478e-01 4.84037364e-01 4.98608265e-01\n",
      "  4.93233109e-01]\n",
      " [4.87377639e-01 5.13374563e-01 4.76886987e-01 4.91460291e-01\n",
      "  4.85966951e-01]\n",
      " [4.77314991e-01 5.03423670e-01 4.67113831e-01 4.81656346e-01\n",
      "  4.76024645e-01]\n",
      " [4.63942344e-01 4.90122956e-01 4.54138027e-01 4.68590667e-01\n",
      "  4.62809817e-01]\n",
      " [4.46739785e-01 4.72902258e-01 4.37457755e-01 4.51728619e-01\n",
      "  4.45804810e-01]\n",
      " [4.25383033e-01 4.51371853e-01 4.16757188e-01 4.30718741e-01\n",
      "  4.24682343e-01]\n",
      " [3.99855587e-01 4.25442660e-01 3.92012938e-01 4.05506359e-01\n",
      "  3.99416160e-01]\n",
      " [3.70524178e-01 3.95415665e-01 3.63566509e-01 3.76414583e-01\n",
      "  3.70356641e-01]\n",
      " [3.38145458e-01 3.62005154e-01 3.32132793e-01 3.44159757e-01\n",
      "  3.38239833e-01]\n",
      " [3.03790871e-01 3.26277084e-01 2.98731861e-01 3.09785620e-01\n",
      "  3.04116414e-01]\n",
      " [2.68704804e-01 2.89512304e-01 2.64557008e-01 2.74527880e-01\n",
      "  2.69214301e-01]\n",
      " [2.34134345e-01 2.53030797e-01 2.30813822e-01 2.39645232e-01\n",
      "  2.34771565e-01]\n",
      " [2.01175553e-01 2.18024004e-01 1.98572129e-01 2.06261683e-01\n",
      "  2.01883561e-01]\n",
      " [1.70669556e-01 1.85433667e-01 1.68663058e-01 1.75255476e-01\n",
      "  1.71397671e-01]\n",
      " [1.43160502e-01 1.55894565e-01 1.41634199e-01 1.47209407e-01\n",
      "  1.43868598e-01]\n",
      " [1.18907728e-01 1.29736853e-01 1.17757166e-01 1.22417024e-01\n",
      "  1.19567710e-01]\n",
      " [9.79335336e-02 1.07030086e-01 9.70707651e-02 1.00927040e-01\n",
      "  9.85286041e-02]\n",
      " [8.00863344e-02 8.76475145e-02 7.94406259e-02 8.26055700e-02\n",
      "  8.06089879e-02]\n",
      " [6.51034883e-02 7.13329412e-02 6.46198531e-02 6.71997365e-02\n",
      "  6.55530538e-02]\n",
      " [5.26645265e-02 5.77590355e-02 5.23012540e-02 5.43925403e-02\n",
      "  5.30448361e-02]\n",
      " [4.24312099e-02 4.65722526e-02 4.21571842e-02 4.38447606e-02\n",
      "  4.27486811e-02]\n",
      " [3.40746153e-02 3.74239102e-02 3.38668612e-02 3.52237027e-02\n",
      "  3.43368315e-02]\n",
      " [2.72913808e-02 2.99893588e-02 2.71330186e-02 2.82207500e-02\n",
      "  2.75061320e-02]\n",
      " [2.18118352e-02 2.39780489e-02 2.16904740e-02 2.25604242e-02\n",
      "  2.19865297e-02]\n",
      " [1.74025754e-02 1.91372535e-02 1.73090984e-02 1.80035659e-02\n",
      "  1.75439227e-02]\n",
      " [1.38655690e-02 1.52517413e-02 1.37932374e-02 1.43467905e-02\n",
      "  1.39794466e-02]\n",
      " [1.10353101e-02 1.21411178e-02 1.09791124e-02 1.14198180e-02\n",
      "  1.11267449e-02]\n",
      " [8.77506844e-03 9.65602404e-03 8.73125199e-03 9.08178245e-03\n",
      "  8.84828531e-03]\n",
      " [6.97289292e-03 7.67395987e-03 6.93862764e-03 7.21722391e-03\n",
      "  7.03139596e-03]\n",
      " [5.53775743e-03 6.09518884e-03 5.51089416e-03 5.73218556e-03\n",
      "  5.58442396e-03]\n",
      " [4.39605156e-03 4.83897246e-03 4.37494759e-03 4.55063761e-03\n",
      "  4.43322608e-03]\n",
      " [3.48850209e-03 3.84024441e-03 3.47189443e-03 3.61132743e-03\n",
      "  3.51808352e-03]\n",
      " [2.76754042e-03 3.04675323e-03 2.75445296e-03 2.86507811e-03\n",
      "  2.79105966e-03]\n",
      " [2.19509199e-03 2.41665486e-03 2.18476698e-03 2.27251533e-03\n",
      "  2.21377876e-03]\n",
      " [1.74074481e-03 1.91651301e-03 1.73259178e-03 1.80218102e-03\n",
      "  1.75558409e-03]\n",
      " [1.38024730e-03 1.51965595e-03 1.37380467e-03 1.42898449e-03\n",
      "  1.39202627e-03]\n",
      " [1.09428552e-03 1.20483703e-03 1.08919148e-03 1.13294037e-03\n",
      "  1.10363216e-03]\n",
      " [8.67493621e-04 9.55149398e-04 8.63464010e-04 8.98146712e-04\n",
      "  8.74908225e-04]\n",
      " [6.87656752e-04 7.57151114e-04 6.84467961e-04 7.11961237e-04\n",
      "  6.93537447e-04]\n",
      " [5.45071127e-04 6.00162229e-04 5.42546962e-04 5.64339830e-04\n",
      "  5.49734461e-04]\n",
      " [4.32031739e-04 4.75701810e-04 4.30033202e-04 4.47306766e-04\n",
      "  4.35729226e-04]\n",
      " [3.42423115e-04 3.77038009e-04 3.40840453e-04 3.54531398e-04\n",
      "  3.45354489e-04]\n",
      " [2.71392951e-04 2.98829128e-04 2.70139437e-04 2.80990495e-04\n",
      "  2.73716754e-04]\n",
      " [2.15092166e-04 2.36837673e-04 2.14099230e-04 2.22699274e-04\n",
      "  2.16934206e-04]\n",
      " [1.70468103e-04 1.87702807e-04 1.69681502e-04 1.76497370e-04\n",
      "  1.71928180e-04]\n",
      " [1.35100116e-04 1.48759431e-04 1.34476926e-04 1.39878687e-04\n",
      "  1.36257385e-04]\n",
      " [1.07068965e-04 1.17894434e-04 1.06575210e-04 1.10856203e-04\n",
      "  1.07986197e-04]\n",
      " [8.48531087e-05 9.34325444e-05 8.44618867e-05 8.78546196e-05\n",
      "  8.55800716e-05]\n",
      " [6.72463866e-05 7.40457169e-05 6.69363940e-05 6.96251516e-05\n",
      "  6.78225377e-05]\n",
      " [5.32927098e-05 5.86812351e-05 5.30470738e-05 5.51779152e-05\n",
      "  5.37493283e-05]\n",
      " [4.22342511e-05 4.65046733e-05 4.20396061e-05 4.37282910e-05\n",
      "  4.25961313e-05]\n",
      " [3.34703550e-05 3.68546596e-05 3.33161132e-05 3.46543856e-05\n",
      "  3.37571502e-05]\n",
      " [2.65249561e-05 2.92070022e-05 2.64027289e-05 2.74632986e-05\n",
      "  2.67522434e-05]\n",
      " [2.10207450e-05 2.31462475e-05 2.09238864e-05 2.17643770e-05\n",
      "  2.12008707e-05]\n",
      " [1.66586882e-05 1.83431295e-05 1.65819322e-05 1.72480112e-05\n",
      "  1.68014376e-05]\n",
      " [1.32017929e-05 1.45366944e-05 1.31409668e-05 1.36688259e-05\n",
      "  1.33149211e-05]\n",
      " [1.04622375e-05 1.15201307e-05 1.04140348e-05 1.08323560e-05\n",
      "  1.05518907e-05]]\n",
      "[[ 5.22125680e-01  3.92101917e-01  5.63523748e-01  5.08779823e-01\n",
      "   5.28175857e-01]\n",
      " [ 5.22125626e-01  3.92102308e-01  5.63523597e-01  5.08779854e-01\n",
      "   5.28175731e-01]\n",
      " [ 5.22125558e-01  3.92102801e-01  5.63523406e-01  5.08779894e-01\n",
      "   5.28175571e-01]\n",
      " [ 5.22125473e-01  3.92103423e-01  5.63523166e-01  5.08779945e-01\n",
      "   5.28175371e-01]\n",
      " [ 5.22125365e-01  3.92104209e-01  5.63522862e-01  5.08780008e-01\n",
      "   5.28175117e-01]\n",
      " [ 5.22125229e-01  3.92105199e-01  5.63522479e-01  5.08780088e-01\n",
      "   5.28174798e-01]\n",
      " [ 5.22125057e-01  3.92106449e-01  5.63521995e-01  5.08780190e-01\n",
      "   5.28174394e-01]\n",
      " [ 5.22124841e-01  3.92108027e-01  5.63521385e-01  5.08780317e-01\n",
      "   5.28173885e-01]\n",
      " [ 5.22124567e-01  3.92110017e-01  5.63520614e-01  5.08780478e-01\n",
      "   5.28173242e-01]\n",
      " [ 5.22124221e-01  3.92112527e-01  5.63519642e-01  5.08780680e-01\n",
      "   5.28172431e-01]\n",
      " [ 5.22123785e-01  3.92115695e-01  5.63518414e-01  5.08780935e-01\n",
      "   5.28171407e-01]\n",
      " [ 5.22123233e-01  3.92119692e-01  5.63516865e-01  5.08781257e-01\n",
      "   5.28170115e-01]\n",
      " [ 5.22122537e-01  3.92124733e-01  5.63514909e-01  5.08781661e-01\n",
      "   5.28168483e-01]\n",
      " [ 5.22121656e-01  3.92131093e-01  5.63512439e-01  5.08782169e-01\n",
      "   5.28166422e-01]\n",
      " [ 5.22120542e-01  3.92139115e-01  5.63509319e-01  5.08782809e-01\n",
      "   5.28163820e-01]\n",
      " [ 5.22119133e-01  3.92149232e-01  5.63505380e-01  5.08783611e-01\n",
      "   5.28160533e-01]\n",
      " [ 5.22117349e-01  3.92161990e-01  5.63500402e-01  5.08784617e-01\n",
      "   5.28156379e-01]\n",
      " [ 5.22115087e-01  3.92178075e-01  5.63494111e-01  5.08785876e-01\n",
      "   5.28151129e-01]\n",
      " [ 5.22112219e-01  3.92198351e-01  5.63486158e-01  5.08787448e-01\n",
      "   5.28144489e-01]\n",
      " [ 5.22108574e-01  3.92223903e-01  5.63476097e-01  5.08789404e-01\n",
      "   5.28136089e-01]\n",
      " [ 5.22103937e-01  3.92256092e-01  5.63463363e-01  5.08791831e-01\n",
      "   5.28125453e-01]\n",
      " [ 5.22098023e-01  3.92296624e-01  5.63447231e-01  5.08794826e-01\n",
      "   5.28111975e-01]\n",
      " [ 5.22090461e-01  3.92347634e-01  5.63426777e-01  5.08798498e-01\n",
      "   5.28094878e-01]\n",
      " [ 5.22080763e-01  3.92411784e-01  5.63400808e-01  5.08802962e-01\n",
      "   5.28073159e-01]\n",
      " [ 5.22068277e-01  3.92492389e-01  5.63367790e-01  5.08808326e-01\n",
      "   5.28045525e-01]\n",
      " [ 5.22052127e-01  3.92593555e-01  5.63325729e-01  5.08814665e-01\n",
      "   5.28010293e-01]\n",
      " [ 5.22031123e-01  3.92720347e-01  5.63272025e-01  5.08821985e-01\n",
      "   5.27965261e-01]\n",
      " [ 5.22003627e-01  3.92878967e-01  5.63203264e-01  5.08830146e-01\n",
      "   5.27907528e-01]\n",
      " [ 5.21967365e-01  3.93076951e-01  5.63114925e-01  5.08838742e-01\n",
      "   5.27833241e-01]\n",
      " [ 5.21919135e-01  3.93323343e-01  5.63000975e-01  5.08846902e-01\n",
      "   5.27737234e-01]\n",
      " [ 5.21854380e-01  3.93628835e-01  5.62853284e-01  5.08852965e-01\n",
      "   5.27612519e-01]\n",
      " [ 5.21766550e-01  3.94005793e-01  5.62660799e-01  5.08853961e-01\n",
      "   5.27449547e-01]\n",
      " [ 5.21646149e-01  3.94468072e-01  5.62408351e-01  5.08844798e-01\n",
      "   5.27235143e-01]\n",
      " [ 5.21479306e-01  3.95030471e-01  5.62074936e-01  5.08816989e-01\n",
      "   5.26950973e-01]\n",
      " [ 5.21245675e-01  3.95707568e-01  5.61631259e-01  5.08756705e-01\n",
      "   5.26571324e-01]\n",
      " [ 5.20915348e-01  3.96511587e-01  5.61036224e-01  5.08641839e-01\n",
      "   5.26059928e-01]\n",
      " [ 5.20444405e-01  3.97448792e-01  5.60232015e-01  5.08437670e-01\n",
      "   5.25365481e-01]\n",
      " [ 5.19768641e-01  3.98513759e-01  5.59137312e-01  5.08090618e-01\n",
      "   5.24415423e-01]\n",
      " [ 5.18794978e-01  3.99680742e-01  5.57638246e-01  5.07519550e-01\n",
      "   5.23107584e-01]\n",
      " [ 5.17390208e-01  4.00891349e-01  5.55576853e-01  5.06604184e-01\n",
      "   5.21299415e-01]\n",
      " [ 5.15367148e-01  4.02038034e-01  5.52737341e-01  5.05170543e-01\n",
      "   5.18794992e-01]\n",
      " [ 5.12469157e-01  4.02943701e-01  5.48831460e-01  5.02974308e-01\n",
      "   5.15330884e-01]\n",
      " [ 5.08355600e-01  4.03339332e-01  5.43486004e-01  4.99684506e-01\n",
      "   5.10563495e-01]\n",
      " [ 5.02593091e-01  4.02844093e-01  5.36237726e-01  4.94872316e-01\n",
      "   5.04062679e-01]\n",
      " [ 4.94659975e-01  4.00955670e-01  5.26543345e-01  4.88012551e-01\n",
      "   4.95318759e-01]\n",
      " [ 4.83973192e-01  3.97061519e-01  5.13813451e-01  4.78507306e-01\n",
      "   4.83771476e-01]\n",
      " [ 4.69945553e-01  3.90482217e-01  4.97477032e-01  4.65740572e-01\n",
      "   4.68867925e-01]\n",
      " [ 4.52075297e-01  3.80553458e-01  4.77076161e-01  4.49166732e-01\n",
      "   4.50150282e-01]\n",
      " [ 4.30057941e-01  3.66741831e-01  4.52378113e-01  4.28424222e-01\n",
      "   4.27362745e-01]\n",
      " [ 4.03895960e-01  3.48773205e-01  4.23478586e-01  4.03450690e-01\n",
      "   4.00553662e-01]\n",
      " [ 3.73971918e-01  3.26738313e-01  3.90862160e-01  3.74564998e-01\n",
      "   3.70140273e-01]\n",
      " [ 3.41053600e-01  3.01137535e-01  3.55391870e-01  3.42482830e-01\n",
      "   3.36907294e-01]\n",
      " [ 3.06218432e-01  2.72841698e-01  3.18220025e-01  3.08250178e-01\n",
      "   3.01928917e-01]\n",
      " [ 2.70712177e-01  2.42973756e-01  2.80639243e-01  2.73106783e-01\n",
      "   2.66429958e-01]\n",
      " [ 2.35779830e-01  2.12744065e-01  2.43912845e-01  2.38316003e-01\n",
      "   2.31622835e-01]\n",
      " [ 2.02513158e-01  1.83285240e-01  2.09127451e-01  2.05006278e-01\n",
      "   1.98562443e-01]\n",
      " [ 1.71747863e-01  1.55526294e-01  1.77097740e-01  1.74059617e-01\n",
      "   1.68049631e-01]\n",
      " [ 1.44022289e-01  1.30126077e-01  1.48332604e-01  1.46061795e-01\n",
      "   1.40593930e-01]\n",
      " [ 1.19590064e-01  1.07464556e-01  1.23053538e-01  1.21308645e-01\n",
      "   1.16427784e-01]\n",
      " [ 9.84681217e-02  8.76763078e-02  1.01246360e-01  9.98506216e-02\n",
      "   9.55543358e-02]\n",
      " [ 8.04999916e-02  7.07060965e-02  8.27264545e-02  8.15551856e-02\n",
      "   7.78094675e-02]\n",
      " [ 6.54186798e-02  5.63693318e-02  6.72024194e-02  6.61705275e-02\n",
      "   6.29230909e-02]\n",
      " [ 5.28999096e-02  4.44061860e-02  5.43293724e-02  5.33805130e-02\n",
      "   5.05708884e-02]\n",
      " [ 4.26021613e-02  3.45241402e-02  4.37487000e-02  4.28466353e-02\n",
      "   4.04131384e-02]\n",
      " [ 3.41937237e-02  2.64280283e-02  3.51146758e-02  3.42367928e-02\n",
      "   3.21208786e-02]\n",
      " [ 2.73688930e-02  1.98390768e-02  2.81101985e-02  2.72428629e-02\n",
      "   2.53915096e-02]\n",
      " [ 2.18560511e-02  1.45053893e-02  2.24544347e-02  2.15897775e-02\n",
      "   1.99565046e-02]\n",
      " [ 1.74201904e-02  1.02063763e-02  1.79049584e-02  1.70387166e-02\n",
      "   1.55837282e-02]\n",
      " [ 1.38619659e-02  6.75325302e-03  1.42564718e-02  1.33865743e-02\n",
      "   1.20763900e-02]\n",
      " [ 1.10148043e-02  3.98721419e-03  1.13376373e-02  1.04632987e-02\n",
      "   9.27012267e-03]\n",
      " [ 8.74111155e-03  1.77641499e-03  9.00705533e-03  8.12820901e-03\n",
      "   7.02919809e-03]\n",
      " [ 6.92824082e-03  1.24933414e-05  7.14904420e-03  6.26599538e-03\n",
      "   5.24252342e-03]\n",
      " [ 5.48460708e-03 -1.39291844e-03  5.66960167e-03  4.78282195e-03\n",
      "   3.81979361e-03]\n",
      " [ 4.33615227e-03 -2.51144487e-03  4.49274643e-03  3.60275611e-03\n",
      "   2.68799566e-03]\n",
      " [ 3.42324541e-03 -3.40086344e-03  3.55731849e-03  2.66462314e-03\n",
      "   1.78834636e-03]\n",
      " [ 2.69803244e-03 -4.10760752e-03  2.81424898e-03  1.91930844e-03\n",
      "   1.07367586e-03]\n",
      " [ 2.12221135e-03 -4.66888405e-03  2.22427125e-03  1.32748738e-03\n",
      "   5.06232214e-04]\n",
      " [ 1.66518915e-03 -5.11443780e-03  1.75602661e-03  8.57741551e-04\n",
      "   5.58632883e-05]\n",
      " [ 1.30257032e-03 -5.46800456e-03  1.38451196e-03  4.85011801e-04\n",
      "  -3.01473943e-04]\n",
      " [ 1.01492654e-03 -5.74849772e-03  1.08981698e-03  1.89337869e-04\n",
      "  -5.84926502e-04]\n",
      " [ 7.86801119e-04 -5.97097085e-03  8.56102734e-04 -4.51622572e-05\n",
      "  -8.09726890e-04]\n",
      " [ 6.05907109e-04 -6.14739463e-03  6.70779115e-04 -2.31115007e-04\n",
      "  -9.87983639e-04]\n",
      " [ 4.62483496e-04 -6.28728138e-03  5.23844765e-04 -3.78551916e-04\n",
      "  -1.12931586e-03]\n",
      " [ 3.48779877e-04 -6.39818569e-03  4.07358728e-04 -4.95438727e-04\n",
      "  -1.24136121e-03]\n",
      " [ 2.58644775e-04 -6.48610466e-03  3.15018470e-04 -5.88098166e-04\n",
      "  -1.33018161e-03]\n",
      " [ 1.87197331e-04 -6.55579727e-03  2.41823390e-04 -6.61547179e-04\n",
      "  -1.40058682e-03]\n",
      " [ 1.30565825e-04 -6.61103900e-03  1.83806859e-04 -7.19765571e-04\n",
      "  -1.45639216e-03]\n",
      " [ 8.56796481e-05 -6.65482436e-03  1.37823039e-04 -7.65909751e-04\n",
      "  -1.50062348e-03]\n",
      " [ 5.01039273e-05 -6.68952806e-03  1.01377434e-04 -8.02482685e-04\n",
      "  -1.53568015e-03]\n",
      " [ 2.19081429e-05 -6.71703300e-03  7.24922674e-05 -8.31468911e-04\n",
      "  -1.56346454e-03]\n",
      " [-4.38188543e-07 -6.73883199e-03  4.95996039e-05 -8.54441759e-04\n",
      "  -1.58548481e-03]\n",
      " [-1.81483132e-05 -6.75610845e-03  3.14565152e-05 -8.72648454e-04\n",
      "  -1.60293652e-03]\n",
      " [-3.21839368e-05 -6.76980045e-03  1.70777716e-05 -8.87077642e-04\n",
      "  -1.61676734e-03]\n",
      " [-4.33073384e-05 -6.78065157e-03  5.68245121e-06 -8.98512963e-04\n",
      "  -1.62772843e-03]\n",
      " [-5.21227014e-05 -6.78925118e-03 -3.34840408e-06 -9.07575533e-04\n",
      "  -1.63641516e-03]\n",
      " [-5.91088875e-05 -6.79606639e-03 -1.05053650e-05 -9.14757637e-04\n",
      "  -1.64329940e-03]\n",
      " [-6.46454220e-05 -6.80146745e-03 -1.61772361e-05 -9.20449440e-04\n",
      "  -1.64875514e-03]\n",
      " [-6.90330947e-05 -6.80574776e-03 -2.06721612e-05 -9.24960164e-04\n",
      "  -1.65307879e-03]\n",
      " [-7.25102904e-05 -6.80913988e-03 -2.42343526e-05 -9.28534878e-04\n",
      "  -1.65650524e-03]\n",
      " [-7.52659336e-05 -6.81182810e-03 -2.70573537e-05 -9.31367804e-04\n",
      "  -1.65922068e-03]]\n"
     ]
    }
   ],
   "source": [
    "# Printing the result of both objects of validation curve\n",
    "\n",
    "print(train_scores)\n",
    "print(test_scores)"
   ]
  },
  {
   "cell_type": "code",
   "execution_count": 51,
   "id": "9d12e23d",
   "metadata": {},
   "outputs": [],
   "source": [
    "# Calculating mean of the values across column\n",
    "\n",
    "train_mean = np.mean(train_scores, axis = 1)\n",
    "test_mean = np.mean(test_scores, axis = 1)"
   ]
  },
  {
   "cell_type": "code",
   "execution_count": 52,
   "id": "c3e905d0",
   "metadata": {},
   "outputs": [
    {
     "data": {
      "text/plain": [
       "array([5.14182479e-01, 5.14182479e-01, 5.14182479e-01, 5.14182479e-01,\n",
       "       5.14182479e-01, 5.14182478e-01, 5.14182478e-01, 5.14182478e-01,\n",
       "       5.14182477e-01, 5.14182476e-01, 5.14182474e-01, 5.14182471e-01,\n",
       "       5.14182466e-01, 5.14182458e-01, 5.14182446e-01, 5.14182427e-01,\n",
       "       5.14182396e-01, 5.14182347e-01, 5.14182269e-01, 5.14182145e-01,\n",
       "       5.14181947e-01, 5.14181633e-01, 5.14181132e-01, 5.14180336e-01,\n",
       "       5.14179071e-01, 5.14177060e-01, 5.14173866e-01, 5.14168794e-01,\n",
       "       5.14160749e-01, 5.14147998e-01, 5.14127814e-01, 5.14095913e-01,\n",
       "       5.14045588e-01, 5.13966388e-01, 5.13842122e-01, 5.13647872e-01,\n",
       "       5.13345639e-01, 5.12878105e-01, 5.12160021e-01, 5.11066779e-01,\n",
       "       5.09420188e-01, 5.06972329e-01, 5.03389959e-01, 4.98244248e-01,\n",
       "       4.91013286e-01, 4.81106697e-01, 4.67920762e-01, 4.50926646e-01,\n",
       "       4.29782632e-01, 4.04446741e-01, 3.75255515e-01, 3.42936599e-01,\n",
       "       3.08540370e-01, 2.73303260e-01, 2.38479152e-01, 2.05183386e-01,\n",
       "       1.74283886e-01, 1.46353454e-01, 1.21677296e-01, 1.00298006e-01,\n",
       "       8.20778065e-02, 6.67618146e-02, 5.40324385e-02, 4.35508177e-02,\n",
       "       3.49851842e-02, 2.80281280e-02, 2.24054624e-02, 1.78792832e-02,\n",
       "       1.42473569e-02, 1.13404207e-02, 9.01848245e-03, 7.16682006e-03,\n",
       "       5.69208999e-03, 4.51876706e-03, 3.58601037e-03, 2.84497688e-03,\n",
       "       2.25656158e-03, 1.78952294e-03, 1.41894374e-03, 1.12497731e-03,\n",
       "       8.91832393e-04, 7.06954902e-04, 5.60370922e-04, 4.44160549e-04,\n",
       "       3.52037493e-04, 2.79013753e-04, 2.21132510e-04, 1.75255592e-04,\n",
       "       1.38894509e-04, 1.10076202e-04, 8.72364462e-05, 6.91352374e-05,\n",
       "       5.47896524e-05, 4.34205906e-05, 3.44105327e-05, 2.72700458e-05,\n",
       "       2.16112253e-05, 1.71266397e-05, 1.35726402e-05, 1.07561299e-05])"
      ]
     },
     "execution_count": 52,
     "metadata": {},
     "output_type": "execute_result"
    }
   ],
   "source": [
    "# printing calculated mean values of r2 across column\n",
    "train_mean"
   ]
  },
  {
   "cell_type": "code",
   "execution_count": 53,
   "id": "4598530f",
   "metadata": {},
   "outputs": [
    {
     "data": {
      "text/plain": [
       "array([ 5.02941405e-01,  5.02941423e-01,  5.02941446e-01,  5.02941476e-01,\n",
       "        5.02941512e-01,  5.02941559e-01,  5.02941617e-01,  5.02941691e-01,\n",
       "        5.02941784e-01,  5.02941900e-01,  5.02942047e-01,  5.02942232e-01,\n",
       "        5.02942464e-01,  5.02942756e-01,  5.02943121e-01,  5.02943578e-01,\n",
       "        5.02944147e-01,  5.02944856e-01,  5.02945733e-01,  5.02946814e-01,\n",
       "        5.02948135e-01,  5.02949736e-01,  5.02951649e-01,  5.02953895e-01,\n",
       "        5.02956461e-01,  5.02959274e-01,  5.02962148e-01,  5.02964707e-01,\n",
       "        5.02966245e-01,  5.02965518e-01,  5.02960397e-01,  5.02947330e-01,\n",
       "        5.02920503e-01,  5.02870535e-01,  5.02782506e-01,  5.02632985e-01,\n",
       "        5.02385672e-01,  5.01985151e-01,  5.01348220e-01,  5.00352402e-01,\n",
       "        4.98821611e-01,  4.96509902e-01,  4.93085787e-01,  4.88121981e-01,\n",
       "        4.81098060e-01,  4.71425389e-01,  4.58502660e-01,  4.41804386e-01,\n",
       "        4.20992970e-01,  3.96030421e-01,  3.67255532e-01,  3.35394626e-01,\n",
       "        3.01491850e-01,  2.66772383e-01,  2.32475116e-01,  1.99698914e-01,\n",
       "        1.69296229e-01,  1.41827339e-01,  1.17568918e-01,  9.65591494e-02,\n",
       "        7.86594391e-02,  6.36168099e-02,  5.11173739e-02,  4.08269551e-02,\n",
       "        3.24188199e-02,  2.55905082e-02,  2.00724315e-02,  1.56307940e-02,\n",
       "        1.20669310e-02,  9.21461542e-03,  6.93639779e-03,  5.11965943e-03,\n",
       "        3.67278117e-03,  2.52164112e-03,  1.60653399e-03,  8.79531640e-04,\n",
       "        3.02263629e-04, -1.55923441e-04, -5.19476885e-04, -8.07868567e-04,\n",
       "       -1.03659123e-03, -1.21796141e-03, -1.36176418e-03, -1.47576941e-03,\n",
       "       -1.56614424e-03, -1.63778211e-03, -1.69456481e-03, -1.73957098e-03,\n",
       "       -1.77524191e-03, -1.80351321e-03, -1.82591943e-03, -1.84367704e-03,\n",
       "       -1.85775032e-03, -1.86890357e-03, -1.87774259e-03, -1.88474754e-03,\n",
       "       -1.89029894e-03, -1.89469839e-03, -1.89818493e-03, -1.90094797e-03])"
      ]
     },
     "execution_count": 53,
     "metadata": {},
     "output_type": "execute_result"
    }
   ],
   "source": [
    "# printing calculated mean values of r2 across column\n",
    "test_mean"
   ]
  },
  {
   "cell_type": "code",
   "execution_count": 54,
   "id": "947ce2bc",
   "metadata": {},
   "outputs": [
    {
     "data": {
      "text/plain": [
       "<seaborn.axisgrid.JointGrid at 0x2000b38fed0>"
      ]
     },
     "execution_count": 54,
     "metadata": {},
     "output_type": "execute_result"
    },
    {
     "data": {
      "image/png": "[encoded data removed]",
      "text/plain": [
       "<Figure size 600x600 with 3 Axes>"
      ]
     },
     "metadata": {},
     "output_type": "display_data"
    }
   ],
   "source": [
    "# Visualization of the Validation curve (r2 vs alpha)\n",
    "\n",
    "sns.jointplot(x = np.log(param_range), y = test_mean)"
   ]
  },
  {
   "cell_type": "code",
   "execution_count": 55,
   "id": "b27f1495",
   "metadata": {},
   "outputs": [
    {
     "data": {
      "text/plain": [
       "(array([28], dtype=int64),)"
      ]
     },
     "execution_count": 55,
     "metadata": {},
     "output_type": "execute_result"
    }
   ],
   "source": [
    "# Finding the location of max mean test score value\n",
    "\n",
    "np.where(test_mean == max(test_mean))"
   ]
  },
  {
   "cell_type": "code",
   "execution_count": 56,
   "id": "f39be489",
   "metadata": {},
   "outputs": [
    {
     "data": {
      "text/plain": [
       "10.722672220103231"
      ]
     },
     "execution_count": 56,
     "metadata": {},
     "output_type": "execute_result"
    }
   ],
   "source": [
    "# Finding the lamda value of thid 30 index\n",
    "\n",
    "param_range[30]"
   ]
  },
  {
   "cell_type": "markdown",
   "id": "335562bf",
   "metadata": {},
   "source": [
    "10.722672220103231 is the lamda value at which we are getting the max r-squared value"
   ]
  },
  {
   "cell_type": "code",
   "execution_count": 57,
   "id": "6c36efaa",
   "metadata": {},
   "outputs": [],
   "source": [
    "# Creating Ridge Regression object using best lamda value\n",
    "\n",
    "lm_rid_best = Ridge(alpha = param_range[30])"
   ]
  },
  {
   "cell_type": "code",
   "execution_count": 58,
   "id": "55c4f650",
   "metadata": {},
   "outputs": [
    {
     "data": {
      "text/html": [
       "<style>#sk-container-id-3 {color: black;}#sk-container-id-3 pre{padding: 0;}#sk-container-id-3 div.sk-toggleable {background-color: white;}#sk-container-id-3 label.sk-toggleable__label {cursor: pointer;display: block;width: 100%;margin-bottom: 0;padding: 0.3em;box-sizing: border-box;text-align: center;}#sk-container-id-3 label.sk-toggleable__label-arrow:before {content: \"▸\";float: left;margin-right: 0.25em;color: #696969;}#sk-container-id-3 label.sk-toggleable__label-arrow:hover:before {color: black;}#sk-container-id-3 div.sk-estimator:hover label.sk-toggleable__label-arrow:before {color: black;}#sk-container-id-3 div.sk-toggleable__content {max-height: 0;max-width: 0;overflow: hidden;text-align: left;background-color: #f0f8ff;}#sk-container-id-3 div.sk-toggleable__content pre {margin: 0.2em;color: black;border-radius: 0.25em;background-color: #f0f8ff;}#sk-container-id-3 input.sk-toggleable__control:checked~div.sk-toggleable__content {max-height: 200px;max-width: 100%;overflow: auto;}#sk-container-id-3 input.sk-toggleable__control:checked~label.sk-toggleable__label-arrow:before {content: \"▾\";}#sk-container-id-3 div.sk-estimator input.sk-toggleable__control:checked~label.sk-toggleable__label {background-color: #d4ebff;}#sk-container-id-3 div.sk-label input.sk-toggleable__control:checked~label.sk-toggleable__label {background-color: #d4ebff;}#sk-container-id-3 input.sk-hidden--visually {border: 0;clip: rect(1px 1px 1px 1px);clip: rect(1px, 1px, 1px, 1px);height: 1px;margin: -1px;overflow: hidden;padding: 0;position: absolute;width: 1px;}#sk-container-id-3 div.sk-estimator {font-family: monospace;background-color: #f0f8ff;border: 1px dotted black;border-radius: 0.25em;box-sizing: border-box;margin-bottom: 0.5em;}#sk-container-id-3 div.sk-estimator:hover {background-color: #d4ebff;}#sk-container-id-3 div.sk-parallel-item::after {content: \"\";width: 100%;border-bottom: 1px solid gray;flex-grow: 1;}#sk-container-id-3 div.sk-label:hover label.sk-toggleable__label {background-color: #d4ebff;}#sk-container-id-3 div.sk-serial::before {content: \"\";position: absolute;border-left: 1px solid gray;box-sizing: border-box;top: 0;bottom: 0;left: 50%;z-index: 0;}#sk-container-id-3 div.sk-serial {display: flex;flex-direction: column;align-items: center;background-color: white;padding-right: 0.2em;padding-left: 0.2em;position: relative;}#sk-container-id-3 div.sk-item {position: relative;z-index: 1;}#sk-container-id-3 div.sk-parallel {display: flex;align-items: stretch;justify-content: center;background-color: white;position: relative;}#sk-container-id-3 div.sk-item::before, #sk-container-id-3 div.sk-parallel-item::before {content: \"\";position: absolute;border-left: 1px solid gray;box-sizing: border-box;top: 0;bottom: 0;left: 50%;z-index: -1;}#sk-container-id-3 div.sk-parallel-item {display: flex;flex-direction: column;z-index: 1;position: relative;background-color: white;}#sk-container-id-3 div.sk-parallel-item:first-child::after {align-self: flex-end;width: 50%;}#sk-container-id-3 div.sk-parallel-item:last-child::after {align-self: flex-start;width: 50%;}#sk-container-id-3 div.sk-parallel-item:only-child::after {width: 0;}#sk-container-id-3 div.sk-dashed-wrapped {border: 1px dashed gray;margin: 0 0.4em 0.5em 0.4em;box-sizing: border-box;padding-bottom: 0.4em;background-color: white;}#sk-container-id-3 div.sk-label label {font-family: monospace;font-weight: bold;display: inline-block;line-height: 1.2em;}#sk-container-id-3 div.sk-label-container {text-align: center;}#sk-container-id-3 div.sk-container {/* jupyter's `normalize.less` sets `[hidden] { display: none; }` but bootstrap.min.css set `[hidden] { display: none !important; }` so we also need the `!important` here to be able to override the default hidden behavior on the sphinx rendered scikit-learn.org. See: https://github.com/scikit-learn/scikit-learn/issues/21755 */display: inline-block !important;position: relative;}#sk-container-id-3 div.sk-text-repr-fallback {display: none;}</style><div id=\"sk-container-id-3\" class=\"sk-top-container\"><div class=\"sk-text-repr-fallback\"><pre>Ridge(alpha=10.722672220103231)</pre><b>In a Jupyter environment, please rerun this cell to show the HTML representation or trust the notebook. <br />On GitHub, the HTML representation is unable to render, please try loading this page with nbviewer.org.</b></div><div class=\"sk-container\" hidden><div class=\"sk-item\"><div class=\"sk-estimator sk-toggleable\"><input class=\"sk-toggleable__control sk-hidden--visually\" id=\"sk-estimator-id-3\" type=\"checkbox\" checked><label for=\"sk-estimator-id-3\" class=\"sk-toggleable__label sk-toggleable__label-arrow\">Ridge</label><div class=\"sk-toggleable__content\"><pre>Ridge(alpha=10.722672220103231)</pre></div></div></div></div></div>"
      ],
      "text/plain": [
       "Ridge(alpha=10.722672220103231)"
      ]
     },
     "execution_count": 58,
     "metadata": {},
     "output_type": "execute_result"
    }
   ],
   "source": [
    "# Fitting our best model on training data set\n",
    "\n",
    "lm_rid_best.fit(X_train_s, Y_train)"
   ]
  },
  {
   "cell_type": "code",
   "execution_count": 59,
   "id": "bd7a0518",
   "metadata": {},
   "outputs": [
    {
     "name": "stdout",
     "output_type": "stream",
     "text": [
      "r2_score test set with best alpha value is: 0.5918698566500562\n",
      "r2_score train set with best alpha value is: 0.5137396407726662\n",
      "MSE of test set with best alpha value is: 77644706.42436834\n",
      "MSE of train set with best alpha value is: 73101571.76587746\n"
     ]
    }
   ],
   "source": [
    "# Calcualting model accuracy for test and train data\n",
    "\n",
    "print('r2_score test set with best alpha value is:', r2_score(Y_test, lm_rid_best.predict(X_test_s)))\n",
    "print('r2_score train set with best alpha value is:', r2_score(Y_train, lm_rid_best.predict(X_train_s)))\n",
    "print('MSE of test set with best alpha value is:', mean_squared_error(Y_test, lm_rid_best.predict(X_test_s)))\n",
    "print('MSE of train set with best alpha value is:', mean_squared_error(Y_train, lm_rid_best.predict(X_train_s)))"
   ]
  },
  {
   "cell_type": "markdown",
   "id": "6c7c71f7",
   "metadata": {},
   "source": [
    "### Model Interpretation / evaluation\n",
    "In general, it is preferable that the Test R2 score be greater than the Train R2 value. It implies that the model is reasonably generalizing to new, unforeseen data.\n",
    "Overall, the model's performance shows that it has some predictive potential and is not considerably overfitting to the training data, with R-squared values of 0.5918 (Test) and 0.5137 (Train)."
   ]
  },
  {
   "cell_type": "markdown",
   "id": "c4294b79",
   "metadata": {},
   "source": [
    "## Lasso Regression"
   ]
  },
  {
   "cell_type": "code",
   "execution_count": 60,
   "id": "6498e4ac",
   "metadata": {},
   "outputs": [],
   "source": [
    "# Importing Lasso from sklearn\n",
    "\n",
    "from sklearn.linear_model import Lasso"
   ]
  },
  {
   "cell_type": "code",
   "execution_count": 61,
   "id": "44b99175",
   "metadata": {},
   "outputs": [],
   "source": [
    "# Creating Ridge Regression model object\n",
    "\n",
    "lm_lasso = Lasso(alpha = 0.5)"
   ]
  },
  {
   "cell_type": "code",
   "execution_count": 62,
   "id": "3ca53caf",
   "metadata": {},
   "outputs": [
    {
     "data": {
      "text/html": [
       "<style>#sk-container-id-4 {color: black;}#sk-container-id-4 pre{padding: 0;}#sk-container-id-4 div.sk-toggleable {background-color: white;}#sk-container-id-4 label.sk-toggleable__label {cursor: pointer;display: block;width: 100%;margin-bottom: 0;padding: 0.3em;box-sizing: border-box;text-align: center;}#sk-container-id-4 label.sk-toggleable__label-arrow:before {content: \"▸\";float: left;margin-right: 0.25em;color: #696969;}#sk-container-id-4 label.sk-toggleable__label-arrow:hover:before {color: black;}#sk-container-id-4 div.sk-estimator:hover label.sk-toggleable__label-arrow:before {color: black;}#sk-container-id-4 div.sk-toggleable__content {max-height: 0;max-width: 0;overflow: hidden;text-align: left;background-color: #f0f8ff;}#sk-container-id-4 div.sk-toggleable__content pre {margin: 0.2em;color: black;border-radius: 0.25em;background-color: #f0f8ff;}#sk-container-id-4 input.sk-toggleable__control:checked~div.sk-toggleable__content {max-height: 200px;max-width: 100%;overflow: auto;}#sk-container-id-4 input.sk-toggleable__control:checked~label.sk-toggleable__label-arrow:before {content: \"▾\";}#sk-container-id-4 div.sk-estimator input.sk-toggleable__control:checked~label.sk-toggleable__label {background-color: #d4ebff;}#sk-container-id-4 div.sk-label input.sk-toggleable__control:checked~label.sk-toggleable__label {background-color: #d4ebff;}#sk-container-id-4 input.sk-hidden--visually {border: 0;clip: rect(1px 1px 1px 1px);clip: rect(1px, 1px, 1px, 1px);height: 1px;margin: -1px;overflow: hidden;padding: 0;position: absolute;width: 1px;}#sk-container-id-4 div.sk-estimator {font-family: monospace;background-color: #f0f8ff;border: 1px dotted black;border-radius: 0.25em;box-sizing: border-box;margin-bottom: 0.5em;}#sk-container-id-4 div.sk-estimator:hover {background-color: #d4ebff;}#sk-container-id-4 div.sk-parallel-item::after {content: \"\";width: 100%;border-bottom: 1px solid gray;flex-grow: 1;}#sk-container-id-4 div.sk-label:hover label.sk-toggleable__label {background-color: #d4ebff;}#sk-container-id-4 div.sk-serial::before {content: \"\";position: absolute;border-left: 1px solid gray;box-sizing: border-box;top: 0;bottom: 0;left: 50%;z-index: 0;}#sk-container-id-4 div.sk-serial {display: flex;flex-direction: column;align-items: center;background-color: white;padding-right: 0.2em;padding-left: 0.2em;position: relative;}#sk-container-id-4 div.sk-item {position: relative;z-index: 1;}#sk-container-id-4 div.sk-parallel {display: flex;align-items: stretch;justify-content: center;background-color: white;position: relative;}#sk-container-id-4 div.sk-item::before, #sk-container-id-4 div.sk-parallel-item::before {content: \"\";position: absolute;border-left: 1px solid gray;box-sizing: border-box;top: 0;bottom: 0;left: 50%;z-index: -1;}#sk-container-id-4 div.sk-parallel-item {display: flex;flex-direction: column;z-index: 1;position: relative;background-color: white;}#sk-container-id-4 div.sk-parallel-item:first-child::after {align-self: flex-end;width: 50%;}#sk-container-id-4 div.sk-parallel-item:last-child::after {align-self: flex-start;width: 50%;}#sk-container-id-4 div.sk-parallel-item:only-child::after {width: 0;}#sk-container-id-4 div.sk-dashed-wrapped {border: 1px dashed gray;margin: 0 0.4em 0.5em 0.4em;box-sizing: border-box;padding-bottom: 0.4em;background-color: white;}#sk-container-id-4 div.sk-label label {font-family: monospace;font-weight: bold;display: inline-block;line-height: 1.2em;}#sk-container-id-4 div.sk-label-container {text-align: center;}#sk-container-id-4 div.sk-container {/* jupyter's `normalize.less` sets `[hidden] { display: none; }` but bootstrap.min.css set `[hidden] { display: none !important; }` so we also need the `!important` here to be able to override the default hidden behavior on the sphinx rendered scikit-learn.org. See: https://github.com/scikit-learn/scikit-learn/issues/21755 */display: inline-block !important;position: relative;}#sk-container-id-4 div.sk-text-repr-fallback {display: none;}</style><div id=\"sk-container-id-4\" class=\"sk-top-container\"><div class=\"sk-text-repr-fallback\"><pre>Lasso(alpha=0.5)</pre><b>In a Jupyter environment, please rerun this cell to show the HTML representation or trust the notebook. <br />On GitHub, the HTML representation is unable to render, please try loading this page with nbviewer.org.</b></div><div class=\"sk-container\" hidden><div class=\"sk-item\"><div class=\"sk-estimator sk-toggleable\"><input class=\"sk-toggleable__control sk-hidden--visually\" id=\"sk-estimator-id-4\" type=\"checkbox\" checked><label for=\"sk-estimator-id-4\" class=\"sk-toggleable__label sk-toggleable__label-arrow\">Lasso</label><div class=\"sk-toggleable__content\"><pre>Lasso(alpha=0.5)</pre></div></div></div></div></div>"
      ],
      "text/plain": [
       "Lasso(alpha=0.5)"
      ]
     },
     "execution_count": 62,
     "metadata": {},
     "output_type": "execute_result"
    }
   ],
   "source": [
    "# Fitting our model on Train data set \n",
    "\n",
    "lm_lasso.fit(X_train_s, Y_train)"
   ]
  },
  {
   "cell_type": "code",
   "execution_count": 63,
   "id": "79dbf9b0",
   "metadata": {},
   "outputs": [
    {
     "name": "stdout",
     "output_type": "stream",
     "text": [
      "r2_Score of test set : 0.5933343840895651\n",
      "r2_Score of train set : 0.5137747025114026\n",
      "MSE of test set : 77366087.44720155\n",
      "MSE of train set : 73096300.78673667\n"
     ]
    }
   ],
   "source": [
    "# Calcualting model accuracy for test and train data\n",
    "\n",
    "print('r2_Score of test set :', r2_score(Y_test, lm_lasso.predict(X_test_s)))\n",
    "print('r2_Score of train set :', r2_score(Y_train, lm_lasso.predict(X_train_s)))\n",
    "print('MSE of test set :', mean_squared_error(Y_test, lm_lasso.predict(X_test_s)))\n",
    "print('MSE of train set :', mean_squared_error(Y_train, lm_lasso.predict(X_train_s)))"
   ]
  },
  {
   "cell_type": "markdown",
   "id": "826f2f06",
   "metadata": {},
   "source": [
    "### Model Interpretation / evaluation\n",
    "The test data's R2 score is 0.5933, which shows that a sizable proportion of the variation in the test data is captured by the model.\n",
    "The model explains a moderate portion of the variation in the training data, according to the R2 score on the train data of 0.5137.\n",
    "It is typically preferred that the R2 score for the test data be greater than the R2 value for the train data. It implies that the model is reasonably generalizing to fresh, unforeseen facts.\n",
    "model's predictions appear to be pretty close to the actual values based on the MSE of 77366087.44720155."
   ]
  },
  {
   "cell_type": "markdown",
   "id": "64bd4920",
   "metadata": {},
   "source": [
    "## KNN (K- Nearest Neighbors) Regression"
   ]
  },
  {
   "cell_type": "code",
   "execution_count": 64,
   "id": "590fc16c",
   "metadata": {},
   "outputs": [],
   "source": [
    "# Creating scaler object which will store the scaling information of our X train\n",
    "\n",
    "scaler = preprocessing.StandardScaler().fit(X_train)"
   ]
  },
  {
   "cell_type": "code",
   "execution_count": 65,
   "id": "83443a67",
   "metadata": {},
   "outputs": [],
   "source": [
    "# Transforming our X_train to our X_train_scaler\n",
    "\n",
    "X_train_s = scaler.transform(X_train)\n",
    "\n",
    "\n",
    "# Transforming our X_test to our X_test_scaler\n",
    "\n",
    "X_test_s = scaler.transform(X_test)"
   ]
  },
  {
   "cell_type": "code",
   "execution_count": 66,
   "id": "5294348c",
   "metadata": {},
   "outputs": [],
   "source": [
    "# Importing KNN regressor from sklearn\n",
    "\n",
    "from sklearn.neighbors import KNeighborsRegressor"
   ]
  },
  {
   "cell_type": "code",
   "execution_count": 67,
   "id": "e85c0f48",
   "metadata": {},
   "outputs": [
    {
     "data": {
      "text/html": [
       "<style>#sk-container-id-5 {color: black;}#sk-container-id-5 pre{padding: 0;}#sk-container-id-5 div.sk-toggleable {background-color: white;}#sk-container-id-5 label.sk-toggleable__label {cursor: pointer;display: block;width: 100%;margin-bottom: 0;padding: 0.3em;box-sizing: border-box;text-align: center;}#sk-container-id-5 label.sk-toggleable__label-arrow:before {content: \"▸\";float: left;margin-right: 0.25em;color: #696969;}#sk-container-id-5 label.sk-toggleable__label-arrow:hover:before {color: black;}#sk-container-id-5 div.sk-estimator:hover label.sk-toggleable__label-arrow:before {color: black;}#sk-container-id-5 div.sk-toggleable__content {max-height: 0;max-width: 0;overflow: hidden;text-align: left;background-color: #f0f8ff;}#sk-container-id-5 div.sk-toggleable__content pre {margin: 0.2em;color: black;border-radius: 0.25em;background-color: #f0f8ff;}#sk-container-id-5 input.sk-toggleable__control:checked~div.sk-toggleable__content {max-height: 200px;max-width: 100%;overflow: auto;}#sk-container-id-5 input.sk-toggleable__control:checked~label.sk-toggleable__label-arrow:before {content: \"▾\";}#sk-container-id-5 div.sk-estimator input.sk-toggleable__control:checked~label.sk-toggleable__label {background-color: #d4ebff;}#sk-container-id-5 div.sk-label input.sk-toggleable__control:checked~label.sk-toggleable__label {background-color: #d4ebff;}#sk-container-id-5 input.sk-hidden--visually {border: 0;clip: rect(1px 1px 1px 1px);clip: rect(1px, 1px, 1px, 1px);height: 1px;margin: -1px;overflow: hidden;padding: 0;position: absolute;width: 1px;}#sk-container-id-5 div.sk-estimator {font-family: monospace;background-color: #f0f8ff;border: 1px dotted black;border-radius: 0.25em;box-sizing: border-box;margin-bottom: 0.5em;}#sk-container-id-5 div.sk-estimator:hover {background-color: #d4ebff;}#sk-container-id-5 div.sk-parallel-item::after {content: \"\";width: 100%;border-bottom: 1px solid gray;flex-grow: 1;}#sk-container-id-5 div.sk-label:hover label.sk-toggleable__label {background-color: #d4ebff;}#sk-container-id-5 div.sk-serial::before {content: \"\";position: absolute;border-left: 1px solid gray;box-sizing: border-box;top: 0;bottom: 0;left: 50%;z-index: 0;}#sk-container-id-5 div.sk-serial {display: flex;flex-direction: column;align-items: center;background-color: white;padding-right: 0.2em;padding-left: 0.2em;position: relative;}#sk-container-id-5 div.sk-item {position: relative;z-index: 1;}#sk-container-id-5 div.sk-parallel {display: flex;align-items: stretch;justify-content: center;background-color: white;position: relative;}#sk-container-id-5 div.sk-item::before, #sk-container-id-5 div.sk-parallel-item::before {content: \"\";position: absolute;border-left: 1px solid gray;box-sizing: border-box;top: 0;bottom: 0;left: 50%;z-index: -1;}#sk-container-id-5 div.sk-parallel-item {display: flex;flex-direction: column;z-index: 1;position: relative;background-color: white;}#sk-container-id-5 div.sk-parallel-item:first-child::after {align-self: flex-end;width: 50%;}#sk-container-id-5 div.sk-parallel-item:last-child::after {align-self: flex-start;width: 50%;}#sk-container-id-5 div.sk-parallel-item:only-child::after {width: 0;}#sk-container-id-5 div.sk-dashed-wrapped {border: 1px dashed gray;margin: 0 0.4em 0.5em 0.4em;box-sizing: border-box;padding-bottom: 0.4em;background-color: white;}#sk-container-id-5 div.sk-label label {font-family: monospace;font-weight: bold;display: inline-block;line-height: 1.2em;}#sk-container-id-5 div.sk-label-container {text-align: center;}#sk-container-id-5 div.sk-container {/* jupyter's `normalize.less` sets `[hidden] { display: none; }` but bootstrap.min.css set `[hidden] { display: none !important; }` so we also need the `!important` here to be able to override the default hidden behavior on the sphinx rendered scikit-learn.org. See: https://github.com/scikit-learn/scikit-learn/issues/21755 */display: inline-block !important;position: relative;}#sk-container-id-5 div.sk-text-repr-fallback {display: none;}</style><div id=\"sk-container-id-5\" class=\"sk-top-container\"><div class=\"sk-text-repr-fallback\"><pre>KNeighborsRegressor(n_neighbors=3)</pre><b>In a Jupyter environment, please rerun this cell to show the HTML representation or trust the notebook. <br />On GitHub, the HTML representation is unable to render, please try loading this page with nbviewer.org.</b></div><div class=\"sk-container\" hidden><div class=\"sk-item\"><div class=\"sk-estimator sk-toggleable\"><input class=\"sk-toggleable__control sk-hidden--visually\" id=\"sk-estimator-id-5\" type=\"checkbox\" checked><label for=\"sk-estimator-id-5\" class=\"sk-toggleable__label sk-toggleable__label-arrow\">KNeighborsRegressor</label><div class=\"sk-toggleable__content\"><pre>KNeighborsRegressor(n_neighbors=3)</pre></div></div></div></div></div>"
      ],
      "text/plain": [
       "KNeighborsRegressor(n_neighbors=3)"
      ]
     },
     "execution_count": 67,
     "metadata": {},
     "output_type": "execute_result"
    }
   ],
   "source": [
    "# Creating KNN regressor model Object\n",
    "\n",
    "knn_reg = KNeighborsRegressor(n_neighbors = 3)\n",
    "\n",
    "\n",
    "# Fitting our KNN model over train data set\n",
    "\n",
    "knn_reg.fit(X_train_s, Y_train)"
   ]
  },
  {
   "cell_type": "code",
   "execution_count": 68,
   "id": "ea27ef08",
   "metadata": {},
   "outputs": [
    {
     "name": "stdout",
     "output_type": "stream",
     "text": [
      "Test set r2 score:  0.5314437638443239\n",
      "Train set r2 score:  0.7195551254349155\n",
      "MSE of test set:  42160461.438740335\n",
      "MSE of train set : 42160461.438740335\n"
     ]
    }
   ],
   "source": [
    "# Calcualting model accuracy for test and train data\n",
    "\n",
    "print('Test set r2 score: ', r2_score(Y_test, knn_reg.predict(X_test_s)))\n",
    "print('Train set r2 score: ', r2_score(Y_train, knn_reg.predict(X_train_s)))\n",
    "print('MSE of test set: ', mean_squared_error(Y_train, knn_reg.predict(X_train_s)))\n",
    "print('MSE of train set :', mean_squared_error(Y_train, knn_reg.predict(X_train_s)))"
   ]
  },
  {
   "cell_type": "markdown",
   "id": "636deda7",
   "metadata": {},
   "source": [
    "### Model Interpretation / evaluation\n",
    "KNN Regression has a Test R-squared Score of 0.53144 and a Train R-squared Score of 0.7195. The Mean Squared Error (MSE) is also 42160461.438740335. Based on these data, the KNN Regression model looks to be overfitting, as the Train R-squared score is greater than the Test R-squared score. This is confirmed further by the relatively high MSE, which indicates that the model's predictions differ considerably from the actual values.\n",
    "\n",
    "When the Train R-squared score exceeds the Test R-squared score, it indicates that the model is remembering the training data rather than generalizing effectively to new, unknown data. Because the KNN method is non-parametric, it can be sensitive to the size and distribution of the data points, and it may not be the best choice."
   ]
  },
  {
   "cell_type": "markdown",
   "id": "4958f0b2",
   "metadata": {},
   "source": [
    "## KNN - Using Grid search"
   ]
  },
  {
   "cell_type": "code",
   "execution_count": 69,
   "id": "3c2c81eb",
   "metadata": {},
   "outputs": [],
   "source": [
    "# Importing Grid Search model from Sklearn\n",
    "\n",
    "from sklearn.model_selection import GridSearchCV"
   ]
  },
  {
   "cell_type": "code",
   "execution_count": 70,
   "id": "bc67115c",
   "metadata": {},
   "outputs": [],
   "source": [
    "# Creating KNN model regressor object\n",
    "\n",
    "knn_reg2 = KNeighborsRegressor(n_jobs = -1)"
   ]
  },
  {
   "cell_type": "code",
   "execution_count": 71,
   "id": "4e932445",
   "metadata": {},
   "outputs": [],
   "source": [
    "# Creating param grid for GridSearchCV function\n",
    "\n",
    "param_grid = {'n_neighbors' : [1,2,3,5,6,7,8,9] } # Different values of K "
   ]
  },
  {
   "cell_type": "code",
   "execution_count": 72,
   "id": "fda265f3",
   "metadata": {},
   "outputs": [],
   "source": [
    "# Creating Grid Search function by estimating KNN model.\n",
    "\n",
    "grid_search = GridSearchCV(knn_reg2, param_grid, n_jobs = -1, cv = 5, scoring = 'r2')"
   ]
  },
  {
   "cell_type": "code",
   "execution_count": 73,
   "id": "f19b7171",
   "metadata": {},
   "outputs": [
    {
     "data": {
      "text/html": [
       "<style>#sk-container-id-6 {color: black;}#sk-container-id-6 pre{padding: 0;}#sk-container-id-6 div.sk-toggleable {background-color: white;}#sk-container-id-6 label.sk-toggleable__label {cursor: pointer;display: block;width: 100%;margin-bottom: 0;padding: 0.3em;box-sizing: border-box;text-align: center;}#sk-container-id-6 label.sk-toggleable__label-arrow:before {content: \"▸\";float: left;margin-right: 0.25em;color: #696969;}#sk-container-id-6 label.sk-toggleable__label-arrow:hover:before {color: black;}#sk-container-id-6 div.sk-estimator:hover label.sk-toggleable__label-arrow:before {color: black;}#sk-container-id-6 div.sk-toggleable__content {max-height: 0;max-width: 0;overflow: hidden;text-align: left;background-color: #f0f8ff;}#sk-container-id-6 div.sk-toggleable__content pre {margin: 0.2em;color: black;border-radius: 0.25em;background-color: #f0f8ff;}#sk-container-id-6 input.sk-toggleable__control:checked~div.sk-toggleable__content {max-height: 200px;max-width: 100%;overflow: auto;}#sk-container-id-6 input.sk-toggleable__control:checked~label.sk-toggleable__label-arrow:before {content: \"▾\";}#sk-container-id-6 div.sk-estimator input.sk-toggleable__control:checked~label.sk-toggleable__label {background-color: #d4ebff;}#sk-container-id-6 div.sk-label input.sk-toggleable__control:checked~label.sk-toggleable__label {background-color: #d4ebff;}#sk-container-id-6 input.sk-hidden--visually {border: 0;clip: rect(1px 1px 1px 1px);clip: rect(1px, 1px, 1px, 1px);height: 1px;margin: -1px;overflow: hidden;padding: 0;position: absolute;width: 1px;}#sk-container-id-6 div.sk-estimator {font-family: monospace;background-color: #f0f8ff;border: 1px dotted black;border-radius: 0.25em;box-sizing: border-box;margin-bottom: 0.5em;}#sk-container-id-6 div.sk-estimator:hover {background-color: #d4ebff;}#sk-container-id-6 div.sk-parallel-item::after {content: \"\";width: 100%;border-bottom: 1px solid gray;flex-grow: 1;}#sk-container-id-6 div.sk-label:hover label.sk-toggleable__label {background-color: #d4ebff;}#sk-container-id-6 div.sk-serial::before {content: \"\";position: absolute;border-left: 1px solid gray;box-sizing: border-box;top: 0;bottom: 0;left: 50%;z-index: 0;}#sk-container-id-6 div.sk-serial {display: flex;flex-direction: column;align-items: center;background-color: white;padding-right: 0.2em;padding-left: 0.2em;position: relative;}#sk-container-id-6 div.sk-item {position: relative;z-index: 1;}#sk-container-id-6 div.sk-parallel {display: flex;align-items: stretch;justify-content: center;background-color: white;position: relative;}#sk-container-id-6 div.sk-item::before, #sk-container-id-6 div.sk-parallel-item::before {content: \"\";position: absolute;border-left: 1px solid gray;box-sizing: border-box;top: 0;bottom: 0;left: 50%;z-index: -1;}#sk-container-id-6 div.sk-parallel-item {display: flex;flex-direction: column;z-index: 1;position: relative;background-color: white;}#sk-container-id-6 div.sk-parallel-item:first-child::after {align-self: flex-end;width: 50%;}#sk-container-id-6 div.sk-parallel-item:last-child::after {align-self: flex-start;width: 50%;}#sk-container-id-6 div.sk-parallel-item:only-child::after {width: 0;}#sk-container-id-6 div.sk-dashed-wrapped {border: 1px dashed gray;margin: 0 0.4em 0.5em 0.4em;box-sizing: border-box;padding-bottom: 0.4em;background-color: white;}#sk-container-id-6 div.sk-label label {font-family: monospace;font-weight: bold;display: inline-block;line-height: 1.2em;}#sk-container-id-6 div.sk-label-container {text-align: center;}#sk-container-id-6 div.sk-container {/* jupyter's `normalize.less` sets `[hidden] { display: none; }` but bootstrap.min.css set `[hidden] { display: none !important; }` so we also need the `!important` here to be able to override the default hidden behavior on the sphinx rendered scikit-learn.org. See: https://github.com/scikit-learn/scikit-learn/issues/21755 */display: inline-block !important;position: relative;}#sk-container-id-6 div.sk-text-repr-fallback {display: none;}</style><div id=\"sk-container-id-6\" class=\"sk-top-container\"><div class=\"sk-text-repr-fallback\"><pre>GridSearchCV(cv=5, estimator=KNeighborsRegressor(n_jobs=-1), n_jobs=-1,\n",
       "             param_grid={&#x27;n_neighbors&#x27;: [1, 2, 3, 5, 6, 7, 8, 9]},\n",
       "             scoring=&#x27;r2&#x27;)</pre><b>In a Jupyter environment, please rerun this cell to show the HTML representation or trust the notebook. <br />On GitHub, the HTML representation is unable to render, please try loading this page with nbviewer.org.</b></div><div class=\"sk-container\" hidden><div class=\"sk-item sk-dashed-wrapped\"><div class=\"sk-label-container\"><div class=\"sk-label sk-toggleable\"><input class=\"sk-toggleable__control sk-hidden--visually\" id=\"sk-estimator-id-6\" type=\"checkbox\" ><label for=\"sk-estimator-id-6\" class=\"sk-toggleable__label sk-toggleable__label-arrow\">GridSearchCV</label><div class=\"sk-toggleable__content\"><pre>GridSearchCV(cv=5, estimator=KNeighborsRegressor(n_jobs=-1), n_jobs=-1,\n",
       "             param_grid={&#x27;n_neighbors&#x27;: [1, 2, 3, 5, 6, 7, 8, 9]},\n",
       "             scoring=&#x27;r2&#x27;)</pre></div></div></div><div class=\"sk-parallel\"><div class=\"sk-parallel-item\"><div class=\"sk-item\"><div class=\"sk-label-container\"><div class=\"sk-label sk-toggleable\"><input class=\"sk-toggleable__control sk-hidden--visually\" id=\"sk-estimator-id-7\" type=\"checkbox\" ><label for=\"sk-estimator-id-7\" class=\"sk-toggleable__label sk-toggleable__label-arrow\">estimator: KNeighborsRegressor</label><div class=\"sk-toggleable__content\"><pre>KNeighborsRegressor(n_jobs=-1)</pre></div></div></div><div class=\"sk-serial\"><div class=\"sk-item\"><div class=\"sk-estimator sk-toggleable\"><input class=\"sk-toggleable__control sk-hidden--visually\" id=\"sk-estimator-id-8\" type=\"checkbox\" ><label for=\"sk-estimator-id-8\" class=\"sk-toggleable__label sk-toggleable__label-arrow\">KNeighborsRegressor</label><div class=\"sk-toggleable__content\"><pre>KNeighborsRegressor(n_jobs=-1)</pre></div></div></div></div></div></div></div></div></div></div>"
      ],
      "text/plain": [
       "GridSearchCV(cv=5, estimator=KNeighborsRegressor(n_jobs=-1), n_jobs=-1,\n",
       "             param_grid={'n_neighbors': [1, 2, 3, 5, 6, 7, 8, 9]},\n",
       "             scoring='r2')"
      ]
     },
     "execution_count": 73,
     "metadata": {},
     "output_type": "execute_result"
    }
   ],
   "source": [
    "# Training our model over Train data set\n",
    "\n",
    "grid_search.fit(X_train_s, Y_train)"
   ]
  },
  {
   "cell_type": "code",
   "execution_count": 74,
   "id": "9313844d",
   "metadata": {},
   "outputs": [
    {
     "data": {
      "text/plain": [
       "{'n_neighbors': 9}"
      ]
     },
     "execution_count": 74,
     "metadata": {},
     "output_type": "execute_result"
    }
   ],
   "source": [
    "# Calculating & displaying best params\n",
    "\n",
    "grid_search.best_params_"
   ]
  },
  {
   "cell_type": "code",
   "execution_count": 75,
   "id": "fa995db1",
   "metadata": {},
   "outputs": [],
   "source": [
    "# Calculating and storing best estimator model in a new object\n",
    "\n",
    "grid_knn = grid_search.best_estimator_"
   ]
  },
  {
   "cell_type": "code",
   "execution_count": 76,
   "id": "01aecd6d",
   "metadata": {},
   "outputs": [
    {
     "name": "stdout",
     "output_type": "stream",
     "text": [
      "Test set r2 score:  0.6156928049760337\n",
      "Train set r2 score:  0.6323707481225274\n",
      "Mean_Squared_Error Of Test Set:  73112510.36124294\n",
      "Mean_Squared_Error Of Train Set:  55267256.78823592\n"
     ]
    }
   ],
   "source": [
    "# Calcualting model accuracy for test and train data\n",
    "\n",
    "print('Test set r2 score: ', r2_score(Y_test, grid_knn.predict(X_test_s)))\n",
    "print('Train set r2 score: ', r2_score(Y_train, grid_knn.predict(X_train_s)))\n",
    "print('Mean_Squared_Error Of Test Set: ', mean_squared_error(Y_test, grid_knn.predict(X_test_s)))\n",
    "print('Mean_Squared_Error Of Train Set: ', mean_squared_error(Y_train, grid_knn.predict(X_train_s)))"
   ]
  },
  {
   "cell_type": "markdown",
   "id": "8da7f557",
   "metadata": {},
   "source": [
    "### Model Interpretation / evaluation\n",
    "Our KNN model performs reasonably well on both the training and test datasets, as indicated by the R² scores and the test set MSE.\n",
    "The R² scores of approximately 0.632 (train) and 0.615 (test) suggest that model explains a substantial portion of the variance in both datasets.\n",
    "The test set MSE of 73112510.36124294 indicates that our model's predictions on the test data are reasonably accurate, but there may still be some room for improvement, depending on the specific context of problem."
   ]
  },
  {
   "cell_type": "markdown",
   "id": "d89bb886",
   "metadata": {},
   "source": [
    "## Random Forest"
   ]
  },
  {
   "cell_type": "code",
   "execution_count": 77,
   "id": "ebdf6ced",
   "metadata": {},
   "outputs": [],
   "source": [
    "# Importing Random forest regreesor model\n",
    "\n",
    "from sklearn.ensemble import RandomForestRegressor"
   ]
  },
  {
   "cell_type": "code",
   "execution_count": 78,
   "id": "b7b0a0db",
   "metadata": {},
   "outputs": [],
   "source": [
    "# Creating scaler object which will store the scaling information of our X_train\n",
    "\n",
    "scaler = preprocessing.StandardScaler().fit(X_train)"
   ]
  },
  {
   "cell_type": "code",
   "execution_count": 79,
   "id": "72e98449",
   "metadata": {},
   "outputs": [],
   "source": [
    "# Transforming our X_train to our X_train_scaler\n",
    "\n",
    "X_train_s = scaler.transform(X_train)\n",
    "\n",
    "\n",
    "# Transforming our X_test to our X_test_scaler\n",
    "\n",
    "X_test_s = scaler.transform(X_test)"
   ]
  },
  {
   "cell_type": "code",
   "execution_count": 80,
   "id": "98afa5f0",
   "metadata": {},
   "outputs": [],
   "source": [
    "#Creating Random forest model object\n",
    "\n",
    "rf_reg = RandomForestRegressor(n_estimators = 1000, n_jobs = -1, random_state = 42)"
   ]
  },
  {
   "cell_type": "code",
   "execution_count": 81,
   "id": "02ff3db5",
   "metadata": {},
   "outputs": [
    {
     "data": {
      "text/html": [
       "<style>#sk-container-id-7 {color: black;}#sk-container-id-7 pre{padding: 0;}#sk-container-id-7 div.sk-toggleable {background-color: white;}#sk-container-id-7 label.sk-toggleable__label {cursor: pointer;display: block;width: 100%;margin-bottom: 0;padding: 0.3em;box-sizing: border-box;text-align: center;}#sk-container-id-7 label.sk-toggleable__label-arrow:before {content: \"▸\";float: left;margin-right: 0.25em;color: #696969;}#sk-container-id-7 label.sk-toggleable__label-arrow:hover:before {color: black;}#sk-container-id-7 div.sk-estimator:hover label.sk-toggleable__label-arrow:before {color: black;}#sk-container-id-7 div.sk-toggleable__content {max-height: 0;max-width: 0;overflow: hidden;text-align: left;background-color: #f0f8ff;}#sk-container-id-7 div.sk-toggleable__content pre {margin: 0.2em;color: black;border-radius: 0.25em;background-color: #f0f8ff;}#sk-container-id-7 input.sk-toggleable__control:checked~div.sk-toggleable__content {max-height: 200px;max-width: 100%;overflow: auto;}#sk-container-id-7 input.sk-toggleable__control:checked~label.sk-toggleable__label-arrow:before {content: \"▾\";}#sk-container-id-7 div.sk-estimator input.sk-toggleable__control:checked~label.sk-toggleable__label {background-color: #d4ebff;}#sk-container-id-7 div.sk-label input.sk-toggleable__control:checked~label.sk-toggleable__label {background-color: #d4ebff;}#sk-container-id-7 input.sk-hidden--visually {border: 0;clip: rect(1px 1px 1px 1px);clip: rect(1px, 1px, 1px, 1px);height: 1px;margin: -1px;overflow: hidden;padding: 0;position: absolute;width: 1px;}#sk-container-id-7 div.sk-estimator {font-family: monospace;background-color: #f0f8ff;border: 1px dotted black;border-radius: 0.25em;box-sizing: border-box;margin-bottom: 0.5em;}#sk-container-id-7 div.sk-estimator:hover {background-color: #d4ebff;}#sk-container-id-7 div.sk-parallel-item::after {content: \"\";width: 100%;border-bottom: 1px solid gray;flex-grow: 1;}#sk-container-id-7 div.sk-label:hover label.sk-toggleable__label {background-color: #d4ebff;}#sk-container-id-7 div.sk-serial::before {content: \"\";position: absolute;border-left: 1px solid gray;box-sizing: border-box;top: 0;bottom: 0;left: 50%;z-index: 0;}#sk-container-id-7 div.sk-serial {display: flex;flex-direction: column;align-items: center;background-color: white;padding-right: 0.2em;padding-left: 0.2em;position: relative;}#sk-container-id-7 div.sk-item {position: relative;z-index: 1;}#sk-container-id-7 div.sk-parallel {display: flex;align-items: stretch;justify-content: center;background-color: white;position: relative;}#sk-container-id-7 div.sk-item::before, #sk-container-id-7 div.sk-parallel-item::before {content: \"\";position: absolute;border-left: 1px solid gray;box-sizing: border-box;top: 0;bottom: 0;left: 50%;z-index: -1;}#sk-container-id-7 div.sk-parallel-item {display: flex;flex-direction: column;z-index: 1;position: relative;background-color: white;}#sk-container-id-7 div.sk-parallel-item:first-child::after {align-self: flex-end;width: 50%;}#sk-container-id-7 div.sk-parallel-item:last-child::after {align-self: flex-start;width: 50%;}#sk-container-id-7 div.sk-parallel-item:only-child::after {width: 0;}#sk-container-id-7 div.sk-dashed-wrapped {border: 1px dashed gray;margin: 0 0.4em 0.5em 0.4em;box-sizing: border-box;padding-bottom: 0.4em;background-color: white;}#sk-container-id-7 div.sk-label label {font-family: monospace;font-weight: bold;display: inline-block;line-height: 1.2em;}#sk-container-id-7 div.sk-label-container {text-align: center;}#sk-container-id-7 div.sk-container {/* jupyter's `normalize.less` sets `[hidden] { display: none; }` but bootstrap.min.css set `[hidden] { display: none !important; }` so we also need the `!important` here to be able to override the default hidden behavior on the sphinx rendered scikit-learn.org. See: https://github.com/scikit-learn/scikit-learn/issues/21755 */display: inline-block !important;position: relative;}#sk-container-id-7 div.sk-text-repr-fallback {display: none;}</style><div id=\"sk-container-id-7\" class=\"sk-top-container\"><div class=\"sk-text-repr-fallback\"><pre>RandomForestRegressor(n_estimators=1000, n_jobs=-1, random_state=42)</pre><b>In a Jupyter environment, please rerun this cell to show the HTML representation or trust the notebook. <br />On GitHub, the HTML representation is unable to render, please try loading this page with nbviewer.org.</b></div><div class=\"sk-container\" hidden><div class=\"sk-item\"><div class=\"sk-estimator sk-toggleable\"><input class=\"sk-toggleable__control sk-hidden--visually\" id=\"sk-estimator-id-9\" type=\"checkbox\" checked><label for=\"sk-estimator-id-9\" class=\"sk-toggleable__label sk-toggleable__label-arrow\">RandomForestRegressor</label><div class=\"sk-toggleable__content\"><pre>RandomForestRegressor(n_estimators=1000, n_jobs=-1, random_state=42)</pre></div></div></div></div></div>"
      ],
      "text/plain": [
       "RandomForestRegressor(n_estimators=1000, n_jobs=-1, random_state=42)"
      ]
     },
     "execution_count": 81,
     "metadata": {},
     "output_type": "execute_result"
    }
   ],
   "source": [
    "# training our model over train data set\n",
    "\n",
    "rf_reg.fit(X_train_s, Y_train)"
   ]
  },
  {
   "cell_type": "code",
   "execution_count": 82,
   "id": "c90fa7f3",
   "metadata": {},
   "outputs": [
    {
     "name": "stdout",
     "output_type": "stream",
     "text": [
      "r2 score of test set:  0.6368790873379051\n",
      "r2 score of train set:  0.9501845070245194\n",
      "Mean_Squared_Error Of Test Set:  69081926.73243022\n",
      "Mean_Squared_Error Of Train Set:  7488973.27470027\n"
     ]
    }
   ],
   "source": [
    "# Calcualting model accuracy for test and train data\n",
    "\n",
    "print('r2 score of test set: ', r2_score(Y_test, rf_reg.predict(X_test_s)))\n",
    "print('r2 score of train set: ', r2_score(Y_train, rf_reg.predict(X_train_s)))\n",
    "print('Mean_Squared_Error Of Test Set: ', mean_squared_error(Y_test, rf_reg.predict(X_test_s)))\n",
    "print('Mean_Squared_Error Of Train Set: ', mean_squared_error(Y_train, rf_reg.predict(X_train_s)))"
   ]
  },
  {
   "cell_type": "markdown",
   "id": "eae76d42",
   "metadata": {},
   "source": [
    "### Model Interpretation / evaluation\n",
    "The Test R-squared of 0.6368 indicates that the Random Forest model captures a significant percentage of the variation in the test data, implying high prediction performance on unknown data.\n",
    "The Train R-squared of 0.9501 shows that the model fits the training data exceptionally well, explaining a considerable portion of the variation.\n",
    "The R-squared of the Test is somewhat lower than the R-squared of the Train, which is to be anticipated. It implies that the model is not overfitting to the training data and is generalizing effectively to new, previously unknown data."
   ]
  },
  {
   "cell_type": "markdown",
   "id": "fe73feea",
   "metadata": {},
   "source": [
    "## Random forest - Grid Search"
   ]
  },
  {
   "cell_type": "code",
   "execution_count": 83,
   "id": "852a93dd",
   "metadata": {},
   "outputs": [],
   "source": [
    "# creating random forest model object\n",
    "\n",
    "rf_reg2 = RandomForestRegressor(n_jobs = -1, random_state = 42)"
   ]
  },
  {
   "cell_type": "code",
   "execution_count": 84,
   "id": "67fe9cf8",
   "metadata": {},
   "outputs": [],
   "source": [
    "# creating Dictionary of hyperparameters for random forest to use in grid search\n",
    "\n",
    "param_test1 = {'n_estimators' : [250, 500, 750, 1000], # No. of sub trees we want\n",
    "               'max_depth' : [None, 10,15,20],  # depth values of the tree\n",
    "               'min_samples_split' : [2,4,6,8,10], # min observation required in subnodes after a split\n",
    "               'min_samples_leaf' : [1,2,3]}  # min observation required in leaf node"
   ]
  },
  {
   "cell_type": "code",
   "execution_count": 85,
   "id": "c96e9473",
   "metadata": {},
   "outputs": [],
   "source": [
    "# performing grid search with estimator : random forest and cross validation 5\n",
    "\n",
    "grid_search2 = GridSearchCV(rf_reg2, param_test1, n_jobs = -1, cv = 5, scoring = 'r2')"
   ]
  },
  {
   "cell_type": "code",
   "execution_count": 86,
   "id": "ba48c1e6",
   "metadata": {},
   "outputs": [
    {
     "data": {
      "text/html": [
       "<style>#sk-container-id-8 {color: black;}#sk-container-id-8 pre{padding: 0;}#sk-container-id-8 div.sk-toggleable {background-color: white;}#sk-container-id-8 label.sk-toggleable__label {cursor: pointer;display: block;width: 100%;margin-bottom: 0;padding: 0.3em;box-sizing: border-box;text-align: center;}#sk-container-id-8 label.sk-toggleable__label-arrow:before {content: \"▸\";float: left;margin-right: 0.25em;color: #696969;}#sk-container-id-8 label.sk-toggleable__label-arrow:hover:before {color: black;}#sk-container-id-8 div.sk-estimator:hover label.sk-toggleable__label-arrow:before {color: black;}#sk-container-id-8 div.sk-toggleable__content {max-height: 0;max-width: 0;overflow: hidden;text-align: left;background-color: #f0f8ff;}#sk-container-id-8 div.sk-toggleable__content pre {margin: 0.2em;color: black;border-radius: 0.25em;background-color: #f0f8ff;}#sk-container-id-8 input.sk-toggleable__control:checked~div.sk-toggleable__content {max-height: 200px;max-width: 100%;overflow: auto;}#sk-container-id-8 input.sk-toggleable__control:checked~label.sk-toggleable__label-arrow:before {content: \"▾\";}#sk-container-id-8 div.sk-estimator input.sk-toggleable__control:checked~label.sk-toggleable__label {background-color: #d4ebff;}#sk-container-id-8 div.sk-label input.sk-toggleable__control:checked~label.sk-toggleable__label {background-color: #d4ebff;}#sk-container-id-8 input.sk-hidden--visually {border: 0;clip: rect(1px 1px 1px 1px);clip: rect(1px, 1px, 1px, 1px);height: 1px;margin: -1px;overflow: hidden;padding: 0;position: absolute;width: 1px;}#sk-container-id-8 div.sk-estimator {font-family: monospace;background-color: #f0f8ff;border: 1px dotted black;border-radius: 0.25em;box-sizing: border-box;margin-bottom: 0.5em;}#sk-container-id-8 div.sk-estimator:hover {background-color: #d4ebff;}#sk-container-id-8 div.sk-parallel-item::after {content: \"\";width: 100%;border-bottom: 1px solid gray;flex-grow: 1;}#sk-container-id-8 div.sk-label:hover label.sk-toggleable__label {background-color: #d4ebff;}#sk-container-id-8 div.sk-serial::before {content: \"\";position: absolute;border-left: 1px solid gray;box-sizing: border-box;top: 0;bottom: 0;left: 50%;z-index: 0;}#sk-container-id-8 div.sk-serial {display: flex;flex-direction: column;align-items: center;background-color: white;padding-right: 0.2em;padding-left: 0.2em;position: relative;}#sk-container-id-8 div.sk-item {position: relative;z-index: 1;}#sk-container-id-8 div.sk-parallel {display: flex;align-items: stretch;justify-content: center;background-color: white;position: relative;}#sk-container-id-8 div.sk-item::before, #sk-container-id-8 div.sk-parallel-item::before {content: \"\";position: absolute;border-left: 1px solid gray;box-sizing: border-box;top: 0;bottom: 0;left: 50%;z-index: -1;}#sk-container-id-8 div.sk-parallel-item {display: flex;flex-direction: column;z-index: 1;position: relative;background-color: white;}#sk-container-id-8 div.sk-parallel-item:first-child::after {align-self: flex-end;width: 50%;}#sk-container-id-8 div.sk-parallel-item:last-child::after {align-self: flex-start;width: 50%;}#sk-container-id-8 div.sk-parallel-item:only-child::after {width: 0;}#sk-container-id-8 div.sk-dashed-wrapped {border: 1px dashed gray;margin: 0 0.4em 0.5em 0.4em;box-sizing: border-box;padding-bottom: 0.4em;background-color: white;}#sk-container-id-8 div.sk-label label {font-family: monospace;font-weight: bold;display: inline-block;line-height: 1.2em;}#sk-container-id-8 div.sk-label-container {text-align: center;}#sk-container-id-8 div.sk-container {/* jupyter's `normalize.less` sets `[hidden] { display: none; }` but bootstrap.min.css set `[hidden] { display: none !important; }` so we also need the `!important` here to be able to override the default hidden behavior on the sphinx rendered scikit-learn.org. See: https://github.com/scikit-learn/scikit-learn/issues/21755 */display: inline-block !important;position: relative;}#sk-container-id-8 div.sk-text-repr-fallback {display: none;}</style><div id=\"sk-container-id-8\" class=\"sk-top-container\"><div class=\"sk-text-repr-fallback\"><pre>GridSearchCV(cv=5, estimator=RandomForestRegressor(n_jobs=-1, random_state=42),\n",
       "             n_jobs=-1,\n",
       "             param_grid={&#x27;max_depth&#x27;: [None, 10, 15, 20],\n",
       "                         &#x27;min_samples_leaf&#x27;: [1, 2, 3],\n",
       "                         &#x27;min_samples_split&#x27;: [2, 4, 6, 8, 10],\n",
       "                         &#x27;n_estimators&#x27;: [250, 500, 750, 1000]},\n",
       "             scoring=&#x27;r2&#x27;)</pre><b>In a Jupyter environment, please rerun this cell to show the HTML representation or trust the notebook. <br />On GitHub, the HTML representation is unable to render, please try loading this page with nbviewer.org.</b></div><div class=\"sk-container\" hidden><div class=\"sk-item sk-dashed-wrapped\"><div class=\"sk-label-container\"><div class=\"sk-label sk-toggleable\"><input class=\"sk-toggleable__control sk-hidden--visually\" id=\"sk-estimator-id-10\" type=\"checkbox\" ><label for=\"sk-estimator-id-10\" class=\"sk-toggleable__label sk-toggleable__label-arrow\">GridSearchCV</label><div class=\"sk-toggleable__content\"><pre>GridSearchCV(cv=5, estimator=RandomForestRegressor(n_jobs=-1, random_state=42),\n",
       "             n_jobs=-1,\n",
       "             param_grid={&#x27;max_depth&#x27;: [None, 10, 15, 20],\n",
       "                         &#x27;min_samples_leaf&#x27;: [1, 2, 3],\n",
       "                         &#x27;min_samples_split&#x27;: [2, 4, 6, 8, 10],\n",
       "                         &#x27;n_estimators&#x27;: [250, 500, 750, 1000]},\n",
       "             scoring=&#x27;r2&#x27;)</pre></div></div></div><div class=\"sk-parallel\"><div class=\"sk-parallel-item\"><div class=\"sk-item\"><div class=\"sk-label-container\"><div class=\"sk-label sk-toggleable\"><input class=\"sk-toggleable__control sk-hidden--visually\" id=\"sk-estimator-id-11\" type=\"checkbox\" ><label for=\"sk-estimator-id-11\" class=\"sk-toggleable__label sk-toggleable__label-arrow\">estimator: RandomForestRegressor</label><div class=\"sk-toggleable__content\"><pre>RandomForestRegressor(n_jobs=-1, random_state=42)</pre></div></div></div><div class=\"sk-serial\"><div class=\"sk-item\"><div class=\"sk-estimator sk-toggleable\"><input class=\"sk-toggleable__control sk-hidden--visually\" id=\"sk-estimator-id-12\" type=\"checkbox\" ><label for=\"sk-estimator-id-12\" class=\"sk-toggleable__label sk-toggleable__label-arrow\">RandomForestRegressor</label><div class=\"sk-toggleable__content\"><pre>RandomForestRegressor(n_jobs=-1, random_state=42)</pre></div></div></div></div></div></div></div></div></div></div>"
      ],
      "text/plain": [
       "GridSearchCV(cv=5, estimator=RandomForestRegressor(n_jobs=-1, random_state=42),\n",
       "             n_jobs=-1,\n",
       "             param_grid={'max_depth': [None, 10, 15, 20],\n",
       "                         'min_samples_leaf': [1, 2, 3],\n",
       "                         'min_samples_split': [2, 4, 6, 8, 10],\n",
       "                         'n_estimators': [250, 500, 750, 1000]},\n",
       "             scoring='r2')"
      ]
     },
     "execution_count": 86,
     "metadata": {},
     "output_type": "execute_result"
    }
   ],
   "source": [
    "# training model using train data set\n",
    "\n",
    "grid_search2.fit(X_train_s, Y_train)"
   ]
  },
  {
   "cell_type": "code",
   "execution_count": 87,
   "id": "f56a0d36",
   "metadata": {},
   "outputs": [
    {
     "data": {
      "text/plain": [
       "{'max_depth': 20,\n",
       " 'min_samples_leaf': 1,\n",
       " 'min_samples_split': 2,\n",
       " 'n_estimators': 1000}"
      ]
     },
     "execution_count": 87,
     "metadata": {},
     "output_type": "execute_result"
    }
   ],
   "source": [
    "# calculating and displaying best params \n",
    "\n",
    "grid_search2.best_params_"
   ]
  },
  {
   "cell_type": "code",
   "execution_count": 88,
   "id": "8df53001",
   "metadata": {},
   "outputs": [],
   "source": [
    "# accessing and storing best estimator model in an new object\n",
    "\n",
    "rf_best_reg = grid_search2.best_estimator_"
   ]
  },
  {
   "cell_type": "code",
   "execution_count": 89,
   "id": "73e23521",
   "metadata": {},
   "outputs": [
    {
     "name": "stdout",
     "output_type": "stream",
     "text": [
      "r2 score of test set :  0.6375348455800294\n",
      "r2 score of train set 0.9499459045784403\n",
      "Mean_Squared_Error Of Test Set:  68957172.02605847\n",
      "Mean_Squared_Error Of Train Set:  7524843.387294448\n"
     ]
    }
   ],
   "source": [
    "# Calcualting model accuracy for test and train data\n",
    "\n",
    "print('r2 score of test set : ', r2_score(Y_test, rf_best_reg.predict(X_test_s)))\n",
    "print('r2 score of train set', r2_score(Y_train, rf_best_reg.predict(X_train_s)))\n",
    "print('Mean_Squared_Error Of Test Set: ', mean_squared_error(Y_test, rf_best_reg.predict(X_test_s)))\n",
    "print('Mean_Squared_Error Of Train Set: ', mean_squared_error(Y_train, rf_best_reg.predict(X_train_s)))"
   ]
  },
  {
   "cell_type": "markdown",
   "id": "248e8ec3",
   "metadata": {},
   "source": [
    "### Model Interpretation / evaluation\n",
    "Our random forest model has an excellent R² score on the training data (approximately 0.949), indicating a very good fit to the training data. However, this high training R² score could be a sign of overfitting.\n",
    "The R² score on the test data (approximately 0.637) suggests that Our model generalizes reasonably well to new, unseen data, but there may still be room for improvement in its predictive performance.\n",
    "The test set MSE of 68957172.02605844 indicates that Our model's predictions on the test data are reasonably accurate, though further model tuning and regularization may be beneficial to improve generalization."
   ]
  },
  {
   "cell_type": "markdown",
   "id": "74bca3e4",
   "metadata": {},
   "source": [
    "## Gradient Boosting"
   ]
  },
  {
   "cell_type": "code",
   "execution_count": 90,
   "id": "6df18f3d",
   "metadata": {},
   "outputs": [],
   "source": [
    "# Importing library - gradient boost regressor\n",
    "\n",
    "from sklearn.ensemble import GradientBoostingRegressor"
   ]
  },
  {
   "cell_type": "code",
   "execution_count": 91,
   "id": "29da7659",
   "metadata": {},
   "outputs": [],
   "source": [
    "# Creating scaler object which will store the scaling information of our X_train\n",
    "\n",
    "scaler = preprocessing.StandardScaler().fit(X_train)"
   ]
  },
  {
   "cell_type": "code",
   "execution_count": 92,
   "id": "c173b3ef",
   "metadata": {},
   "outputs": [],
   "source": [
    "# Transforming our X_train to our X_train_scaler\n",
    "\n",
    "X_train_s = scaler.transform(X_train)\n",
    "\n",
    "\n",
    "# Transforming our X_test to our X_test_scaler\n",
    "\n",
    "X_test_s = scaler.transform(X_test)"
   ]
  },
  {
   "cell_type": "code",
   "execution_count": 93,
   "id": "4cb1f5cf",
   "metadata": {},
   "outputs": [],
   "source": [
    "# Creating Gradient Boost regressor model object\n",
    "\n",
    "gb_reg = GradientBoostingRegressor(n_estimators = 1000, learning_rate = 0.1, random_state = 42)"
   ]
  },
  {
   "cell_type": "code",
   "execution_count": 94,
   "id": "775d70da",
   "metadata": {},
   "outputs": [
    {
     "data": {
      "text/html": [
       "<style>#sk-container-id-9 {color: black;}#sk-container-id-9 pre{padding: 0;}#sk-container-id-9 div.sk-toggleable {background-color: white;}#sk-container-id-9 label.sk-toggleable__label {cursor: pointer;display: block;width: 100%;margin-bottom: 0;padding: 0.3em;box-sizing: border-box;text-align: center;}#sk-container-id-9 label.sk-toggleable__label-arrow:before {content: \"▸\";float: left;margin-right: 0.25em;color: #696969;}#sk-container-id-9 label.sk-toggleable__label-arrow:hover:before {color: black;}#sk-container-id-9 div.sk-estimator:hover label.sk-toggleable__label-arrow:before {color: black;}#sk-container-id-9 div.sk-toggleable__content {max-height: 0;max-width: 0;overflow: hidden;text-align: left;background-color: #f0f8ff;}#sk-container-id-9 div.sk-toggleable__content pre {margin: 0.2em;color: black;border-radius: 0.25em;background-color: #f0f8ff;}#sk-container-id-9 input.sk-toggleable__control:checked~div.sk-toggleable__content {max-height: 200px;max-width: 100%;overflow: auto;}#sk-container-id-9 input.sk-toggleable__control:checked~label.sk-toggleable__label-arrow:before {content: \"▾\";}#sk-container-id-9 div.sk-estimator input.sk-toggleable__control:checked~label.sk-toggleable__label {background-color: #d4ebff;}#sk-container-id-9 div.sk-label input.sk-toggleable__control:checked~label.sk-toggleable__label {background-color: #d4ebff;}#sk-container-id-9 input.sk-hidden--visually {border: 0;clip: rect(1px 1px 1px 1px);clip: rect(1px, 1px, 1px, 1px);height: 1px;margin: -1px;overflow: hidden;padding: 0;position: absolute;width: 1px;}#sk-container-id-9 div.sk-estimator {font-family: monospace;background-color: #f0f8ff;border: 1px dotted black;border-radius: 0.25em;box-sizing: border-box;margin-bottom: 0.5em;}#sk-container-id-9 div.sk-estimator:hover {background-color: #d4ebff;}#sk-container-id-9 div.sk-parallel-item::after {content: \"\";width: 100%;border-bottom: 1px solid gray;flex-grow: 1;}#sk-container-id-9 div.sk-label:hover label.sk-toggleable__label {background-color: #d4ebff;}#sk-container-id-9 div.sk-serial::before {content: \"\";position: absolute;border-left: 1px solid gray;box-sizing: border-box;top: 0;bottom: 0;left: 50%;z-index: 0;}#sk-container-id-9 div.sk-serial {display: flex;flex-direction: column;align-items: center;background-color: white;padding-right: 0.2em;padding-left: 0.2em;position: relative;}#sk-container-id-9 div.sk-item {position: relative;z-index: 1;}#sk-container-id-9 div.sk-parallel {display: flex;align-items: stretch;justify-content: center;background-color: white;position: relative;}#sk-container-id-9 div.sk-item::before, #sk-container-id-9 div.sk-parallel-item::before {content: \"\";position: absolute;border-left: 1px solid gray;box-sizing: border-box;top: 0;bottom: 0;left: 50%;z-index: -1;}#sk-container-id-9 div.sk-parallel-item {display: flex;flex-direction: column;z-index: 1;position: relative;background-color: white;}#sk-container-id-9 div.sk-parallel-item:first-child::after {align-self: flex-end;width: 50%;}#sk-container-id-9 div.sk-parallel-item:last-child::after {align-self: flex-start;width: 50%;}#sk-container-id-9 div.sk-parallel-item:only-child::after {width: 0;}#sk-container-id-9 div.sk-dashed-wrapped {border: 1px dashed gray;margin: 0 0.4em 0.5em 0.4em;box-sizing: border-box;padding-bottom: 0.4em;background-color: white;}#sk-container-id-9 div.sk-label label {font-family: monospace;font-weight: bold;display: inline-block;line-height: 1.2em;}#sk-container-id-9 div.sk-label-container {text-align: center;}#sk-container-id-9 div.sk-container {/* jupyter's `normalize.less` sets `[hidden] { display: none; }` but bootstrap.min.css set `[hidden] { display: none !important; }` so we also need the `!important` here to be able to override the default hidden behavior on the sphinx rendered scikit-learn.org. See: https://github.com/scikit-learn/scikit-learn/issues/21755 */display: inline-block !important;position: relative;}#sk-container-id-9 div.sk-text-repr-fallback {display: none;}</style><div id=\"sk-container-id-9\" class=\"sk-top-container\"><div class=\"sk-text-repr-fallback\"><pre>GradientBoostingRegressor(n_estimators=1000, random_state=42)</pre><b>In a Jupyter environment, please rerun this cell to show the HTML representation or trust the notebook. <br />On GitHub, the HTML representation is unable to render, please try loading this page with nbviewer.org.</b></div><div class=\"sk-container\" hidden><div class=\"sk-item\"><div class=\"sk-estimator sk-toggleable\"><input class=\"sk-toggleable__control sk-hidden--visually\" id=\"sk-estimator-id-13\" type=\"checkbox\" checked><label for=\"sk-estimator-id-13\" class=\"sk-toggleable__label sk-toggleable__label-arrow\">GradientBoostingRegressor</label><div class=\"sk-toggleable__content\"><pre>GradientBoostingRegressor(n_estimators=1000, random_state=42)</pre></div></div></div></div></div>"
      ],
      "text/plain": [
       "GradientBoostingRegressor(n_estimators=1000, random_state=42)"
      ]
     },
     "execution_count": 94,
     "metadata": {},
     "output_type": "execute_result"
    }
   ],
   "source": [
    "# Fitting Gradient Boost model over Train data set\n",
    "\n",
    "gb_reg.fit(X_train_s, Y_train)"
   ]
  },
  {
   "cell_type": "code",
   "execution_count": 95,
   "id": "fe7fca45",
   "metadata": {},
   "outputs": [
    {
     "name": "stdout",
     "output_type": "stream",
     "text": [
      "r2 score of test set 0.6447831947605608\n",
      "r2 score of train set 0.9461178456190225\n",
      "Mean_Squared_Error Of Test Set:  67578210.06170993\n",
      "Mean_Squared_Error Of Train Set:  8100331.644635754\n"
     ]
    }
   ],
   "source": [
    "# Calcualting model accuracy for test and train data\n",
    "\n",
    "print('r2 score of test set', r2_score(Y_test, gb_reg.predict(X_test_s)))\n",
    "print('r2 score of train set', r2_score(Y_train, gb_reg.predict(X_train_s)))\n",
    "print('Mean_Squared_Error Of Test Set: ', mean_squared_error(Y_test, gb_reg.predict(X_test_s)))\n",
    "print('Mean_Squared_Error Of Train Set: ', mean_squared_error(Y_train, gb_reg.predict(X_train_s)))"
   ]
  },
  {
   "cell_type": "markdown",
   "id": "8ca7f54b",
   "metadata": {},
   "source": [
    "### Model Interpretation / evaluation\n",
    "Our gradient boosting model has an excellent R² score on the training data (approximately 0.946), indicating a very good fit to the training data. However, this high training R² score could be a sign of overfitting.\n",
    "The R² score on the test data (approximately 0.644) suggests that your model generalizes reasonably well to new, unseen data, but there may still be room for improvement in its predictive performance.\n",
    "The test set MSE of 67578210.06170993 indicates that your model's predictions on the test data are reasonably accurate, though further model tuning and regularization may be beneficial to improve generalization and potentially mitigate overfitting."
   ]
  },
  {
   "cell_type": "markdown",
   "id": "3f830fd0",
   "metadata": {},
   "source": [
    "## XG Boost regressor"
   ]
  },
  {
   "cell_type": "code",
   "execution_count": 96,
   "id": "d1b48f3a",
   "metadata": {},
   "outputs": [],
   "source": [
    "# Creating scaler object which will store the scaling information of our X train\n",
    "\n",
    "scaler = preprocessing.StandardScaler().fit(X_train)"
   ]
  },
  {
   "cell_type": "code",
   "execution_count": 97,
   "id": "7dfb7469",
   "metadata": {},
   "outputs": [],
   "source": [
    "# Transforming our X_train to our X_train_scaler\n",
    "\n",
    "X_train_s = scaler.transform(X_train)\n",
    "\n",
    "\n",
    "# Transforming our X_test to our X_test_scaler\n",
    "\n",
    "X_test_s = scaler.transform(X_test)"
   ]
  },
  {
   "cell_type": "code",
   "execution_count": 98,
   "id": "0e45bf03",
   "metadata": {},
   "outputs": [],
   "source": [
    "# Importing XG Boost\n",
    "\n",
    "import xgboost as xgb"
   ]
  },
  {
   "cell_type": "code",
   "execution_count": 99,
   "id": "fa53b954",
   "metadata": {},
   "outputs": [],
   "source": [
    "# Creating XG Boost regressor object\n",
    "\n",
    "xgb_reg = xgb.XGBRegressor(n_estimators = 2000, learning_rate = 0.02, random_state = 42)"
   ]
  },
  {
   "cell_type": "code",
   "execution_count": 100,
   "id": "e8238c58",
   "metadata": {},
   "outputs": [
    {
     "data": {
      "text/html": [
       "<style>#sk-container-id-10 {color: black;}#sk-container-id-10 pre{padding: 0;}#sk-container-id-10 div.sk-toggleable {background-color: white;}#sk-container-id-10 label.sk-toggleable__label {cursor: pointer;display: block;width: 100%;margin-bottom: 0;padding: 0.3em;box-sizing: border-box;text-align: center;}#sk-container-id-10 label.sk-toggleable__label-arrow:before {content: \"▸\";float: left;margin-right: 0.25em;color: #696969;}#sk-container-id-10 label.sk-toggleable__label-arrow:hover:before {color: black;}#sk-container-id-10 div.sk-estimator:hover label.sk-toggleable__label-arrow:before {color: black;}#sk-container-id-10 div.sk-toggleable__content {max-height: 0;max-width: 0;overflow: hidden;text-align: left;background-color: #f0f8ff;}#sk-container-id-10 div.sk-toggleable__content pre {margin: 0.2em;color: black;border-radius: 0.25em;background-color: #f0f8ff;}#sk-container-id-10 input.sk-toggleable__control:checked~div.sk-toggleable__content {max-height: 200px;max-width: 100%;overflow: auto;}#sk-container-id-10 input.sk-toggleable__control:checked~label.sk-toggleable__label-arrow:before {content: \"▾\";}#sk-container-id-10 div.sk-estimator input.sk-toggleable__control:checked~label.sk-toggleable__label {background-color: #d4ebff;}#sk-container-id-10 div.sk-label input.sk-toggleable__control:checked~label.sk-toggleable__label {background-color: #d4ebff;}#sk-container-id-10 input.sk-hidden--visually {border: 0;clip: rect(1px 1px 1px 1px);clip: rect(1px, 1px, 1px, 1px);height: 1px;margin: -1px;overflow: hidden;padding: 0;position: absolute;width: 1px;}#sk-container-id-10 div.sk-estimator {font-family: monospace;background-color: #f0f8ff;border: 1px dotted black;border-radius: 0.25em;box-sizing: border-box;margin-bottom: 0.5em;}#sk-container-id-10 div.sk-estimator:hover {background-color: #d4ebff;}#sk-container-id-10 div.sk-parallel-item::after {content: \"\";width: 100%;border-bottom: 1px solid gray;flex-grow: 1;}#sk-container-id-10 div.sk-label:hover label.sk-toggleable__label {background-color: #d4ebff;}#sk-container-id-10 div.sk-serial::before {content: \"\";position: absolute;border-left: 1px solid gray;box-sizing: border-box;top: 0;bottom: 0;left: 50%;z-index: 0;}#sk-container-id-10 div.sk-serial {display: flex;flex-direction: column;align-items: center;background-color: white;padding-right: 0.2em;padding-left: 0.2em;position: relative;}#sk-container-id-10 div.sk-item {position: relative;z-index: 1;}#sk-container-id-10 div.sk-parallel {display: flex;align-items: stretch;justify-content: center;background-color: white;position: relative;}#sk-container-id-10 div.sk-item::before, #sk-container-id-10 div.sk-parallel-item::before {content: \"\";position: absolute;border-left: 1px solid gray;box-sizing: border-box;top: 0;bottom: 0;left: 50%;z-index: -1;}#sk-container-id-10 div.sk-parallel-item {display: flex;flex-direction: column;z-index: 1;position: relative;background-color: white;}#sk-container-id-10 div.sk-parallel-item:first-child::after {align-self: flex-end;width: 50%;}#sk-container-id-10 div.sk-parallel-item:last-child::after {align-self: flex-start;width: 50%;}#sk-container-id-10 div.sk-parallel-item:only-child::after {width: 0;}#sk-container-id-10 div.sk-dashed-wrapped {border: 1px dashed gray;margin: 0 0.4em 0.5em 0.4em;box-sizing: border-box;padding-bottom: 0.4em;background-color: white;}#sk-container-id-10 div.sk-label label {font-family: monospace;font-weight: bold;display: inline-block;line-height: 1.2em;}#sk-container-id-10 div.sk-label-container {text-align: center;}#sk-container-id-10 div.sk-container {/* jupyter's `normalize.less` sets `[hidden] { display: none; }` but bootstrap.min.css set `[hidden] { display: none !important; }` so we also need the `!important` here to be able to override the default hidden behavior on the sphinx rendered scikit-learn.org. See: https://github.com/scikit-learn/scikit-learn/issues/21755 */display: inline-block !important;position: relative;}#sk-container-id-10 div.sk-text-repr-fallback {display: none;}</style><div id=\"sk-container-id-10\" class=\"sk-top-container\"><div class=\"sk-text-repr-fallback\"><pre>XGBRegressor(base_score=None, booster=None, callbacks=None,\n",
       "             colsample_bylevel=None, colsample_bynode=None,\n",
       "             colsample_bytree=None, device=None, early_stopping_rounds=None,\n",
       "             enable_categorical=False, eval_metric=None, feature_types=None,\n",
       "             gamma=None, grow_policy=None, importance_type=None,\n",
       "             interaction_constraints=None, learning_rate=0.02, max_bin=None,\n",
       "             max_cat_threshold=None, max_cat_to_onehot=None,\n",
       "             max_delta_step=None, max_depth=None, max_leaves=None,\n",
       "             min_child_weight=None, missing=nan, monotone_constraints=None,\n",
       "             multi_strategy=None, n_estimators=2000, n_jobs=None,\n",
       "             num_parallel_tree=None, random_state=42, ...)</pre><b>In a Jupyter environment, please rerun this cell to show the HTML representation or trust the notebook. <br />On GitHub, the HTML representation is unable to render, please try loading this page with nbviewer.org.</b></div><div class=\"sk-container\" hidden><div class=\"sk-item\"><div class=\"sk-estimator sk-toggleable\"><input class=\"sk-toggleable__control sk-hidden--visually\" id=\"sk-estimator-id-14\" type=\"checkbox\" checked><label for=\"sk-estimator-id-14\" class=\"sk-toggleable__label sk-toggleable__label-arrow\">XGBRegressor</label><div class=\"sk-toggleable__content\"><pre>XGBRegressor(base_score=None, booster=None, callbacks=None,\n",
       "             colsample_bylevel=None, colsample_bynode=None,\n",
       "             colsample_bytree=None, device=None, early_stopping_rounds=None,\n",
       "             enable_categorical=False, eval_metric=None, feature_types=None,\n",
       "             gamma=None, grow_policy=None, importance_type=None,\n",
       "             interaction_constraints=None, learning_rate=0.02, max_bin=None,\n",
       "             max_cat_threshold=None, max_cat_to_onehot=None,\n",
       "             max_delta_step=None, max_depth=None, max_leaves=None,\n",
       "             min_child_weight=None, missing=nan, monotone_constraints=None,\n",
       "             multi_strategy=None, n_estimators=2000, n_jobs=None,\n",
       "             num_parallel_tree=None, random_state=42, ...)</pre></div></div></div></div></div>"
      ],
      "text/plain": [
       "XGBRegressor(base_score=None, booster=None, callbacks=None,\n",
       "             colsample_bylevel=None, colsample_bynode=None,\n",
       "             colsample_bytree=None, device=None, early_stopping_rounds=None,\n",
       "             enable_categorical=False, eval_metric=None, feature_types=None,\n",
       "             gamma=None, grow_policy=None, importance_type=None,\n",
       "             interaction_constraints=None, learning_rate=0.02, max_bin=None,\n",
       "             max_cat_threshold=None, max_cat_to_onehot=None,\n",
       "             max_delta_step=None, max_depth=None, max_leaves=None,\n",
       "             min_child_weight=None, missing=nan, monotone_constraints=None,\n",
       "             multi_strategy=None, n_estimators=2000, n_jobs=None,\n",
       "             num_parallel_tree=None, random_state=42, ...)"
      ]
     },
     "execution_count": 100,
     "metadata": {},
     "output_type": "execute_result"
    }
   ],
   "source": [
    "# Fitting our XG Boost model over train data set\n",
    "\n",
    "xgb_reg.fit(X_train_s, Y_train)"
   ]
  },
  {
   "cell_type": "code",
   "execution_count": 101,
   "id": "a66621c3",
   "metadata": {},
   "outputs": [
    {
     "name": "stdout",
     "output_type": "stream",
     "text": [
      "r2 score of test set 0.6239242315896295\n",
      "r2 score of train set 0.9914750858173899\n",
      "Mean_Squared_Error Of Test Set:  71546522.86122541\n",
      "Mean_Squared_Error Of Train Set:  1281586.3232369197\n"
     ]
    }
   ],
   "source": [
    "# Calcualting model accuracy for test and train data\n",
    "\n",
    "print('r2 score of test set', r2_score(Y_test, xgb_reg.predict(X_test_s)))\n",
    "print('r2 score of train set', r2_score(Y_train, xgb_reg.predict(X_train_s)))\n",
    "print('Mean_Squared_Error Of Test Set: ', mean_squared_error(Y_test, xgb_reg.predict(X_test_s)))\n",
    "print('Mean_Squared_Error Of Train Set: ', mean_squared_error(Y_train, xgb_reg.predict(X_train_s)))"
   ]
  },
  {
   "cell_type": "markdown",
   "id": "6adda23e",
   "metadata": {},
   "source": [
    "### Model Interpretation / evaluation\n",
    "The high R2 score on the training set (0.991) indicates that the model is fitting the training data very well. This could be a sign of overfitting, where the model may perform exceptionally well on the training data but not generalize well to unseen data.\n",
    "\n",
    "The R2 score on the test set (0.623) is significantly lower than the training set, which suggests that the model might be overfitting. In an ideal scenario, you would want both the training and test R2 scores to be close to each other.\n",
    "\n",
    "The high MSE on the test set (71546522.86122541) indicates that the model's predictions on the test data have relatively large errors. This could be due to overfitting and a lack of generalization."
   ]
  },
  {
   "cell_type": "markdown",
   "id": "c8d814a9",
   "metadata": {},
   "source": [
    "## XG Boost regressor - Grid Search"
   ]
  },
  {
   "cell_type": "code",
   "execution_count": 102,
   "id": "cd37d75b",
   "metadata": {},
   "outputs": [],
   "source": [
    "# Craeting XG Boost regressor model object\n",
    "\n",
    "xgb_reg2 = xgb.XGBRegressor(random_state = 42)"
   ]
  },
  {
   "cell_type": "code",
   "execution_count": 103,
   "id": "e678a0fe",
   "metadata": {},
   "outputs": [],
   "source": [
    "# creating Dictionary of hyperparameters for XG Boost to use in grid search\n",
    "\n",
    "param_test = {'n_estimators' : [500, 1000, 1500, 2000], # Number of sub trees we want\n",
    "              'learning_rate': np.arange(0.01,0.1,0.01), # fixing learning rate value 0.01 to 0.1\n",
    "              }"
   ]
  },
  {
   "cell_type": "code",
   "execution_count": 104,
   "id": "06b1d7f1",
   "metadata": {},
   "outputs": [],
   "source": [
    "# performing grid search with estimator : XG Boost and cross validation 5\n",
    "\n",
    "grid_search3 = GridSearchCV(xgb_reg2, param_test, cv = 5, n_jobs = -1)"
   ]
  },
  {
   "cell_type": "code",
   "execution_count": 105,
   "id": "95df4a9a",
   "metadata": {},
   "outputs": [
    {
     "data": {
      "text/html": [
       "<style>#sk-container-id-11 {color: black;}#sk-container-id-11 pre{padding: 0;}#sk-container-id-11 div.sk-toggleable {background-color: white;}#sk-container-id-11 label.sk-toggleable__label {cursor: pointer;display: block;width: 100%;margin-bottom: 0;padding: 0.3em;box-sizing: border-box;text-align: center;}#sk-container-id-11 label.sk-toggleable__label-arrow:before {content: \"▸\";float: left;margin-right: 0.25em;color: #696969;}#sk-container-id-11 label.sk-toggleable__label-arrow:hover:before {color: black;}#sk-container-id-11 div.sk-estimator:hover label.sk-toggleable__label-arrow:before {color: black;}#sk-container-id-11 div.sk-toggleable__content {max-height: 0;max-width: 0;overflow: hidden;text-align: left;background-color: #f0f8ff;}#sk-container-id-11 div.sk-toggleable__content pre {margin: 0.2em;color: black;border-radius: 0.25em;background-color: #f0f8ff;}#sk-container-id-11 input.sk-toggleable__control:checked~div.sk-toggleable__content {max-height: 200px;max-width: 100%;overflow: auto;}#sk-container-id-11 input.sk-toggleable__control:checked~label.sk-toggleable__label-arrow:before {content: \"▾\";}#sk-container-id-11 div.sk-estimator input.sk-toggleable__control:checked~label.sk-toggleable__label {background-color: #d4ebff;}#sk-container-id-11 div.sk-label input.sk-toggleable__control:checked~label.sk-toggleable__label {background-color: #d4ebff;}#sk-container-id-11 input.sk-hidden--visually {border: 0;clip: rect(1px 1px 1px 1px);clip: rect(1px, 1px, 1px, 1px);height: 1px;margin: -1px;overflow: hidden;padding: 0;position: absolute;width: 1px;}#sk-container-id-11 div.sk-estimator {font-family: monospace;background-color: #f0f8ff;border: 1px dotted black;border-radius: 0.25em;box-sizing: border-box;margin-bottom: 0.5em;}#sk-container-id-11 div.sk-estimator:hover {background-color: #d4ebff;}#sk-container-id-11 div.sk-parallel-item::after {content: \"\";width: 100%;border-bottom: 1px solid gray;flex-grow: 1;}#sk-container-id-11 div.sk-label:hover label.sk-toggleable__label {background-color: #d4ebff;}#sk-container-id-11 div.sk-serial::before {content: \"\";position: absolute;border-left: 1px solid gray;box-sizing: border-box;top: 0;bottom: 0;left: 50%;z-index: 0;}#sk-container-id-11 div.sk-serial {display: flex;flex-direction: column;align-items: center;background-color: white;padding-right: 0.2em;padding-left: 0.2em;position: relative;}#sk-container-id-11 div.sk-item {position: relative;z-index: 1;}#sk-container-id-11 div.sk-parallel {display: flex;align-items: stretch;justify-content: center;background-color: white;position: relative;}#sk-container-id-11 div.sk-item::before, #sk-container-id-11 div.sk-parallel-item::before {content: \"\";position: absolute;border-left: 1px solid gray;box-sizing: border-box;top: 0;bottom: 0;left: 50%;z-index: -1;}#sk-container-id-11 div.sk-parallel-item {display: flex;flex-direction: column;z-index: 1;position: relative;background-color: white;}#sk-container-id-11 div.sk-parallel-item:first-child::after {align-self: flex-end;width: 50%;}#sk-container-id-11 div.sk-parallel-item:last-child::after {align-self: flex-start;width: 50%;}#sk-container-id-11 div.sk-parallel-item:only-child::after {width: 0;}#sk-container-id-11 div.sk-dashed-wrapped {border: 1px dashed gray;margin: 0 0.4em 0.5em 0.4em;box-sizing: border-box;padding-bottom: 0.4em;background-color: white;}#sk-container-id-11 div.sk-label label {font-family: monospace;font-weight: bold;display: inline-block;line-height: 1.2em;}#sk-container-id-11 div.sk-label-container {text-align: center;}#sk-container-id-11 div.sk-container {/* jupyter's `normalize.less` sets `[hidden] { display: none; }` but bootstrap.min.css set `[hidden] { display: none !important; }` so we also need the `!important` here to be able to override the default hidden behavior on the sphinx rendered scikit-learn.org. See: https://github.com/scikit-learn/scikit-learn/issues/21755 */display: inline-block !important;position: relative;}#sk-container-id-11 div.sk-text-repr-fallback {display: none;}</style><div id=\"sk-container-id-11\" class=\"sk-top-container\"><div class=\"sk-text-repr-fallback\"><pre>GridSearchCV(cv=5,\n",
       "             estimator=XGBRegressor(base_score=None, booster=None,\n",
       "                                    callbacks=None, colsample_bylevel=None,\n",
       "                                    colsample_bynode=None,\n",
       "                                    colsample_bytree=None, device=None,\n",
       "                                    early_stopping_rounds=None,\n",
       "                                    enable_categorical=False, eval_metric=None,\n",
       "                                    feature_types=None, gamma=None,\n",
       "                                    grow_policy=None, importance_type=None,\n",
       "                                    interaction_constraints=None,\n",
       "                                    learning_rate=None, m...\n",
       "                                    max_cat_to_onehot=None, max_delta_step=None,\n",
       "                                    max_depth=None, max_leaves=None,\n",
       "                                    min_child_weight=None, missing=nan,\n",
       "                                    monotone_constraints=None,\n",
       "                                    multi_strategy=None, n_estimators=None,\n",
       "                                    n_jobs=None, num_parallel_tree=None,\n",
       "                                    random_state=42, ...),\n",
       "             n_jobs=-1,\n",
       "             param_grid={&#x27;learning_rate&#x27;: array([0.01, 0.02, 0.03, 0.04, 0.05, 0.06, 0.07, 0.08, 0.09]),\n",
       "                         &#x27;n_estimators&#x27;: [500, 1000, 1500, 2000]})</pre><b>In a Jupyter environment, please rerun this cell to show the HTML representation or trust the notebook. <br />On GitHub, the HTML representation is unable to render, please try loading this page with nbviewer.org.</b></div><div class=\"sk-container\" hidden><div class=\"sk-item sk-dashed-wrapped\"><div class=\"sk-label-container\"><div class=\"sk-label sk-toggleable\"><input class=\"sk-toggleable__control sk-hidden--visually\" id=\"sk-estimator-id-15\" type=\"checkbox\" ><label for=\"sk-estimator-id-15\" class=\"sk-toggleable__label sk-toggleable__label-arrow\">GridSearchCV</label><div class=\"sk-toggleable__content\"><pre>GridSearchCV(cv=5,\n",
       "             estimator=XGBRegressor(base_score=None, booster=None,\n",
       "                                    callbacks=None, colsample_bylevel=None,\n",
       "                                    colsample_bynode=None,\n",
       "                                    colsample_bytree=None, device=None,\n",
       "                                    early_stopping_rounds=None,\n",
       "                                    enable_categorical=False, eval_metric=None,\n",
       "                                    feature_types=None, gamma=None,\n",
       "                                    grow_policy=None, importance_type=None,\n",
       "                                    interaction_constraints=None,\n",
       "                                    learning_rate=None, m...\n",
       "                                    max_cat_to_onehot=None, max_delta_step=None,\n",
       "                                    max_depth=None, max_leaves=None,\n",
       "                                    min_child_weight=None, missing=nan,\n",
       "                                    monotone_constraints=None,\n",
       "                                    multi_strategy=None, n_estimators=None,\n",
       "                                    n_jobs=None, num_parallel_tree=None,\n",
       "                                    random_state=42, ...),\n",
       "             n_jobs=-1,\n",
       "             param_grid={&#x27;learning_rate&#x27;: array([0.01, 0.02, 0.03, 0.04, 0.05, 0.06, 0.07, 0.08, 0.09]),\n",
       "                         &#x27;n_estimators&#x27;: [500, 1000, 1500, 2000]})</pre></div></div></div><div class=\"sk-parallel\"><div class=\"sk-parallel-item\"><div class=\"sk-item\"><div class=\"sk-label-container\"><div class=\"sk-label sk-toggleable\"><input class=\"sk-toggleable__control sk-hidden--visually\" id=\"sk-estimator-id-16\" type=\"checkbox\" ><label for=\"sk-estimator-id-16\" class=\"sk-toggleable__label sk-toggleable__label-arrow\">estimator: XGBRegressor</label><div class=\"sk-toggleable__content\"><pre>XGBRegressor(base_score=None, booster=None, callbacks=None,\n",
       "             colsample_bylevel=None, colsample_bynode=None,\n",
       "             colsample_bytree=None, device=None, early_stopping_rounds=None,\n",
       "             enable_categorical=False, eval_metric=None, feature_types=None,\n",
       "             gamma=None, grow_policy=None, importance_type=None,\n",
       "             interaction_constraints=None, learning_rate=None, max_bin=None,\n",
       "             max_cat_threshold=None, max_cat_to_onehot=None,\n",
       "             max_delta_step=None, max_depth=None, max_leaves=None,\n",
       "             min_child_weight=None, missing=nan, monotone_constraints=None,\n",
       "             multi_strategy=None, n_estimators=None, n_jobs=None,\n",
       "             num_parallel_tree=None, random_state=42, ...)</pre></div></div></div><div class=\"sk-serial\"><div class=\"sk-item\"><div class=\"sk-estimator sk-toggleable\"><input class=\"sk-toggleable__control sk-hidden--visually\" id=\"sk-estimator-id-17\" type=\"checkbox\" ><label for=\"sk-estimator-id-17\" class=\"sk-toggleable__label sk-toggleable__label-arrow\">XGBRegressor</label><div class=\"sk-toggleable__content\"><pre>XGBRegressor(base_score=None, booster=None, callbacks=None,\n",
       "             colsample_bylevel=None, colsample_bynode=None,\n",
       "             colsample_bytree=None, device=None, early_stopping_rounds=None,\n",
       "             enable_categorical=False, eval_metric=None, feature_types=None,\n",
       "             gamma=None, grow_policy=None, importance_type=None,\n",
       "             interaction_constraints=None, learning_rate=None, max_bin=None,\n",
       "             max_cat_threshold=None, max_cat_to_onehot=None,\n",
       "             max_delta_step=None, max_depth=None, max_leaves=None,\n",
       "             min_child_weight=None, missing=nan, monotone_constraints=None,\n",
       "             multi_strategy=None, n_estimators=None, n_jobs=None,\n",
       "             num_parallel_tree=None, random_state=42, ...)</pre></div></div></div></div></div></div></div></div></div></div>"
      ],
      "text/plain": [
       "GridSearchCV(cv=5,\n",
       "             estimator=XGBRegressor(base_score=None, booster=None,\n",
       "                                    callbacks=None, colsample_bylevel=None,\n",
       "                                    colsample_bynode=None,\n",
       "                                    colsample_bytree=None, device=None,\n",
       "                                    early_stopping_rounds=None,\n",
       "                                    enable_categorical=False, eval_metric=None,\n",
       "                                    feature_types=None, gamma=None,\n",
       "                                    grow_policy=None, importance_type=None,\n",
       "                                    interaction_constraints=None,\n",
       "                                    learning_rate=None, m...\n",
       "                                    max_cat_to_onehot=None, max_delta_step=None,\n",
       "                                    max_depth=None, max_leaves=None,\n",
       "                                    min_child_weight=None, missing=nan,\n",
       "                                    monotone_constraints=None,\n",
       "                                    multi_strategy=None, n_estimators=None,\n",
       "                                    n_jobs=None, num_parallel_tree=None,\n",
       "                                    random_state=42, ...),\n",
       "             n_jobs=-1,\n",
       "             param_grid={'learning_rate': array([0.01, 0.02, 0.03, 0.04, 0.05, 0.06, 0.07, 0.08, 0.09]),\n",
       "                         'n_estimators': [500, 1000, 1500, 2000]})"
      ]
     },
     "execution_count": 105,
     "metadata": {},
     "output_type": "execute_result"
    }
   ],
   "source": [
    "# Fitting our XG Boost model over Train data set\n",
    "\n",
    "grid_search3.fit(X_train_s, Y_train)"
   ]
  },
  {
   "cell_type": "code",
   "execution_count": 106,
   "id": "1b1fb196",
   "metadata": {},
   "outputs": [
    {
     "data": {
      "text/plain": [
       "{'learning_rate': 0.01, 'n_estimators': 500}"
      ]
     },
     "execution_count": 106,
     "metadata": {},
     "output_type": "execute_result"
    }
   ],
   "source": [
    "# Calculating and displaying best params \n",
    "\n",
    "grid_search3.best_params_"
   ]
  },
  {
   "cell_type": "code",
   "execution_count": 107,
   "id": "ef22bc66",
   "metadata": {},
   "outputs": [],
   "source": [
    "# Calculating and storing best estimator model in a new object\n",
    "\n",
    "gs_xgb_reg = grid_search3.best_estimator_"
   ]
  },
  {
   "cell_type": "code",
   "execution_count": 108,
   "id": "23bba19b",
   "metadata": {},
   "outputs": [
    {
     "name": "stdout",
     "output_type": "stream",
     "text": [
      "r2 score of test set 0.604307369939011\n",
      "r2 score of train set 0.8321083705610522\n",
      "Mean_Squared_Error Of Test Set:  75278532.09565172\n",
      "Mean_Squared_Error Of Train Set:  25239857.137076378\n"
     ]
    }
   ],
   "source": [
    "# Calcualting model accuracy for test and train data\n",
    "\n",
    "print('r2 score of test set', r2_score(Y_test, gs_xgb_reg.predict(X_test_s)))\n",
    "print('r2 score of train set', r2_score(Y_train, gs_xgb_reg.predict(X_train_s)))\n",
    "print('Mean_Squared_Error Of Test Set: ', mean_squared_error(Y_test, gs_xgb_reg.predict(X_test_s)))\n",
    "print('Mean_Squared_Error Of Train Set: ', mean_squared_error(Y_train, gs_xgb_reg.predict(X_train_s)))"
   ]
  },
  {
   "cell_type": "markdown",
   "id": "6c5c7cfe",
   "metadata": {},
   "source": [
    "## Model Interpretation / evaluation\n",
    "Our XG Boost regression model performs quite well on the training data, as indicated by the high R² score of approximately 0.821.\n",
    "The R² score on the test data (approximately 0.604) suggests that model generalizes reasonably well to new, new data, but there may still be room for improvement in its predictive performance.\n",
    "The test set MSE of 75278532.09565172 indicates that model's predictions on the test data are reasonably accurate, though further model tuning and regularization may be beneficial to improve generalization and potentially reduce the MSE."
   ]
  },
  {
   "cell_type": "markdown",
   "id": "75aacbe0",
   "metadata": {},
   "source": [
    "# Plotting visualization of MSE & R-Squared of all models"
   ]
  },
  {
   "cell_type": "code",
   "execution_count": 109,
   "id": "ba0ed3cd",
   "metadata": {},
   "outputs": [],
   "source": [
    "# Importing matplot library\n",
    "\n",
    "import matplotlib.pyplot as plt"
   ]
  },
  {
   "cell_type": "code",
   "execution_count": 110,
   "id": "b521f66a",
   "metadata": {},
   "outputs": [
    {
     "data": {
      "image/png": "[encoded data removed]",
      "text/plain": [
       "<Figure size 1000x600 with 1 Axes>"
      ]
     },
     "metadata": {},
     "output_type": "display_data"
    },
    {
     "data": {
      "image/png": "[encoded data removed]",
      "text/plain": [
       "<Figure size 1000x600 with 1 Axes>"
      ]
     },
     "metadata": {},
     "output_type": "display_data"
    }
   ],
   "source": [
    "# Storing all models performance metrics in a DataFrame\n",
    "models = ['linear_model', 'Ridge','Ridge_VC','Lasso','KKN','KNN_GS','Random_forest','RandomF_GS','Gradient_B','XG_Boost', 'XGB_GS']  # Replace with actual model names\n",
    "mse_values = [77362774.94, 77370466.68, 77529067.62, 77366087.44, 42160461.43, 55265635.68, 68960174.80, 68960174.80, 67706403.50, 66087760.61, 67540328.26]  # Replace with actual MSE values\n",
    "r2_values = [0.5933517958385074, 0.5933113651558912, 0.5924776982033093, 0.5933343840895651,0.5314437638443239,0.6177763546987296, 0.6375190618183141,0.6375190618183142,0.6441093611891296, 0.6526175646079968, 0.6449823158879611]  # Replace with actual R-squared values\n",
    "\n",
    "# Plotting Mean Squared Error of each model\n",
    "plt.figure(figsize=(10, 6))\n",
    "plt.bar(models, mse_values, color='orange')\n",
    "plt.xlabel('Model')\n",
    "plt.ylabel('Mean Squared Error (MSE)')\n",
    "plt.title('Mean Squared Error for Each Model')\n",
    "plt.xticks(rotation=45, ha='right')\n",
    "plt.tight_layout()\n",
    "plt.show()\n",
    "\n",
    "# Plotting r2 of each model\n",
    "plt.figure(figsize=(10, 6))\n",
    "plt.bar(models, r2_values, color='pink')\n",
    "plt.xlabel('Model')\n",
    "plt.ylabel('R-squared')\n",
    "plt.title('R-squared for Each Model')\n",
    "# Set the x-axis label alignment to center\n",
    "plt.xticks(rotation=45, ha='right')\n",
    "plt.tight_layout()"
   ]
  },
  {
   "cell_type": "markdown",
   "id": "f1fce598",
   "metadata": {},
   "source": [
    "### Evaluation :\n",
    "I discovered that XG Boost is the best model for accuracy after comparing the visualisation graphs of mean_squared_error and coefficient of determination (r-squared) for each model. Among all the models, the XG Boost model has the greatest R2 score and the lowest MSE."
   ]
  },
  {
   "cell_type": "markdown",
   "id": "91ce0c0d",
   "metadata": {},
   "source": [
    "# Model prediction on Demo data"
   ]
  },
  {
   "cell_type": "code",
   "execution_count": 111,
   "id": "a86a035d",
   "metadata": {},
   "outputs": [],
   "source": [
    "# Creating data set for prediction (CTC)\n",
    "\n",
    "new_data = pd.DataFrame({'College' : [2,1,3],\n",
    "                          'City' : [0,1,1],\n",
    "                          'Previous CTC' : [67500, 80000, 56000],\n",
    "                          'Previous job change' : [4,2,3],\n",
    "                          'Graduation Marks' : [82, 58, 47],\n",
    "                          'EXP (Month)' : [12, 16, 24],\n",
    "                          'Role_Manager' : [1, 0, 1]\n",
    "                         })"
   ]
  },
  {
   "cell_type": "code",
   "execution_count": 113,
   "id": "2e82fa48",
   "metadata": {},
   "outputs": [
    {
     "data": {
      "text/html": [
       "<div>\n",
       "<style scoped>\n",
       "    .dataframe tbody tr th:only-of-type {\n",
       "        vertical-align: middle;\n",
       "    }\n",
       "\n",
       "    .dataframe tbody tr th {\n",
       "        vertical-align: top;\n",
       "    }\n",
       "\n",
       "    .dataframe thead th {\n",
       "        text-align: right;\n",
       "    }\n",
       "</style>\n",
       "<table border=\"1\" class=\"dataframe\">\n",
       "  <thead>\n",
       "    <tr style=\"text-align: right;\">\n",
       "      <th></th>\n",
       "      <th>College</th>\n",
       "      <th>City</th>\n",
       "      <th>Previous CTC</th>\n",
       "      <th>Previous job change</th>\n",
       "      <th>Graduation Marks</th>\n",
       "      <th>EXP (Month)</th>\n",
       "      <th>Role_Manager</th>\n",
       "    </tr>\n",
       "  </thead>\n",
       "  <tbody>\n",
       "    <tr>\n",
       "      <th>0</th>\n",
       "      <td>2</td>\n",
       "      <td>0</td>\n",
       "      <td>67500</td>\n",
       "      <td>4</td>\n",
       "      <td>82</td>\n",
       "      <td>12</td>\n",
       "      <td>1</td>\n",
       "    </tr>\n",
       "    <tr>\n",
       "      <th>1</th>\n",
       "      <td>1</td>\n",
       "      <td>1</td>\n",
       "      <td>80000</td>\n",
       "      <td>2</td>\n",
       "      <td>58</td>\n",
       "      <td>16</td>\n",
       "      <td>0</td>\n",
       "    </tr>\n",
       "    <tr>\n",
       "      <th>2</th>\n",
       "      <td>3</td>\n",
       "      <td>1</td>\n",
       "      <td>56000</td>\n",
       "      <td>3</td>\n",
       "      <td>47</td>\n",
       "      <td>24</td>\n",
       "      <td>1</td>\n",
       "    </tr>\n",
       "  </tbody>\n",
       "</table>\n",
       "</div>"
      ],
      "text/plain": [
       "   College  City  Previous CTC  Previous job change  Graduation Marks  \\\n",
       "0        2     0         67500                    4                82   \n",
       "1        1     1         80000                    2                58   \n",
       "2        3     1         56000                    3                47   \n",
       "\n",
       "   EXP (Month)  Role_Manager  \n",
       "0           12             1  \n",
       "1           16             0  \n",
       "2           24             1  "
      ]
     },
     "execution_count": 113,
     "metadata": {},
     "output_type": "execute_result"
    }
   ],
   "source": [
    "# Printing demo_Data\n",
    "\n",
    "new_data"
   ]
  },
  {
   "cell_type": "code",
   "execution_count": 114,
   "id": "e1899fc8",
   "metadata": {},
   "outputs": [],
   "source": [
    "# Standardizing our demo data set \n",
    "\n",
    "scaler = preprocessing.StandardScaler().fit(new_data)"
   ]
  },
  {
   "cell_type": "code",
   "execution_count": 115,
   "id": "3feac89e",
   "metadata": {},
   "outputs": [],
   "source": [
    "# transfering scaled properties using scaler in demo_data_s object\n",
    "\n",
    "new_data_s = scaler.transform(new_data)"
   ]
  },
  {
   "cell_type": "code",
   "execution_count": 116,
   "id": "98564d10",
   "metadata": {},
   "outputs": [
    {
     "data": {
      "text/plain": [
       "array([[ 0.        , -1.41421356, -0.03401085,  1.22474487,  1.34578387,\n",
       "        -1.06904497,  0.70710678],\n",
       "       [-1.22474487,  0.70710678,  1.24139607, -1.22474487, -0.29652865,\n",
       "        -0.26726124, -1.41421356],\n",
       "       [ 1.22474487,  0.70710678, -1.20738522,  0.        , -1.04925522,\n",
       "         1.33630621,  0.70710678]])"
      ]
     },
     "execution_count": 116,
     "metadata": {},
     "output_type": "execute_result"
    }
   ],
   "source": [
    "# Printing scaled variable values\n",
    "\n",
    "new_data_s"
   ]
  },
  {
   "cell_type": "markdown",
   "id": "00ca3e53",
   "metadata": {},
   "source": [
    "## Prediciting salary using my best model - XG Boost"
   ]
  },
  {
   "cell_type": "code",
   "execution_count": 117,
   "id": "ba57b41c",
   "metadata": {},
   "outputs": [],
   "source": [
    "# Predicting salary using XG Boost and storing it in a variable.\n",
    "\n",
    "predicted_ctc = xgb_reg.predict(new_data_s)"
   ]
  },
  {
   "cell_type": "code",
   "execution_count": 118,
   "id": "e401b640",
   "metadata": {},
   "outputs": [
    {
     "name": "stdout",
     "output_type": "stream",
     "text": [
      "Predicted CTC Using XG Boost Model is :  [71324.41  68956.84  76078.016]\n"
     ]
    }
   ],
   "source": [
    "# Printing predicted salary\n",
    "\n",
    "print('Predicted CTC Using XG Boost Model is : ', predicted_ctc)\n"
   ]
  },
  {
   "cell_type": "code",
   "execution_count": null,
   "id": "b1e14b53",
   "metadata": {},
   "outputs": [],
   "source": []
  }
 ],
 "metadata": {
  "kernelspec": {
   "display_name": "Python 3 (ipykernel)",
   "language": "python",
   "name": "python3"
  },
  "language_info": {
   "codemirror_mode": {
    "name": "ipython",
    "version": 3
   },
   "file_extension": ".py",
   "mimetype": "text/x-python",
   "name": "python",
   "nbconvert_exporter": "python",
   "pygments_lexer": "ipython3",
   "version": "3.11.5"
  }
 },
 "nbformat": 4,
 "nbformat_minor": 5
}
